{
 "cells": [
  {
   "cell_type": "code",
   "execution_count": 0,
   "metadata": {
    "application/vnd.databricks.v1+cell": {
     "cellMetadata": {
      "byteLimit": 2048000,
      "rowLimit": 10000
     },
     "inputWidgets": {},
     "nuid": "80968e2e-65b4-45c9-b876-86b8d6136886",
     "showTitle": true,
     "title": "Importing Required Libraries"
    }
   },
   "outputs": [],
   "source": [
    "import pyspark\n",
    "from pyspark.sql import SparkSession\n",
    "from pyspark.sql.types import StructType,StructField,StringType,IntegerType\n",
    "from pyspark.sql.functions import *"
   ]
  },
  {
   "cell_type": "code",
   "execution_count": 0,
   "metadata": {
    "application/vnd.databricks.v1+cell": {
     "cellMetadata": {
      "byteLimit": 2048000,
      "rowLimit": 10000
     },
     "inputWidgets": {},
     "nuid": "2af4837d-9553-477d-9efa-9be34afcbc4c",
     "showTitle": true,
     "title": "Uploaded the File to Databricks using Add Data and Reading it using Spark"
    }
   },
   "outputs": [],
   "source": [
    "df=spark.read.load('/FileStore/tables/googleplaystore.csv',format='csv',sep=',',header='true',escape='\"',inferschema='true')"
   ]
  },
  {
   "cell_type": "code",
   "execution_count": 0,
   "metadata": {
    "application/vnd.databricks.v1+cell": {
     "cellMetadata": {
      "byteLimit": 2048000,
      "rowLimit": 10000
     },
     "inputWidgets": {},
     "nuid": "9d15b5f6-2483-453e-9026-0686178cabe9",
     "showTitle": true,
     "title": "Counting Number of Rows"
    }
   },
   "outputs": [
    {
     "output_type": "execute_result",
     "data": {
      "text/plain": [
       "10841"
      ]
     },
     "execution_count": 13,
     "metadata": {},
     "output_type": "execute_result"
    }
   ],
   "source": [
    "df.count()"
   ]
  },
  {
   "cell_type": "code",
   "execution_count": 0,
   "metadata": {
    "application/vnd.databricks.v1+cell": {
     "cellMetadata": {
      "byteLimit": 2048000,
      "rowLimit": 10000
     },
     "inputWidgets": {},
     "nuid": "32d1df67-3af3-4273-8b54-512210d6f2a9",
     "showTitle": true,
     "title": "See the Type of Data in Rows and Columns "
    }
   },
   "outputs": [
    {
     "output_type": "stream",
     "name": "stdout",
     "output_type": "stream",
     "text": [
      "+--------------------+--------------+------+-------+----+--------+----+-----+--------------+------------+---------------+-----------+------------+\n|                 App|      Category|Rating|Reviews|Size|Installs|Type|Price|Content Rating|      Genres|   Last Updated|Current Ver| Android Ver|\n+--------------------+--------------+------+-------+----+--------+----+-----+--------------+------------+---------------+-----------+------------+\n|Photo Editor & Ca...|ART_AND_DESIGN|   4.1|    159| 19M| 10,000+|Free|    0|      Everyone|Art & Design|January 7, 2018|      1.0.0|4.0.3 and up|\n+--------------------+--------------+------+-------+----+--------+----+-----+--------------+------------+---------------+-----------+------------+\nonly showing top 1 row\n\n"
     ]
    }
   ],
   "source": [
    "df.show(1)"
   ]
  },
  {
   "cell_type": "code",
   "execution_count": 0,
   "metadata": {
    "application/vnd.databricks.v1+cell": {
     "cellMetadata": {
      "byteLimit": 2048000,
      "rowLimit": 10000
     },
     "inputWidgets": {},
     "nuid": "c3d1e35d-74db-4fd1-9897-f7e4660dc4d4",
     "showTitle": true,
     "title": "See the Schema of the Table or DataFrame"
    }
   },
   "outputs": [
    {
     "output_type": "stream",
     "name": "stdout",
     "output_type": "stream",
     "text": [
      "root\n |-- App: string (nullable = true)\n |-- Category: string (nullable = true)\n |-- Rating: double (nullable = true)\n |-- Reviews: string (nullable = true)\n |-- Size: string (nullable = true)\n |-- Installs: string (nullable = true)\n |-- Type: string (nullable = true)\n |-- Price: string (nullable = true)\n |-- Content Rating: string (nullable = true)\n |-- Genres: string (nullable = true)\n |-- Last Updated: string (nullable = true)\n |-- Current Ver: string (nullable = true)\n |-- Android Ver: string (nullable = true)\n\n"
     ]
    }
   ],
   "source": [
    "df.printSchema()"
   ]
  },
  {
   "cell_type": "code",
   "execution_count": 0,
   "metadata": {
    "application/vnd.databricks.v1+cell": {
     "cellMetadata": {
      "byteLimit": 2048000,
      "rowLimit": 10000
     },
     "inputWidgets": {},
     "nuid": "73b7f8a2-e7ba-4d6b-9945-8b339f499db4",
     "showTitle": true,
     "title": "Removing Irrelevant Columns to Simplify the DataFrame"
    }
   },
   "outputs": [],
   "source": [
    "# Data Cleaning Step \n",
    "\n",
    "df=df.drop(\"size\",\"Content Rating\",\"Last Updated\",\"Android Ver\")"
   ]
  },
  {
   "cell_type": "code",
   "execution_count": 0,
   "metadata": {
    "application/vnd.databricks.v1+cell": {
     "cellMetadata": {
      "byteLimit": 2048000,
      "rowLimit": 10000
     },
     "inputWidgets": {},
     "nuid": "7e9f60ab-e07c-4c37-9a20-32ed5aac2c55",
     "showTitle": false,
     "title": ""
    }
   },
   "outputs": [
    {
     "output_type": "stream",
     "name": "stdout",
     "output_type": "stream",
     "text": [
      "root\n |-- App: string (nullable = true)\n |-- Category: string (nullable = true)\n |-- Rating: double (nullable = true)\n |-- Reviews: string (nullable = true)\n |-- Installs: string (nullable = true)\n |-- Type: string (nullable = true)\n |-- Price: string (nullable = true)\n |-- Genres: string (nullable = true)\n |-- Current Ver: string (nullable = true)\n\n"
     ]
    }
   ],
   "source": [
    "df.printSchema()"
   ]
  },
  {
   "cell_type": "code",
   "execution_count": 0,
   "metadata": {
    "application/vnd.databricks.v1+cell": {
     "cellMetadata": {
      "byteLimit": 2048000,
      "rowLimit": 10000
     },
     "inputWidgets": {},
     "nuid": "5159f01c-12c3-4152-b6b6-59975586617c",
     "showTitle": true,
     "title": "Dropping the Column Current Ver Using Drop Command"
    }
   },
   "outputs": [],
   "source": [
    "df=df.drop(\"Current Ver\")"
   ]
  },
  {
   "cell_type": "code",
   "execution_count": 0,
   "metadata": {
    "application/vnd.databricks.v1+cell": {
     "cellMetadata": {
      "byteLimit": 2048000,
      "rowLimit": 10000
     },
     "inputWidgets": {},
     "nuid": "133ac99e-ef01-4624-8340-fbae388c2bb0",
     "showTitle": false,
     "title": ""
    }
   },
   "outputs": [
    {
     "output_type": "stream",
     "name": "stdout",
     "output_type": "stream",
     "text": [
      "root\n |-- App: string (nullable = true)\n |-- Category: string (nullable = true)\n |-- Rating: double (nullable = true)\n |-- Reviews: string (nullable = true)\n |-- Installs: string (nullable = true)\n |-- Type: string (nullable = true)\n |-- Price: string (nullable = true)\n |-- Genres: string (nullable = true)\n\n"
     ]
    }
   ],
   "source": [
    "df.printSchema()"
   ]
  },
  {
   "cell_type": "code",
   "execution_count": 0,
   "metadata": {
    "application/vnd.databricks.v1+cell": {
     "cellMetadata": {
      "byteLimit": 2048000,
      "rowLimit": 10000
     },
     "inputWidgets": {},
     "nuid": "64af4bc8-76ec-44b8-952e-93834832924f",
     "showTitle": true,
     "title": "Removed Extra Characters and Transformed the Data"
    }
   },
   "outputs": [],
   "source": [
    "df=df.withColumn('Reviews',col('Reviews').cast(IntegerType()))\\\n",
    ".withColumn('installs',regexp_replace(col('Installs'),'[^0-9]',''))\\\n",
    ".withColumn('Installs',col('Installs').cast(IntegerType()))\\\n",
    ".withColumn('Price',regexp_replace(col('Price'),'[$]',''))\\\n",
    ".withColumn('Price',col('Price').cast(IntegerType()))"
   ]
  },
  {
   "cell_type": "code",
   "execution_count": 0,
   "metadata": {
    "application/vnd.databricks.v1+cell": {
     "cellMetadata": {
      "byteLimit": 2048000,
      "rowLimit": 10000
     },
     "inputWidgets": {},
     "nuid": "f0c11c9b-914c-4def-b288-4c68059e3f40",
     "showTitle": false,
     "title": ""
    }
   },
   "outputs": [
    {
     "output_type": "stream",
     "name": "stdout",
     "output_type": "stream",
     "text": [
      "root\n |-- App: string (nullable = true)\n |-- Category: string (nullable = true)\n |-- Rating: double (nullable = true)\n |-- Reviews: integer (nullable = true)\n |-- Installs: integer (nullable = true)\n |-- Type: string (nullable = true)\n |-- Price: integer (nullable = true)\n |-- Genres: string (nullable = true)\n\n"
     ]
    }
   ],
   "source": [
    "df.printSchema()"
   ]
  },
  {
   "cell_type": "code",
   "execution_count": 0,
   "metadata": {
    "application/vnd.databricks.v1+cell": {
     "cellMetadata": {
      "byteLimit": 2048000,
      "rowLimit": 10000
     },
     "inputWidgets": {},
     "nuid": "fa3cbe1d-9910-467b-9304-0a5cb06c603a",
     "showTitle": false,
     "title": ""
    }
   },
   "outputs": [
    {
     "output_type": "stream",
     "name": "stdout",
     "output_type": "stream",
     "text": [
      "+--------------------+--------------+------+-------+--------+----+-----+------------+\n|                 App|      Category|Rating|Reviews|Installs|Type|Price|      Genres|\n+--------------------+--------------+------+-------+--------+----+-----+------------+\n|Photo Editor & Ca...|ART_AND_DESIGN|   4.1|    159|   10000|Free|    0|Art & Design|\n+--------------------+--------------+------+-------+--------+----+-----+------------+\nonly showing top 1 row\n\n"
     ]
    }
   ],
   "source": [
    "df.show(1)"
   ]
  },
  {
   "cell_type": "code",
   "execution_count": 0,
   "metadata": {
    "application/vnd.databricks.v1+cell": {
     "cellMetadata": {
      "byteLimit": 2048000,
      "rowLimit": 10000
     },
     "inputWidgets": {},
     "nuid": "5426badb-940e-4e50-8727-cd704641391a",
     "showTitle": true,
     "title": "Creating View on top of DataFrame to Do analysis"
    }
   },
   "outputs": [],
   "source": [
    "df.createOrReplaceTempView(\"apps\")"
   ]
  },
  {
   "cell_type": "code",
   "execution_count": 0,
   "metadata": {
    "application/vnd.databricks.v1+cell": {
     "cellMetadata": {
      "byteLimit": 2048000,
      "implicitDf": true,
      "rowLimit": 10000
     },
     "inputWidgets": {},
     "nuid": "0ef067b8-3a9b-45c7-9ec9-366ca006334f",
     "showTitle": true,
     "title": "Running the Sql Quries to Solve the Business Requirements"
    }
   },
   "outputs": [
    {
     "output_type": "display_data",
     "data": {
      "text/html": [
       "<style scoped>\n",
       "  .table-result-container {\n",
       "    max-height: 300px;\n",
       "    overflow: auto;\n",
       "  }\n",
       "  table, th, td {\n",
       "    border: 1px solid black;\n",
       "    border-collapse: collapse;\n",
       "  }\n",
       "  th, td {\n",
       "    padding: 5px;\n",
       "  }\n",
       "  th {\n",
       "    text-align: left;\n",
       "  }\n",
       "</style><div class='table-result-container'><table class='table-result'><thead style='background-color: white'><tr><th>count(1)</th></tr></thead><tbody><tr><td>10841</td></tr></tbody></table></div>"
      ]
     },
     "metadata": {
      "application/vnd.databricks.v1+output": {
       "addedWidgets": {},
       "aggData": [],
       "aggError": "",
       "aggOverflow": false,
       "aggSchema": [],
       "aggSeriesLimitReached": false,
       "aggType": "",
       "arguments": {},
       "columnCustomDisplayInfos": {},
       "data": [
        [
         10841
        ]
       ],
       "datasetInfos": [],
       "dbfsResultPath": null,
       "isJsonSchema": true,
       "metadata": {
        "dataframeName": "_sqldf",
        "executionCount": 38
       },
       "overflow": false,
       "plotOptions": {
        "customPlotOptions": {},
        "displayType": "table",
        "pivotAggregation": null,
        "pivotColumns": null,
        "xColumns": null,
        "yColumns": null
       },
       "removedWidgets": [],
       "schema": [
        {
         "metadata": "{\"__autoGeneratedAlias\":\"true\"}",
         "name": "count(1)",
         "type": "\"long\""
        }
       ],
       "type": "table"
      }
     },
     "output_type": "display_data"
    }
   ],
   "source": [
    "%sql \n",
    "select count(*) from apps"
   ]
  },
  {
   "cell_type": "code",
   "execution_count": 0,
   "metadata": {
    "application/vnd.databricks.v1+cell": {
     "cellMetadata": {
      "byteLimit": 2048000,
      "rowLimit": 10000
     },
     "inputWidgets": {},
     "nuid": "e2068995-9ff5-43d1-9d8f-60f191953ac9",
     "showTitle": false,
     "title": ""
    }
   },
   "outputs": [
    {
     "output_type": "stream",
     "name": "stdout",
     "output_type": "stream",
     "text": [
      "root\n |-- App: string (nullable = true)\n |-- Category: string (nullable = true)\n |-- Rating: double (nullable = true)\n |-- Reviews: integer (nullable = true)\n |-- Installs: integer (nullable = true)\n |-- Type: string (nullable = true)\n |-- Price: integer (nullable = true)\n |-- Genres: string (nullable = true)\n\n"
     ]
    }
   ],
   "source": [
    "df.printSchema()"
   ]
  },
  {
   "cell_type": "code",
   "execution_count": 0,
   "metadata": {
    "application/vnd.databricks.v1+cell": {
     "cellMetadata": {
      "byteLimit": 2048000,
      "implicitDf": true,
      "rowLimit": 10000
     },
     "inputWidgets": {},
     "nuid": "c56f17da-aefc-4585-a180-434a6c7dbf92",
     "showTitle": true,
     "title": "Find top 10 Reviews given to the app"
    }
   },
   "outputs": [
    {
     "output_type": "display_data",
     "data": {
      "text/html": [
       "<style scoped>\n",
       "  .table-result-container {\n",
       "    max-height: 300px;\n",
       "    overflow: auto;\n",
       "  }\n",
       "  table, th, td {\n",
       "    border: 1px solid black;\n",
       "    border-collapse: collapse;\n",
       "  }\n",
       "  th, td {\n",
       "    padding: 5px;\n",
       "  }\n",
       "  th {\n",
       "    text-align: left;\n",
       "  }\n",
       "</style><div class='table-result-container'><table class='table-result'><thead style='background-color: white'><tr><th>App</th><th>sum(Reviews)</th></tr></thead><tbody><tr><td>Instagram</td><td>266241989</td></tr><tr><td>WhatsApp Messenger</td><td>207348304</td></tr><tr><td>Clash of Clans</td><td>179558781</td></tr><tr><td>Messenger – Text and Video Chat for Free</td><td>169932272</td></tr><tr><td>Subway Surfers</td><td>166331958</td></tr><tr><td>Candy Crush Saga</td><td>156993136</td></tr><tr><td>Facebook</td><td>156286514</td></tr><tr><td>8 Ball Pool</td><td>99386198</td></tr><tr><td>Clash Royale</td><td>92530298</td></tr><tr><td>Snapchat</td><td>68045010</td></tr></tbody></table></div>"
      ]
     },
     "metadata": {
      "application/vnd.databricks.v1+output": {
       "addedWidgets": {},
       "aggData": [],
       "aggError": "",
       "aggOverflow": false,
       "aggSchema": [],
       "aggSeriesLimitReached": false,
       "aggType": "",
       "arguments": {},
       "columnCustomDisplayInfos": {},
       "data": [
        [
         "Instagram",
         266241989
        ],
        [
         "WhatsApp Messenger",
         207348304
        ],
        [
         "Clash of Clans",
         179558781
        ],
        [
         "Messenger – Text and Video Chat for Free",
         169932272
        ],
        [
         "Subway Surfers",
         166331958
        ],
        [
         "Candy Crush Saga",
         156993136
        ],
        [
         "Facebook",
         156286514
        ],
        [
         "8 Ball Pool",
         99386198
        ],
        [
         "Clash Royale",
         92530298
        ],
        [
         "Snapchat",
         68045010
        ]
       ],
       "datasetInfos": [],
       "dbfsResultPath": null,
       "isJsonSchema": true,
       "metadata": {
        "dataframeName": "_sqldf",
        "executionCount": 41
       },
       "overflow": false,
       "plotOptions": {
        "customPlotOptions": {},
        "displayType": "table",
        "pivotAggregation": null,
        "pivotColumns": null,
        "xColumns": null,
        "yColumns": null
       },
       "removedWidgets": [],
       "schema": [
        {
         "metadata": "{}",
         "name": "App",
         "type": "\"string\""
        },
        {
         "metadata": "{\"__autoGeneratedAlias\":\"true\"}",
         "name": "sum(Reviews)",
         "type": "\"long\""
        }
       ],
       "type": "table"
      }
     },
     "output_type": "display_data"
    }
   ],
   "source": [
    "%sql\n",
    "\n",
    "select App,sum(Reviews) from apps group by 1 order by 2 desc LIMIT 10;"
   ]
  },
  {
   "cell_type": "code",
   "execution_count": 0,
   "metadata": {
    "application/vnd.databricks.v1+cell": {
     "cellMetadata": {
      "byteLimit": 2048000,
      "implicitDf": true,
      "rowLimit": 10000
     },
     "inputWidgets": {},
     "nuid": "82e78842-a827-4cbc-be43-8fa134409879",
     "showTitle": true,
     "title": "Top 10 Installs app and distribute on basis of (free/paid)"
    }
   },
   "outputs": [
    {
     "output_type": "display_data",
     "data": {
      "text/html": [
       "<style scoped>\n",
       "  .table-result-container {\n",
       "    max-height: 300px;\n",
       "    overflow: auto;\n",
       "  }\n",
       "  table, th, td {\n",
       "    border: 1px solid black;\n",
       "    border-collapse: collapse;\n",
       "  }\n",
       "  th, td {\n",
       "    padding: 5px;\n",
       "  }\n",
       "  th {\n",
       "    text-align: left;\n",
       "  }\n",
       "</style><div class='table-result-container'><table class='table-result'><thead style='background-color: white'><tr><th>app</th><th>Total_Installs</th><th>Type</th></tr></thead><tbody><tr><td>Subway Surfers</td><td>6000000000</td><td>Free</td></tr><tr><td>Instagram</td><td>4000000000</td><td>Free</td></tr><tr><td>Google Drive</td><td>4000000000</td><td>Free</td></tr><tr><td>Hangouts</td><td>4000000000</td><td>Free</td></tr><tr><td>Google Photos</td><td>4000000000</td><td>Free</td></tr><tr><td>Google News</td><td>4000000000</td><td>Free</td></tr><tr><td>Candy Crush Saga</td><td>3500000000</td><td>Free</td></tr><tr><td>WhatsApp Messenger</td><td>3000000000</td><td>Free</td></tr><tr><td>Gmail</td><td>3000000000</td><td>Free</td></tr><tr><td>Temple Run 2</td><td>3000000000</td><td>Free</td></tr></tbody></table></div>"
      ]
     },
     "metadata": {
      "application/vnd.databricks.v1+output": {
       "addedWidgets": {},
       "aggData": [],
       "aggError": "",
       "aggOverflow": false,
       "aggSchema": [],
       "aggSeriesLimitReached": false,
       "aggType": "",
       "arguments": {},
       "columnCustomDisplayInfos": {},
       "data": [
        [
         "Subway Surfers",
         6000000000,
         "Free"
        ],
        [
         "Instagram",
         4000000000,
         "Free"
        ],
        [
         "Google Drive",
         4000000000,
         "Free"
        ],
        [
         "Hangouts",
         4000000000,
         "Free"
        ],
        [
         "Google Photos",
         4000000000,
         "Free"
        ],
        [
         "Google News",
         4000000000,
         "Free"
        ],
        [
         "Candy Crush Saga",
         3500000000,
         "Free"
        ],
        [
         "WhatsApp Messenger",
         3000000000,
         "Free"
        ],
        [
         "Gmail",
         3000000000,
         "Free"
        ],
        [
         "Temple Run 2",
         3000000000,
         "Free"
        ]
       ],
       "datasetInfos": [],
       "dbfsResultPath": null,
       "isJsonSchema": true,
       "metadata": {
        "dataframeName": "_sqldf",
        "executionCount": 45
       },
       "overflow": false,
       "plotOptions": {
        "customPlotOptions": {},
        "displayType": "table",
        "pivotAggregation": null,
        "pivotColumns": null,
        "xColumns": null,
        "yColumns": null
       },
       "removedWidgets": [],
       "schema": [
        {
         "metadata": "{}",
         "name": "app",
         "type": "\"string\""
        },
        {
         "metadata": "{}",
         "name": "Total_Installs",
         "type": "\"long\""
        },
        {
         "metadata": "{}",
         "name": "Type",
         "type": "\"string\""
        }
       ],
       "type": "table"
      }
     },
     "output_type": "display_data"
    }
   ],
   "source": [
    "%sql select app,sum(installs) as Total_Installs ,Type from apps group by 1,3 order by 2 desc limit 10;"
   ]
  },
  {
   "cell_type": "code",
   "execution_count": 0,
   "metadata": {
    "application/vnd.databricks.v1+cell": {
     "cellMetadata": {
      "byteLimit": 2048000,
      "implicitDf": true,
      "rowLimit": 10000
     },
     "inputWidgets": {},
     "nuid": "98496ca6-f94d-431a-8757-2a225b777757",
     "showTitle": true,
     "title": "Category Wise Distribution of Installed App"
    }
   },
   "outputs": [
    {
     "output_type": "display_data",
     "data": {
      "text/html": [
       "<style scoped>\n",
       "  .table-result-container {\n",
       "    max-height: 300px;\n",
       "    overflow: auto;\n",
       "  }\n",
       "  table, th, td {\n",
       "    border: 1px solid black;\n",
       "    border-collapse: collapse;\n",
       "  }\n",
       "  th, td {\n",
       "    padding: 5px;\n",
       "  }\n",
       "  th {\n",
       "    text-align: left;\n",
       "  }\n",
       "</style><div class='table-result-container'><table class='table-result'><thead style='background-color: white'><tr><th>Category</th><th>Total_Installs</th></tr></thead><tbody><tr><td>GAME</td><td>35086024415</td></tr><tr><td>COMMUNICATION</td><td>32647276251</td></tr><tr><td>PRODUCTIVITY</td><td>14176091369</td></tr><tr><td>SOCIAL</td><td>14069867902</td></tr><tr><td>TOOLS</td><td>11452771915</td></tr><tr><td>FAMILY</td><td>10258263505</td></tr><tr><td>PHOTOGRAPHY</td><td>10088247655</td></tr><tr><td>NEWS_AND_MAGAZINES</td><td>7496317760</td></tr><tr><td>TRAVEL_AND_LOCAL</td><td>6868887146</td></tr><tr><td>VIDEO_PLAYERS</td><td>6222002720</td></tr><tr><td>SHOPPING</td><td>3247848785</td></tr><tr><td>ENTERTAINMENT</td><td>2869160000</td></tr><tr><td>PERSONALIZATION</td><td>2325494782</td></tr><tr><td>BOOKS_AND_REFERENCE</td><td>1921469576</td></tr><tr><td>SPORTS</td><td>1751174498</td></tr><tr><td>HEALTH_AND_FITNESS</td><td>1583072512</td></tr><tr><td>BUSINESS</td><td>1001914865</td></tr><tr><td>FINANCE</td><td>876648734</td></tr><tr><td>EDUCATION</td><td>871452000</td></tr><tr><td>MAPS_AND_NAVIGATION</td><td>724281890</td></tr><tr><td>LIFESTYLE</td><td>537643539</td></tr><tr><td>WEATHER</td><td>426100520</td></tr><tr><td>FOOD_AND_DRINK</td><td>273898751</td></tr><tr><td>DATING</td><td>264310807</td></tr><tr><td>HOUSE_AND_HOME</td><td>168712461</td></tr><tr><td>ART_AND_DESIGN</td><td>124338100</td></tr><tr><td>LIBRARIES_AND_DEMO</td><td>62995910</td></tr><tr><td>COMICS</td><td>56086150</td></tr><tr><td>MEDICAL</td><td>53257437</td></tr><tr><td>AUTO_AND_VEHICLES</td><td>53130211</td></tr><tr><td>PARENTING</td><td>31521110</td></tr><tr><td>BEAUTY</td><td>27197050</td></tr><tr><td>EVENTS</td><td>15973161</td></tr><tr><td>1.9</td><td>null</td></tr></tbody></table></div>"
      ]
     },
     "metadata": {
      "application/vnd.databricks.v1+output": {
       "addedWidgets": {},
       "aggData": [],
       "aggError": "",
       "aggOverflow": false,
       "aggSchema": [],
       "aggSeriesLimitReached": false,
       "aggType": "",
       "arguments": {},
       "columnCustomDisplayInfos": {},
       "data": [
        [
         "GAME",
         35086024415
        ],
        [
         "COMMUNICATION",
         32647276251
        ],
        [
         "PRODUCTIVITY",
         14176091369
        ],
        [
         "SOCIAL",
         14069867902
        ],
        [
         "TOOLS",
         11452771915
        ],
        [
         "FAMILY",
         10258263505
        ],
        [
         "PHOTOGRAPHY",
         10088247655
        ],
        [
         "NEWS_AND_MAGAZINES",
         7496317760
        ],
        [
         "TRAVEL_AND_LOCAL",
         6868887146
        ],
        [
         "VIDEO_PLAYERS",
         6222002720
        ],
        [
         "SHOPPING",
         3247848785
        ],
        [
         "ENTERTAINMENT",
         2869160000
        ],
        [
         "PERSONALIZATION",
         2325494782
        ],
        [
         "BOOKS_AND_REFERENCE",
         1921469576
        ],
        [
         "SPORTS",
         1751174498
        ],
        [
         "HEALTH_AND_FITNESS",
         1583072512
        ],
        [
         "BUSINESS",
         1001914865
        ],
        [
         "FINANCE",
         876648734
        ],
        [
         "EDUCATION",
         871452000
        ],
        [
         "MAPS_AND_NAVIGATION",
         724281890
        ],
        [
         "LIFESTYLE",
         537643539
        ],
        [
         "WEATHER",
         426100520
        ],
        [
         "FOOD_AND_DRINK",
         273898751
        ],
        [
         "DATING",
         264310807
        ],
        [
         "HOUSE_AND_HOME",
         168712461
        ],
        [
         "ART_AND_DESIGN",
         124338100
        ],
        [
         "LIBRARIES_AND_DEMO",
         62995910
        ],
        [
         "COMICS",
         56086150
        ],
        [
         "MEDICAL",
         53257437
        ],
        [
         "AUTO_AND_VEHICLES",
         53130211
        ],
        [
         "PARENTING",
         31521110
        ],
        [
         "BEAUTY",
         27197050
        ],
        [
         "EVENTS",
         15973161
        ],
        [
         "1.9",
         null
        ]
       ],
       "datasetInfos": [],
       "dbfsResultPath": null,
       "isJsonSchema": true,
       "metadata": {
        "dataframeName": "_sqldf",
        "executionCount": 48
       },
       "overflow": false,
       "plotOptions": {
        "customPlotOptions": {},
        "displayType": "table",
        "pivotAggregation": null,
        "pivotColumns": null,
        "xColumns": null,
        "yColumns": null
       },
       "removedWidgets": [],
       "schema": [
        {
         "metadata": "{}",
         "name": "Category",
         "type": "\"string\""
        },
        {
         "metadata": "{}",
         "name": "Total_Installs",
         "type": "\"long\""
        }
       ],
       "type": "table"
      }
     },
     "output_type": "display_data"
    }
   ],
   "source": [
    "%sql\n",
    "select Category, sum(Installs) as Total_Installs from apps group by 1 order by 2 desc ;"
   ]
  },
  {
   "cell_type": "code",
   "execution_count": 0,
   "metadata": {
    "application/vnd.databricks.v1+cell": {
     "cellMetadata": {
      "byteLimit": 2048000,
      "implicitDf": true,
      "rowLimit": 10000
     },
     "inputWidgets": {},
     "nuid": "5b5b18ef-9535-4b24-8c14-bc10b80bf4dc",
     "showTitle": true,
     "title": "Top Paid Apps"
    }
   },
   "outputs": [
    {
     "output_type": "display_data",
     "data": {
      "text/html": [
       "<style scoped>\n",
       "  .table-result-container {\n",
       "    max-height: 300px;\n",
       "    overflow: auto;\n",
       "  }\n",
       "  table, th, td {\n",
       "    border: 1px solid black;\n",
       "    border-collapse: collapse;\n",
       "  }\n",
       "  th, td {\n",
       "    padding: 5px;\n",
       "  }\n",
       "  th {\n",
       "    text-align: left;\n",
       "  }\n",
       "</style><div class='table-result-container'><table class='table-result'><thead style='background-color: white'><tr><th>app</th><th>Total_installs</th></tr></thead><tbody><tr><td>Minecraft</td><td>20000000</td></tr><tr><td>Hitman Sniper</td><td>10000000</td></tr><tr><td>Facetune - For Free</td><td>3000000</td></tr><tr><td>Beautiful Widgets Pro</td><td>2000000</td></tr><tr><td>HD Widgets</td><td>2000000</td></tr><tr><td>League of Stickman 2018- Ninja Arena PVP(Dreamsky)</td><td>1000000</td></tr><tr><td>Fruit Ninja Classic</td><td>1000000</td></tr><tr><td>Toca Life: City</td><td>1000000</td></tr><tr><td>DraStic DS Emulator</td><td>1000000</td></tr><tr><td>Five Nights at Freddy's</td><td>1000000</td></tr><tr><td>Threema</td><td>1000000</td></tr><tr><td>True Skate</td><td>1000000</td></tr><tr><td>Infinity Dungeon VIP</td><td>1000000</td></tr><tr><td>Tasker</td><td>1000000</td></tr><tr><td>Where's My Water?</td><td>1000000</td></tr><tr><td>Cut the Rope GOLD</td><td>1000000</td></tr><tr><td>Stickman Legends: Shadow Wars</td><td>1000000</td></tr><tr><td>Lost Journey (Dreamsky)</td><td>1000000</td></tr><tr><td>Bloons TD 5</td><td>1000000</td></tr><tr><td>Card Wars - Adventure Time</td><td>1000000</td></tr><tr><td>Sleep as Android Unlock</td><td>1000000</td></tr><tr><td>Grand Theft Auto: San Andreas</td><td>1000000</td></tr><tr><td>Zombie Avengers:(Dreamsky)Stickman War Z</td><td>1000000</td></tr><tr><td>NBA JAM by EA SPORTS™</td><td>500000</td></tr><tr><td>Cameringo+ Filters Camera</td><td>500000</td></tr><tr><td>Hitman GO</td><td>500000</td></tr><tr><td>CamScanner (License)</td><td>500000</td></tr><tr><td>Five Nights at Freddy's 2</td><td>500000</td></tr><tr><td>Weather Live</td><td>500000</td></tr><tr><td>Farming Simulator 16</td><td>500000</td></tr><tr><td>ES File Explorer/Manager PRO</td><td>500000</td></tr><tr><td>Assassin's Creed Identity</td><td>500000</td></tr><tr><td>ADWLauncher 1 EX</td><td>500000</td></tr><tr><td>Human Anatomy Atlas 2018: Complete 3D Human Body</td><td>300000</td></tr><tr><td>The Game of Life</td><td>200000</td></tr><tr><td>Monash Uni Low FODMAP Diet</td><td>200000</td></tr><tr><td>Pocket Yoga</td><td>200000</td></tr><tr><td>TurboScan: scan documents and receipts in PDF</td><td>200000</td></tr><tr><td>Tiny Scanner Pro: PDF Doc Scan</td><td>200000</td></tr><tr><td>Camera FV-5</td><td>200000</td></tr><tr><td>Dr. Panda & Toto's Treehouse</td><td>150000</td></tr><tr><td>XCOM®: Enemy Within</td><td>100000</td></tr><tr><td>Dr. Panda Restaurant 2</td><td>100000</td></tr><tr><td>CN Superstar Soccer: Goal!!!</td><td>100000</td></tr><tr><td>Dr. Panda's Swimming Pool</td><td>100000</td></tr><tr><td>My Budget Book</td><td>100000</td></tr><tr><td>ZOOKEEPER DX TouchEdition</td><td>100000</td></tr><tr><td>Guns'n'Glory Premium</td><td>100000</td></tr><tr><td>Guns'n'Glory WW2 Premium</td><td>100000</td></tr><tr><td>ExDialer PRO Key</td><td>100000</td></tr><tr><td>Skip-Bo™</td><td>100000</td></tr><tr><td>Weather Forecast Pro</td><td>100000</td></tr><tr><td>aCalendar+ Calendar & Tasks</td><td>100000</td></tr><tr><td>Toca Builders</td><td>100000</td></tr><tr><td>Puffin Browser Pro</td><td>100000</td></tr><tr><td>Essential Anatomy 3</td><td>100000</td></tr><tr><td>Pujie Black Watch Face for Android Wear OS</td><td>100000</td></tr><tr><td>BackCountry Navigator TOPO GPS PRO</td><td>100000</td></tr><tr><td>ai.type keyboard Plus + Emoji</td><td>100000</td></tr><tr><td>The Room: Old Sins</td><td>100000</td></tr><tr><td>Business Calendar Pro</td><td>100000</td></tr><tr><td>FINAL FANTASY V</td><td>100000</td></tr><tr><td>The Hunt for the Lost Treasure</td><td>100000</td></tr><tr><td>Five Nights at Freddy's 4</td><td>100000</td></tr><tr><td>Superbrothers Sword & Sworcery</td><td>100000</td></tr><tr><td>R-TYPE</td><td>100000</td></tr><tr><td>WiFi Tether Router</td><td>100000</td></tr><tr><td>CM Launcher 3D Pro💎</td><td>100000</td></tr><tr><td>The House of Da Vinci</td><td>100000</td></tr><tr><td>Star Wars ™: DIRTY</td><td>100000</td></tr><tr><td>Baldur's Gate: Enhanced Edition</td><td>100000</td></tr><tr><td>BlackCam Pro - B&W Camera</td><td>100000</td></tr><tr><td>F-Sim Space Shuttle</td><td>100000</td></tr><tr><td>Kernel Manager for Franco Kernel ✨</td><td>100000</td></tr><tr><td>Call of Duty:Black Ops Zombies</td><td>100000</td></tr><tr><td>Attack the Light</td><td>100000</td></tr><tr><td>Football Manager Mobile 2018</td><td>100000</td></tr><tr><td>Toca Life: Hospital</td><td>100000</td></tr><tr><td>Cytus II</td><td>100000</td></tr><tr><td>Maps & GPS Navigation OsmAnd+</td><td>100000</td></tr><tr><td>DRAGON QUEST</td><td>100000</td></tr><tr><td>Ski Safari: Adventure Time</td><td>100000</td></tr><tr><td>Clue</td><td>100000</td></tr><tr><td>Mupen64Plus AE (N64 Emulator)</td><td>100000</td></tr><tr><td>Day R Premium</td><td>100000</td></tr><tr><td>BusyBox Pro</td><td>100000</td></tr><tr><td>Riptide GP: Renegade</td><td>100000</td></tr><tr><td>X Construction</td><td>100000</td></tr><tr><td>RollerCoaster Tycoon® Classic</td><td>100000</td></tr><tr><td>Lapse It • Time Lapse • Pro</td><td>100000</td></tr><tr><td>Meme Generator</td><td>100000</td></tr><tr><td>Weather & Radar Pro - Ad-Free</td><td>100000</td></tr><tr><td>Teeny Titans - Teen Titans Go!</td><td>100000</td></tr><tr><td>Farming Simulator 18</td><td>100000</td></tr><tr><td>Solitaire+</td><td>100000</td></tr><tr><td>DRAGON QUEST VI</td><td>100000</td></tr><tr><td>Koi Live Wallpaper</td><td>100000</td></tr><tr><td>Don't Starve: Pocket Edition</td><td>100000</td></tr><tr><td>QR Code Pro</td><td>100000</td></tr><tr><td>Battery HD Pro</td><td>100000</td></tr><tr><td>Sonic 4™ Episode I</td><td>100000</td></tr><tr><td>The Escapists</td><td>100000</td></tr><tr><td>Tools & Mi Band</td><td>100000</td></tr><tr><td>Relax Melodies P: Sleep Sounds</td><td>100000</td></tr><tr><td>LEGO ® Batman: Beyond Gotham</td><td>100000</td></tr><tr><td>Five Nights at Freddy's: SL</td><td>100000</td></tr><tr><td>N Launcher Pro - Nougat 7.0</td><td>100000</td></tr><tr><td>Smart Launcher Pro 3</td><td>100000</td></tr><tr><td>Deus Ex GO</td><td>100000</td></tr><tr><td>FINAL FANTASY DIMENSIONS</td><td>100000</td></tr><tr><td>Monument Valley 2</td><td>100000</td></tr><tr><td>Five Nights at Freddy's 3</td><td>100000</td></tr><tr><td>My Talking Pet</td><td>100000</td></tr><tr><td>I am rich</td><td>100000</td></tr><tr><td>Weather Live Pro</td><td>100000</td></tr><tr><td>Mind Games Pro</td><td>100000</td></tr><tr><td>CHRONO TRIGGER (Upgrade Ver.)</td><td>100000</td></tr><tr><td>Battleheart Legacy</td><td>50000</td></tr><tr><td>Dr. Panda Hospital</td><td>50000</td></tr><tr><td>BSPlayer</td><td>50000</td></tr><tr><td>Golfshot Plus: Golf GPS</td><td>50000</td></tr><tr><td>BeFunky Photo Editor Pro</td><td>50000</td></tr><tr><td>Muscle Trigger Point Anatomy</td><td>50000</td></tr><tr><td>I Am Rich Premium</td><td>50000</td></tr><tr><td>Menstrual Calendar Premium</td><td>50000</td></tr><tr><td>cronometer (ad free)</td><td>50000</td></tr><tr><td>Ulysse Speedometer Pro</td><td>50000</td></tr><tr><td>Adventure Time Game Wizard</td><td>50000</td></tr><tr><td>DRAGON QUEST VIII</td><td>50000</td></tr><tr><td>AJ Jump: Animal Jam Kangaroos!</td><td>50000</td></tr><tr><td>Elemental Knights R Platinum</td><td>50000</td></tr><tr><td>Paprika Recipe Manager</td><td>50000</td></tr><tr><td>LEGO Batman: DC Super Heroes</td><td>50000</td></tr><tr><td>Inventory & Barcode scanner & WIFI scanner</td><td>50000</td></tr><tr><td>Organizer</td><td>50000</td></tr><tr><td>Dots puzzle</td><td>50000</td></tr><tr><td>Navigator PRO - GPS Navigation with Offline Maps</td><td>50000</td></tr><tr><td>Z Origins - (Z The Game)</td><td>50000</td></tr><tr><td>Lullaby Add-on for Sleep as Android</td><td>50000</td></tr><tr><td>Advanced Download Manager Pro</td><td>50000</td></tr><tr><td>Out There Chronicles - Ep. 1</td><td>50000</td></tr><tr><td>Day Night Live Wallpaper (All)</td><td>50000</td></tr><tr><td>Mental Hospital V</td><td>50000</td></tr><tr><td>Shadow Fight 2 Special Edition</td><td>50000</td></tr><tr><td>Daily Ab Workout</td><td>50000</td></tr><tr><td>Baby Connect (activity log)</td><td>50000</td></tr><tr><td>Device Info Ex Live Wallpaper</td><td>50000</td></tr><tr><td>R-TYPE II</td><td>50000</td></tr><tr><td>C4droid - C/C++ compiler & IDE</td><td>50000</td></tr><tr><td>Learn Italian with MosaLingua</td><td>50000</td></tr><tr><td>Mike V: Skateboard Party PRO</td><td>50000</td></tr><tr><td>FlashLight HD LED Pro</td><td>50000</td></tr><tr><td>Baldur's Gate II</td><td>50000</td></tr><tr><td>Dr. Panda Supermarket</td><td>50000</td></tr><tr><td>Dr. Panda Art Class</td><td>50000</td></tr><tr><td>Nighty Night Circus</td><td>20000</td></tr><tr><td>ASCCP Mobile</td><td>20000</td></tr><tr><td>IBM Micromedex Drug Info</td><td>20000</td></tr><tr><td>Moco+ - Chat, Meet People</td><td>20000</td></tr><tr><td>EMT Review Plus</td><td>20000</td></tr><tr><td>Pedi STAT</td><td>20000</td></tr><tr><td>Sago Mini Babies</td><td>20000</td></tr><tr><td>iBP Blood Pressure</td><td>20000</td></tr><tr><td>Journal Club: Medicine</td><td>20000</td></tr><tr><td>Paramedic Protocol Provider</td><td>20000</td></tr><tr><td>EMT Tutor NREMT-B Study Guide</td><td>20000</td></tr><tr><td>Muscle Premium - Human Anatomy, Kinesiology, Bones</td><td>20000</td></tr><tr><td>I am Rich Plus</td><td>10000</td></tr><tr><td>Trine 2: Complete Story</td><td>10000</td></tr><tr><td>Sokoban Land DX</td><td>10000</td></tr><tr><td>Campervan.Guide Pro</td><td>10000</td></tr><tr><td>Medical ID - In Case of Emergency (ICE)</td><td>10000</td></tr><tr><td>The World Ends With You</td><td>10000</td></tr><tr><td>Flipped Out! - Powerpuff Girls</td><td>10000</td></tr><tr><td>Al'Quran Bahasa Indonesia PRO</td><td>10000</td></tr><tr><td>MultiPicture Live Wallpaper dn</td><td>10000</td></tr><tr><td>Smart Wi-Fi Hotspot PRO</td><td>10000</td></tr><tr><td>My Movies Pro - Movie & TV Collection Library</td><td>10000</td></tr><tr><td>Light X - Icon Pack</td><td>10000</td></tr><tr><td>My Little Work – Garage</td><td>10000</td></tr><tr><td>Math games for kids : times tables training</td><td>10000</td></tr><tr><td>I Am Rich</td><td>10000</td></tr><tr><td>MEGA MAN MOBILE</td><td>10000</td></tr><tr><td>Power Widget</td><td>10000</td></tr><tr><td>MyRadar NOAA Weather Radar Ad Free</td><td>10000</td></tr><tr><td>Alarmy (Sleep If U Can) - Pro</td><td>10000</td></tr><tr><td>DRAGON QUEST V</td><td>10000</td></tr><tr><td>The EO Bar</td><td>10000</td></tr><tr><td>Teen Titans GO Figure!</td><td>10000</td></tr><tr><td>X Home Bar - Home Bar Gesture Pro</td><td>10000</td></tr><tr><td>Backgammon NJ for Android</td><td>10000</td></tr><tr><td>Neon Glow C - Icon Pack</td><td>10000</td></tr><tr><td>Volume Slider Like Android P Volume Control</td><td>10000</td></tr><tr><td>Peppa Pig: Party Time</td><td>10000</td></tr><tr><td>Tsuro - The Game of the Path</td><td>10000</td></tr><tr><td>Planet O - Icon Pack</td><td>10000</td></tr><tr><td>Portable Wi-Fi hotspot Premium</td><td>10000</td></tr><tr><td>FVD Ad-Free</td><td>10000</td></tr><tr><td>Guns'n'Glory Heroes Premium</td><td>10000</td></tr><tr><td>Retro City Rampage DX</td><td>10000</td></tr><tr><td>I am Bread</td><td>10000</td></tr><tr><td>Morse Trainer for Ham Radio</td><td>10000</td></tr><tr><td>Paramedic Meds</td><td>10000</td></tr><tr><td>Jurassic Life: T Rex Simulator</td><td>10000</td></tr><tr><td>Paris ci la Sortie du Métro</td><td>10000</td></tr><tr><td>Pocket Lab Values</td><td>10000</td></tr><tr><td>Battery Notifier Pro BT</td><td>10000</td></tr><tr><td>El Chavo</td><td>10000</td></tr><tr><td>Oddworld: New 'n' Tasty</td><td>10000</td></tr><tr><td>Stand O’Food® (Full)</td><td>10000</td></tr><tr><td>I Can't Wake Up!</td><td>10000</td></tr><tr><td>Myth Defense 2: DF Platinum</td><td>10000</td></tr><tr><td>XE Currency Pro</td><td>10000</td></tr><tr><td>iCam - Webcam Video Streaming</td><td>10000</td></tr><tr><td>Please, Don't Touch Anything</td><td>10000</td></tr><tr><td>weather HD</td><td>10000</td></tr><tr><td>AnatomyMapp</td><td>10000</td></tr><tr><td>Dirt Trackin Sprint Cars</td><td>10000</td></tr><tr><td>BIG Launcher</td><td>10000</td></tr><tr><td>My CookBook Pro (Ad Free)</td><td>10000</td></tr><tr><td>DRAGON QUEST II</td><td>10000</td></tr><tr><td>Ghosts'n Goblins MOBILE</td><td>10000</td></tr><tr><td>DRAGON QUEST III</td><td>10000</td></tr><tr><td>I am Rich Premium Plus</td><td>10000</td></tr><tr><td>X Back - Icon Pack</td><td>10000</td></tr><tr><td>Kairo XP (for HD Widgets)</td><td>10000</td></tr><tr><td>Trazado de tuberia El Tubero</td><td>10000</td></tr><tr><td>Theatre of the Absurd CE(Full)</td><td>10000</td></tr><tr><td>Dr. Panda Farm</td><td>10000</td></tr><tr><td>Absolute RC Heli Simulator</td><td>10000</td></tr><tr><td>💎 I'm rich</td><td>10000</td></tr><tr><td>LightMeter (noAds)</td><td>10000</td></tr><tr><td>EU Flags Live Wallpaper</td><td>10000</td></tr><tr><td>ZArchiver Donate</td><td>10000</td></tr><tr><td>Acupuncture Assistant</td><td>10000</td></tr><tr><td>Formula Cartoon All Stars</td><td>10000</td></tr><tr><td>C Locker Pro</td><td>10000</td></tr><tr><td>Ultimate Watch 2 watch face</td><td>10000</td></tr><tr><td>Best Park in the Universe</td><td>10000</td></tr><tr><td>Deep Sleep Battery Saver Pro</td><td>10000</td></tr><tr><td>X Launcher Pro - IOS Style Theme & Control Center</td><td>10000</td></tr><tr><td>Detect-O-Gromit (D.O.G 2)</td><td>10000</td></tr><tr><td>K-@ Mail Pro - Email App</td><td>10000</td></tr><tr><td>RAM Cleanup Ad-Free Option</td><td>10000</td></tr><tr><td>CM FILE MANAGER Pro</td><td>10000</td></tr><tr><td>Automagic * Automation</td><td>10000</td></tr><tr><td>Lab Values + Medical Reference</td><td>10000</td></tr><tr><td>King of Math</td><td>10000</td></tr><tr><td>BringGo AU & NZ</td><td>10000</td></tr><tr><td>Carrier Landings Pro</td><td>10000</td></tr><tr><td>Bixby Button Remapper - bxActions Pro / Coffee</td><td>10000</td></tr><tr><td>DRAGON QUEST IV</td><td>10000</td></tr><tr><td>Dr. Seuss's ABC</td><td>10000</td></tr><tr><td>tTorrent - ad free</td><td>10000</td></tr><tr><td>Meditation Studio</td><td>10000</td></tr><tr><td>Silence Premium Do Not Disturb</td><td>10000</td></tr><tr><td>Age of Conquest: N. America</td><td>10000</td></tr><tr><td>Swift Dark CM / CM13 Theme</td><td>10000</td></tr><tr><td>Flud (Ad free)</td><td>10000</td></tr><tr><td>Train Sim Pro</td><td>10000</td></tr><tr><td>FiSwitch</td><td>10000</td></tr><tr><td>sugar, sugar</td><td>10000</td></tr><tr><td>LEGO® Friends</td><td>10000</td></tr><tr><td>European War 6: 1804</td><td>10000</td></tr><tr><td>F-Stop Gallery Pro</td><td>10000</td></tr><tr><td>I'm Rich - Trump Edition</td><td>10000</td></tr><tr><td>Rockstars of Ooo</td><td>10000</td></tr><tr><td>Penny Finder</td><td>10000</td></tr><tr><td>Vpn Hosts (ad blocker & no root & support ipv6 )</td><td>10000</td></tr><tr><td>THE aMAZEing Labyrinth</td><td>10000</td></tr><tr><td>I am rich VIP</td><td>10000</td></tr><tr><td>Don't Starve: Shipwrecked</td><td>10000</td></tr><tr><td>PAC-MAN CE DX</td><td>10000</td></tr><tr><td>Ray Financial Calculator Pro</td><td>10000</td></tr><tr><td>Whoowasit? - Best kids game!</td><td>5000</td></tr><tr><td>Morse Machine for Ham Radio</td><td>5000</td></tr><tr><td>Poker Equity Calculator Pro for No Limit Hold'em</td><td>5000</td></tr><tr><td>New York Mysteries (Full)</td><td>5000</td></tr><tr><td>Wi-Fi Rabbit Unlock Key</td><td>5000</td></tr><tr><td>Ai-Ball AV Recorder</td><td>5000</td></tr><tr><td>Chess and Mate</td><td>5000</td></tr><tr><td>Prime Key for Nougat Launcher& O Launcher &KitKat</td><td>5000</td></tr><tr><td>Advanced EX for RENAULT</td><td>5000</td></tr><tr><td>Officiel du SCRABBLE LAROUSSE</td><td>5000</td></tr><tr><td>Kicker U</td><td>5000</td></tr><tr><td>H*nest Meditation</td><td>5000</td></tr><tr><td>DC Metro Transit</td><td>5000</td></tr><tr><td>Calcium Pro</td><td>5000</td></tr><tr><td>Advanced EX for FIAT</td><td>5000</td></tr><tr><td>Visual Anatomy 2</td><td>5000</td></tr><tr><td>Basketball Dynasty Manager 16</td><td>5000</td></tr><tr><td>PORTABLE SOCCER DX</td><td>5000</td></tr><tr><td>I am Millionaire - Richest guy in the town</td><td>5000</td></tr><tr><td>Pocket RxTx Pro</td><td>5000</td></tr><tr><td>Ghouls'n Ghosts MOBILE</td><td>5000</td></tr><tr><td>FL Racing Manager 2018 Pro</td><td>5000</td></tr><tr><td>I Am Rich Pro</td><td>5000</td></tr><tr><td>EMT Study - NREMT Test Prep</td><td>5000</td></tr><tr><td>G-NetTrack Pro</td><td>5000</td></tr><tr><td>Morse Decoder for Ham Radio</td><td>5000</td></tr><tr><td>X-Plane to GPS</td><td>5000</td></tr><tr><td>A41 WatchFace for Android Wear Smart Watch</td><td>5000</td></tr><tr><td>MommyMeds</td><td>5000</td></tr><tr><td>Q Alerts: QAnon Drop Notifications, Research +++</td><td>5000</td></tr><tr><td>Remote EX for NISSAN</td><td>5000</td></tr><tr><td>FL Racing Manager 2015 Pro</td><td>5000</td></tr><tr><td>I am rich(premium)</td><td>5000</td></tr><tr><td>I am Rich</td><td>5000</td></tr><tr><td>Board Game Stats: Play tracking for tabletop games</td><td>5000</td></tr><tr><td>Guns'n'Glory Zombies Premium</td><td>5000</td></tr><tr><td>Manage My Pain Pro</td><td>5000</td></tr><tr><td>palmPEDi: Pediatric Tape</td><td>5000</td></tr><tr><td>Don't Panic with Andrew J.</td><td>5000</td></tr><tr><td>Breathing Zone</td><td>5000</td></tr><tr><td>Steam: Rails to Riches</td><td>5000</td></tr><tr><td>Pixel Oreo/P Dark White AMOLED UI - Icon Pack</td><td>5000</td></tr><tr><td>Advanced EX for KIA</td><td>5000</td></tr><tr><td>With Helper Pro Pill Reminder</td><td>5000</td></tr><tr><td>Toca Mystery House</td><td>5000</td></tr><tr><td>Tetrobot and Co.</td><td>5000</td></tr><tr><td>My Little Princess : Stores</td><td>5000</td></tr><tr><td>Please Don't Touch Anything 3D</td><td>5000</td></tr><tr><td>Go</td><td>5000</td></tr><tr><td>Advanced EX for HYUNDAI</td><td>5000</td></tr><tr><td>The Artificial Intelligence Project (A.I. Chat)</td><td>5000</td></tr><tr><td>G Cloud Apps Backup Key * root</td><td>5000</td></tr><tr><td>Hunt Buddy BC</td><td>5000</td></tr><tr><td>AG Subway Simulator Mobile</td><td>5000</td></tr><tr><td>X Launcher Pro: PhoneX Theme, OS11 Control Center</td><td>5000</td></tr><tr><td>Ultimate Public Campgrounds (Over 37,100 in US&CA)</td><td>5000</td></tr><tr><td>Smart Launcher theme b. gold</td><td>5000</td></tr><tr><td>WhatsFake Pro (Ad free)</td><td>5000</td></tr><tr><td>TV Guide BR Gold</td><td>5000</td></tr><tr><td>Advanced EX for NISSAN</td><td>5000</td></tr><tr><td>Gunship III Vietnam People AF</td><td>5000</td></tr><tr><td>Droid PRoCon BF3</td><td>5000</td></tr><tr><td>Writing Wizard Premium - Handwriting</td><td>5000</td></tr><tr><td>EMT PASS</td><td>2000</td></tr><tr><td>PTA Content Master</td><td>2000</td></tr><tr><td>Vargo Anesthesia Mega App</td><td>2000</td></tr><tr><td>Diabetes & Diet Tracker</td><td>2000</td></tr><tr><td>Blood Pressure Companion</td><td>2000</td></tr><tr><td>A Manual of Acupuncture</td><td>2000</td></tr><tr><td>Fuzzy Numbers: Pre-K Number Foundation</td><td>2000</td></tr><tr><td>Block Buddy</td><td>2000</td></tr><tr><td>Avokiddo Emotions</td><td>2000</td></tr><tr><td>Hospitalist Handbook</td><td>2000</td></tr><tr><td>2017 EMRA Antibiotic Guide</td><td>2000</td></tr><tr><td>SweetLand — Family Board Game</td><td>1000</td></tr><tr><td>Language Therapy: Aphasia</td><td>1000</td></tr><tr><td>iHunter BC</td><td>1000</td></tr><tr><td>bpresso PRO</td><td>1000</td></tr><tr><td>iFish BC</td><td>1000</td></tr><tr><td>Electrician Calculator Pro</td><td>1000</td></tr><tr><td>WIZARD Card Game</td><td>1000</td></tr><tr><td>F05WatchFace for Android Wear</td><td>1000</td></tr><tr><td>I am Rich Person</td><td>1000</td></tr><tr><td>Next Launcher 3D Theme Hit-G</td><td>1000</td></tr><tr><td>I AM RICH PRO PLUS</td><td>1000</td></tr><tr><td>myGrow</td><td>1000</td></tr><tr><td>VeinSeek</td><td>1000</td></tr><tr><td>go41cx</td><td>1000</td></tr><tr><td>DW Contacts widget</td><td>1000</td></tr><tr><td>Nightenfell: Shared AR</td><td>1000</td></tr><tr><td>Police Field Interview FI Card</td><td>1000</td></tr><tr><td>S Launcher Pro for Galaxy</td><td>1000</td></tr><tr><td>Gravidez ao Vivo</td><td>1000</td></tr><tr><td>My Virtual Boyfriend</td><td>1000</td></tr><tr><td>ERres- Emergency Medicine</td><td>1000</td></tr><tr><td>Sago Mini Big City</td><td>1000</td></tr><tr><td>Sago Mini Hat Maker</td><td>1000</td></tr><tr><td>CZ-Cyberon Voice Commander</td><td>1000</td></tr><tr><td>m>notes notepad</td><td>1000</td></tr><tr><td>Bo's School Day</td><td>1000</td></tr><tr><td>Medical terms (OFFLINE)</td><td>1000</td></tr><tr><td>Dungeons and Dragons DM Tools</td><td>1000</td></tr><tr><td>Children Educational Game Full</td><td>1000</td></tr><tr><td>Advanced EX for MITSUBISHI</td><td>1000</td></tr><tr><td>R Instructor</td><td>1000</td></tr><tr><td>Analog Clock AW-7 PRO</td><td>1000</td></tr><tr><td>Führerschein Klasse CE, LKW 2018</td><td>1000</td></tr><tr><td>EM Launcher Pro</td><td>1000</td></tr><tr><td>FL SW Fishing Regulations</td><td>1000</td></tr><tr><td>Talkie Pro - Wi-Fi Calling, Chats, File Sharing</td><td>1000</td></tr><tr><td>BA Pro Financial Calculator</td><td>1000</td></tr><tr><td>17th Edition Cable Sizer</td><td>1000</td></tr><tr><td>CCHT PREP</td><td>1000</td></tr><tr><td>Be Stronger</td><td>1000</td></tr><tr><td>Hactar Go</td><td>1000</td></tr><tr><td>MC.Fitting</td><td>1000</td></tr><tr><td>Fast Tract Diet</td><td>1000</td></tr><tr><td>Florida Tides & Weather</td><td>1000</td></tr><tr><td>Out There Chronicles - Ep. 2</td><td>1000</td></tr><tr><td>Next Launcher 3D Bold-CF Theme</td><td>1000</td></tr><tr><td>Bo's Matching Game</td><td>1000</td></tr><tr><td>The Secret Daily Teachings</td><td>1000</td></tr><tr><td>Jump'N'Shoot Attack</td><td>1000</td></tr><tr><td>I am Rich!</td><td>1000</td></tr><tr><td>Basket Manager 2016 Pro</td><td>1000</td></tr><tr><td>Little Magnet BT Pro</td><td>1000</td></tr><tr><td>AV Tools Pro</td><td>1000</td></tr><tr><td>AI Draw | Art Filter for Selfie</td><td>1000</td></tr><tr><td>Fodbold DK Pro</td><td>1000</td></tr><tr><td>Bo's Bedtime Story</td><td>1000</td></tr><tr><td>Monastery of El Escorial</td><td>1000</td></tr><tr><td>OmniMedix Medical Calculator</td><td>1000</td></tr><tr><td>Pocket AC</td><td>1000</td></tr><tr><td>CF-Bench Pro</td><td>1000</td></tr><tr><td>Ad Remove Plugin for App2SD</td><td>1000</td></tr><tr><td>PitchBlack S - Samsung Substratum Theme “For Oreo”</td><td>1000</td></tr><tr><td>ONScripter Plus (Ad Free)</td><td>1000</td></tr><tr><td>G-Playlists</td><td>1000</td></tr><tr><td>Space Z 🌏 🚀Icon Pack Theme</td><td>1000</td></tr><tr><td>The Legacy (Full)</td><td>1000</td></tr><tr><td>Interactive CT and MRI Anatomy</td><td>1000</td></tr><tr><td>W-History Standalone</td><td>1000</td></tr><tr><td>CE Map - Interactive Conan Exiles Map</td><td>1000</td></tr><tr><td>FAV KWGT</td><td>1000</td></tr><tr><td>Dr. McDougall Mobile Cookbook</td><td>1000</td></tr><tr><td>Lollipop Launcher Plus</td><td>1000</td></tr><tr><td>Recognise Foot</td><td>1000</td></tr><tr><td>YouCamp EU</td><td>1000</td></tr><tr><td>BW-Go</td><td>1000</td></tr><tr><td>Next Launcher 3D Theme Hit-B</td><td>1000</td></tr><tr><td>Ludo - Don't get angry</td><td>1000</td></tr><tr><td>Greater London A-Z 2016</td><td>1000</td></tr><tr><td>Trinomial Factoring Wizard</td><td>1000</td></tr><tr><td>RPG ブレイジング ソウルズ アクセレイト</td><td>1000</td></tr><tr><td>Pixxy KWGT</td><td>1000</td></tr><tr><td>Watch Face BW Inter</td><td>1000</td></tr><tr><td>B-Grade Renegade</td><td>1000</td></tr><tr><td>OptoDrum</td><td>1000</td></tr><tr><td>BZ Reminder PRO</td><td>1000</td></tr><tr><td>Color Changer Pro [root]</td><td>1000</td></tr><tr><td>X Launcher Prime: With OS Style Theme & No Ads</td><td>1000</td></tr><tr><td>Critical Care Paramedic Review</td><td>1000</td></tr><tr><td>Learn Music Notes</td><td>1000</td></tr><tr><td>Lock 'n' Roll Pro - Ad Free</td><td>1000</td></tr><tr><td>Wolf of the BF:Commando MOBILE</td><td>1000</td></tr><tr><td>ASRA Coags</td><td>1000</td></tr><tr><td>CV-RECORD Pro</td><td>1000</td></tr><tr><td>Super Resume Builder Pro, CV</td><td>1000</td></tr><tr><td>Depths of Betrayal CE (Full)</td><td>1000</td></tr><tr><td>I am rich (Most expensive app)</td><td>1000</td></tr><tr><td>Bo's Dinnertime Story</td><td>1000</td></tr><tr><td>boattheory.ch Full 2018</td><td>1000</td></tr><tr><td>InfantRisk Center HCP</td><td>1000</td></tr><tr><td>Traps n' Gemstones</td><td>1000</td></tr><tr><td>Anti Mosquito simulation</td><td>1000</td></tr><tr><td>Whist - Tinnitus Relief</td><td>1000</td></tr><tr><td>Alizay, pirate girl</td><td>1000</td></tr><tr><td>Ba Financial Calculator plus</td><td>1000</td></tr><tr><td>My baby firework (Remove ad)</td><td>1000</td></tr><tr><td>E.G. Chess</td><td>1000</td></tr><tr><td>LocaToWeb - Live GPS tracking</td><td>1000</td></tr><tr><td>Basket Manager 2017 Pro</td><td>1000</td></tr><tr><td>Online TV CZ/SK PRO</td><td>1000</td></tr><tr><td>Lanterns: The Harvest Festival</td><td>1000</td></tr><tr><td>Decibel X PRO - Sound Meter dBA, Noise Detector</td><td>1000</td></tr><tr><td>AP Government Review</td><td>1000</td></tr><tr><td>Calculator</td><td>1000</td></tr><tr><td>Lunar Calendar</td><td>1000</td></tr><tr><td>Basket Manager 2018 Pro</td><td>1000</td></tr><tr><td>Math Games for Pre-K - Grade 4</td><td>1000</td></tr><tr><td>WiFi Monitor Pro - analyzer of Wi-Fi networks</td><td>1000</td></tr><tr><td>EO Guide</td><td>1000</td></tr><tr><td>Beck & Bo: Toddler First Words</td><td>1000</td></tr><tr><td>[substratum] Vacuum: P</td><td>1000</td></tr><tr><td>Chinese Chess 3D Online (Xiangqi, 象棋, co tuong)</td><td>1000</td></tr><tr><td>Penny Puss</td><td>1000</td></tr><tr><td>Koch Morse Trainer Pro</td><td>1000</td></tr><tr><td>End Anxiety Pro - Stress, Panic Attack Help</td><td>1000</td></tr><tr><td>Dark Infusion Substratum Theme for Android N & O</td><td>1000</td></tr><tr><td>I am extremely Rich</td><td>1000</td></tr><tr><td>NewTek NDI</td><td>1000</td></tr><tr><td>pretty Easy privacy p≡p</td><td>500</td></tr><tr><td>ACCDB MDB DB Manager Pro - Editor for MS Access</td><td>500</td></tr><tr><td>DR.MEEP</td><td>500</td></tr><tr><td>Arrhythmias and Dysrhythmias</td><td>500</td></tr><tr><td>W Pro - Weather Forecast & Animated Weather Maps</td><td>500</td></tr><tr><td>SkyTest BU/GU Lite</td><td>500</td></tr><tr><td>Age of AI: War Strategy</td><td>500</td></tr><tr><td>Differential Dx</td><td>500</td></tr><tr><td>Active Soccer 2 DX</td><td>500</td></tr><tr><td>Dialer theme G Black Gold</td><td>500</td></tr><tr><td>FHR 5-Tier 2.0</td><td>500</td></tr><tr><td>O Céu e o Inferno</td><td>500</td></tr><tr><td>AG Contacts, Premium edition</td><td>500</td></tr><tr><td>G Theme 2 for LG V30, LG G6</td><td>500</td></tr><tr><td>DCUO|CR Calculator Pro</td><td>500</td></tr><tr><td>Antenna Tool Premium</td><td>500</td></tr><tr><td>EC music dictionary</td><td>500</td></tr><tr><td>Deaf - Hearing chat device H</td><td>500</td></tr><tr><td>Theme Android P Design for LG V30</td><td>500</td></tr><tr><td>Pinkalicious Party</td><td>500</td></tr><tr><td>Navi Radiography Pro</td><td>500</td></tr><tr><td>K.MOJI</td><td>500</td></tr><tr><td>BL PowerPoint Remote</td><td>500</td></tr><tr><td>Arto: f.infrared photo</td><td>500</td></tr><tr><td>Nursing Care Plan NANDA Tables</td><td>500</td></tr><tr><td>BJ Bridge Pro 2018</td><td>500</td></tr><tr><td>BG Monitor Diabetes Pro</td><td>500</td></tr><tr><td>GO Contacts EX Black & Grey</td><td>500</td></tr><tr><td>BL Holo Theme</td><td>500</td></tr><tr><td>Weather Data CH</td><td>500</td></tr><tr><td>AP Themes for Kustom/KLWP</td><td>500</td></tr><tr><td>Frequencies</td><td>500</td></tr><tr><td>Égalité et Réconciliation</td><td>500</td></tr><tr><td>10,000 Quotes DB (Premium)</td><td>500</td></tr><tr><td>TI-Nspire CX Calculator Manual</td><td>500</td></tr><tr><td>Financial Calculator BA Chien.</td><td>500</td></tr><tr><td>BatControl Pro</td><td>500</td></tr><tr><td>The Great Wobo Escape Ep.1</td><td>500</td></tr><tr><td>Migraine, Headache Diary HeadApp Pro</td><td>500</td></tr><tr><td>CURSUM B</td><td>500</td></tr><tr><td>Cardiac diagnosis (heart rate, arrhythmia)</td><td>200</td></tr><tr><td>Advanced Comprehension Therapy</td><td>200</td></tr><tr><td>AF-STROKE</td><td>100</td></tr><tr><td>Servidor Privado CR y CoC - Royale Servers PRO</td><td>100</td></tr><tr><td>FJ Toolkit</td><td>100</td></tr><tr><td>G-Force Driving Assistant</td><td>100</td></tr><tr><td>Ad Removal: thereisonlywe</td><td>100</td></tr><tr><td>Socle Commun BO du 23-04-2015</td><td>100</td></tr><tr><td>An Elite Warrior Ex</td><td>100</td></tr><tr><td>ZombieVital DG</td><td>100</td></tr><tr><td>Ad Blocker for SayHi</td><td>100</td></tr><tr><td>AH Alarm Panel</td><td>100</td></tr><tr><td>BL 1-Click Camera</td><td>100</td></tr><tr><td>CW Beacon for Ham Radio</td><td>100</td></tr><tr><td>Android P | Xperia™ Theme 4800+ icons</td><td>100</td></tr><tr><td>Bitcoin BX Thailand PRO</td><td>100</td></tr><tr><td>most expensive app (H)</td><td>100</td></tr><tr><td>CT-REMOTE</td><td>100</td></tr><tr><td>Private Dating, Hide App- Blue for PrivacyHider</td><td>100</td></tr><tr><td>B-52 Spirits of Glory Deluxe</td><td>100</td></tr><tr><td>Droidbug BusyBox Advance PRO</td><td>100</td></tr><tr><td>Volume Control Ex</td><td>100</td></tr><tr><td>Sic Bo</td><td>100</td></tr><tr><td>Theme Android P Black for LG G7 & V35</td><td>100</td></tr><tr><td>Masha and the Bear - Hair Salon and MakeUp Games</td><td>100</td></tr><tr><td>F*ck This Game</td><td>100</td></tr><tr><td>Ice Crush 10.000 B.C.</td><td>100</td></tr><tr><td>Radiological Anatomy For FRCR1</td><td>100</td></tr><tr><td>AW Toolbox</td><td>100</td></tr><tr><td>Asiimov Skin - CS GO Icon Pack</td><td>100</td></tr><tr><td>Shopping List S PRO</td><td>100</td></tr><tr><td>20WPM Amateur ham radio Koch CW Morse code trainer</td><td>100</td></tr><tr><td>SCI-FI UI</td><td>100</td></tr><tr><td>Super Hearing Secret Voices Recorder PRO</td><td>100</td></tr><tr><td>Билеты ПДД CD 2019 PRO</td><td>100</td></tr><tr><td>SharedCare™ Co-parenting</td><td>100</td></tr><tr><td>Dr. Splorchy Presents Space Heroes</td><td>100</td></tr><tr><td>World Racers family board game</td><td>100</td></tr><tr><td>EP Calipers</td><td>100</td></tr><tr><td>P-Home for KLWP</td><td>100</td></tr><tr><td>AMBW Dating App: Asian Men Black Women Interracial</td><td>100</td></tr><tr><td>Morse Player</td><td>100</td></tr><tr><td>2 Amateur ham radio CW Morse code practice keys TX</td><td>100</td></tr><tr><td>LTC AS Legal</td><td>100</td></tr><tr><td>Ramfer - CNC Lathe G-code Tool</td><td>100</td></tr><tr><td>Jeppesen CR Flight Computer</td><td>100</td></tr><tr><td>TI-84 CE Graphing Calculator Manual TI 84</td><td>100</td></tr><tr><td>[Sub/EMUI] P Pro - EMUI 8.1/8.0/5.X Theme</td><td>100</td></tr><tr><td>EF Lens Simulator</td><td>100</td></tr><tr><td>500 AP World History Questions</td><td>100</td></tr><tr><td>Message AI - Write Better Messages</td><td>100</td></tr><tr><td>Analog and Digital Clock AW-7PRO</td><td>100</td></tr><tr><td>Wuwu & Co.</td><td>100</td></tr><tr><td>10 WPM Amateur ham radio CW Morse code trainer</td><td>100</td></tr><tr><td>ADS-B Driver</td><td>100</td></tr><tr><td>Dress Up RagazzA13 DX</td><td>100</td></tr><tr><td>RETRO Shocked DW-6000</td><td>100</td></tr><tr><td>Android P Style Icon Pack</td><td>100</td></tr><tr><td>KeePass DX Pro</td><td>100</td></tr><tr><td>FP VoiceBot</td><td>100</td></tr><tr><td>Obbligo o Verità? PRO</td><td>100</td></tr><tr><td>Theme Android P Black design for LG V30</td><td>100</td></tr><tr><td>Chest CT Sectional Walker</td><td>100</td></tr><tr><td>All-in-One Mahjong 3</td><td>100</td></tr><tr><td>iScore5 AP Psych</td><td>100</td></tr><tr><td>CSCS BG (в български)</td><td>100</td></tr><tr><td>Jetting for Honda CR dirt bike</td><td>100</td></tr><tr><td>Watch Face Swiss AJ-6</td><td>100</td></tr><tr><td>FO Bixby</td><td>100</td></tr><tr><td>OMEGA Black UI Theme - CM 12+</td><td>100</td></tr><tr><td>Theme Android P for LG G7 & V35</td><td>100</td></tr><tr><td>Anna.K Tarot</td><td>100</td></tr><tr><td>B-17 Flying Fortress WWII LWP</td><td>100</td></tr><tr><td>Hey AJ! It's Saturday!</td><td>100</td></tr><tr><td>IF YOU TO EU PEGO</td><td>100</td></tr><tr><td>BL IP-Camera</td><td>100</td></tr><tr><td>California Cop Assist CA Cop</td><td>100</td></tr><tr><td>DS Helpdesk Plus</td><td>100</td></tr><tr><td>CW Studio ®</td><td>100</td></tr><tr><td>Masha and the Bear- House Cleaning Games for Girls</td><td>100</td></tr><tr><td>CB Frequencies</td><td>100</td></tr><tr><td>Q Avatar Pro</td><td>100</td></tr><tr><td>G-NetWiFi Pro</td><td>100</td></tr><tr><td>Learn Quran with Elif Ba</td><td>100</td></tr><tr><td>Pain Tracker & Diary</td><td>100</td></tr><tr><td>Phonics Puzzles</td><td>100</td></tr><tr><td>Galaxian(FC)</td><td>100</td></tr><tr><td>Cardio Z</td><td>100</td></tr><tr><td>Diseño de columnas NTC - RSEE 2017</td><td>100</td></tr><tr><td>CA Speakers</td><td>100</td></tr><tr><td>Abdominal CT Sectional Walker</td><td>100</td></tr><tr><td>Neon-R (Red)</td><td>100</td></tr><tr><td>Blackjack Verite Drills</td><td>100</td></tr><tr><td>O'Route Orienteering</td><td>100</td></tr><tr><td>FORD V SERIES CALC - NO LIMIT</td><td>50</td></tr><tr><td>EX File Explorer File Manage Pro</td><td>50</td></tr><tr><td>Vital Tones EI Pro</td><td>50</td></tr><tr><td>AJ Blue Icon Pack</td><td>50</td></tr><tr><td>AC CE BJT Actorial</td><td>50</td></tr><tr><td>AJ Gray Icon Pack</td><td>50</td></tr><tr><td>CT and XR Dose Calculator</td><td>50</td></tr><tr><td>BL File Explorer</td><td>50</td></tr><tr><td>SLANGY-Perfect BK World Theme</td><td>50</td></tr><tr><td>EG Classroom Decimals™</td><td>50</td></tr><tr><td>Truth or Dare Pro</td><td>50</td></tr><tr><td>Circle Colors Pack-FN Theme</td><td>50</td></tr><tr><td>Real Sheet ∞: Pathfinder + DT</td><td>50</td></tr><tr><td>ABG Master</td><td>50</td></tr><tr><td>Bubble Shooter DX AdFree</td><td>50</td></tr><tr><td>Santa's Monster Shootout DX</td><td>50</td></tr><tr><td>BC MVA Fines</td><td>50</td></tr><tr><td>DX Glow - Clock Widget</td><td>50</td></tr><tr><td>D.C. Driving/Walking Tours</td><td>50</td></tr><tr><td>iLauncher OS 12 Pro - Phone X</td><td>50</td></tr><tr><td>Interactive NPC DM Tool</td><td>50</td></tr><tr><td>BS Detector - Diss 'n' Gauges</td><td>50</td></tr><tr><td>Reading Race 1b: sh, ch words</td><td>50</td></tr><tr><td>Unstoppaball DX</td><td>50</td></tr><tr><td>DG Surveyor</td><td>50</td></tr><tr><td>Scale Models DB</td><td>50</td></tr><tr><td>Number Therapy</td><td>50</td></tr><tr><td>Truck Driving Test Class 3 BC</td><td>50</td></tr><tr><td>EP McGuffey Primer</td><td>50</td></tr><tr><td>Q-slope</td><td>50</td></tr><tr><td>Ability DS UNO</td><td>50</td></tr><tr><td>Word Search Tab 1 FR</td><td>50</td></tr><tr><td>EP Coding</td><td>50</td></tr><tr><td>Monitor My BP</td><td>50</td></tr><tr><td>AC DC Power Monitor</td><td>10</td></tr><tr><td>AJ Gray Dark Icon Pack</td><td>10</td></tr><tr><td>CZ-27 pistol explained</td><td>10</td></tr><tr><td>G-NetReport Pro</td><td>10</td></tr><tr><td>Técnico Legislativo Câmara Legislativa DF</td><td>10</td></tr><tr><td>FN model 1900 pistol explained</td><td>10</td></tr><tr><td>Es-Bg Offline Voice Translator</td><td>10</td></tr><tr><td>AP Art History Flashcards</td><td>10</td></tr><tr><td>FN FAL rifle explained</td><td>10</td></tr><tr><td>J Alvarej Moji</td><td>10</td></tr><tr><td>AJ Orange Icon Pack</td><td>10</td></tr><tr><td>Pacify Exceed (Android P) - Theme for Xperia™</td><td>10</td></tr><tr><td>All-night drugstore CI & Price</td><td>10</td></tr><tr><td>Dr.Dice - Sic bo analyzer</td><td>10</td></tr><tr><td>Hey AJ! It's Bedtime!</td><td>10</td></tr><tr><td>Reksio cz. 1</td><td>10</td></tr><tr><td>Easy Hotspot Ad Free</td><td>10</td></tr><tr><td>DL Image Manager</td><td>10</td></tr><tr><td>Car Driving Theory Test BC</td><td>10</td></tr><tr><td>AJ Turquoise Dark Icon Pack</td><td>10</td></tr><tr><td>25WPM Amateur ham radio Koch CW Morse code trainer</td><td>10</td></tr><tr><td>Emergency Brain CT</td><td>10</td></tr><tr><td>Speech Therapy: CH</td><td>10</td></tr><tr><td>Squeezy CF</td><td>10</td></tr><tr><td>30WPM Amateur ham radio Koch CW Morse code trainer</td><td>10</td></tr><tr><td>CZ-45 pistol explained</td><td>10</td></tr><tr><td>The DG Buddy</td><td>10</td></tr><tr><td>ap,wifi testing,iperf,ping,android,Bluetooth,tcp</td><td>10</td></tr><tr><td>CW Ringtone (Morse Code generator)</td><td>10</td></tr><tr><td>Pacify (Android P theme) - Theme for Xperia™</td><td>10</td></tr><tr><td>INTERACTIVE CALCULUS PRO</td><td>10</td></tr><tr><td>Cossack Dictionary (DN)</td><td>10</td></tr><tr><td>ReDNAKET DB Normalization Tool</td><td>10</td></tr><tr><td>BT Speed</td><td>10</td></tr><tr><td>meStudying: AP English Lit</td><td>10</td></tr><tr><td>CI 174 Gray Icon Pack</td><td>10</td></tr><tr><td>Lean EQ</td><td>10</td></tr><tr><td>211:CK</td><td>10</td></tr><tr><td>FN pistol model 1903 explained</td><td>10</td></tr><tr><td>BS Match Maker Premium</td><td>10</td></tr><tr><td>Speech Therapy: F</td><td>10</td></tr><tr><td>P Icon Pack</td><td>10</td></tr><tr><td>PROFESSOR SEE-BA LINGUAGENS E SUAS TECNOLOGIAS</td><td>10</td></tr><tr><td>USMLE Step 2 CK Flashcards</td><td>10</td></tr><tr><td>Guide to Nikon Df</td><td>10</td></tr><tr><td>OrthoFlow</td><td>10</td></tr><tr><td>iCluster - The DX-Cluster database</td><td>10</td></tr><tr><td>UFO-CQ</td><td>10</td></tr><tr><td>F-1 watchface by Delta</td><td>10</td></tr><tr><td>FREE CHATS C.L.</td><td>10</td></tr><tr><td>CZ-70 (CZ-50) pistol explained</td><td>10</td></tr><tr><td>LC-DB</td><td>10</td></tr><tr><td>Cargo de Praça PM DF</td><td>10</td></tr><tr><td>CS go bomb simulator</td><td>10</td></tr><tr><td>ch-mm Dict</td><td>10</td></tr><tr><td>Chess of Blades (BL/Yaoi Game) (No VA)</td><td>10</td></tr><tr><td>EU RCD Guide</td><td>10</td></tr><tr><td>The FN HP pistol explained</td><td>10</td></tr><tr><td>DZ Puzzle</td><td>10</td></tr><tr><td>Pistolet FN 1906 expliqué</td><td>10</td></tr><tr><td>BI Barcode Scanner</td><td>10</td></tr><tr><td>PhotoFrame for Synology DS</td><td>10</td></tr><tr><td>F Length Sim (no Ads)</td><td>10</td></tr><tr><td>Sam.BN Pro</td><td>10</td></tr><tr><td>The FN \"Baby\" pistol explained</td><td>10</td></tr><tr><td>Z PIVOT</td><td>10</td></tr><tr><td>Ay Yıldız - Xperia Live Theme</td><td>10</td></tr><tr><td>Chronolink DX</td><td>10</td></tr><tr><td>CZ-52 pistol explained</td><td>10</td></tr><tr><td>FN pistol Model 1906 explained</td><td>10</td></tr><tr><td>Glanceable Ap Watch Face</td><td>5</td></tr><tr><td>Android P Home KLWP</td><td>5</td></tr><tr><td>CZ-38 (vz 38) pistol explained</td><td>5</td></tr><tr><td>Alif Ba Ta Bullseye</td><td>5</td></tr><tr><td>Norwegian For Kids & Babies F</td><td>5</td></tr><tr><td>USB BT Wi-Fi Color Terminal Modem</td><td>5</td></tr><tr><td>Schlaumeier</td><td>5</td></tr><tr><td>DM Die Roller 9000</td><td>5</td></tr><tr><td>Pistolet FN GP35 expliqué</td><td>5</td></tr><tr><td>Dive-Store.ch</td><td>5</td></tr><tr><td>Bk Bee Sales Manager</td><td>5</td></tr><tr><td>CI Attendance</td><td>5</td></tr><tr><td>Dz kayas</td><td>1</td></tr><tr><td>Be the Expert in Phlebotomy - Professional Nursing</td><td>1</td></tr><tr><td>DK Primrose for KLWP</td><td>1</td></tr><tr><td>CE Genius Nurses Edition</td><td>1</td></tr><tr><td>BP Fitness Lead Scanner</td><td>1</td></tr><tr><td>Michael's AG Sound Board</td><td>1</td></tr><tr><td>amm dz</td><td>1</td></tr><tr><td>Mu.F.O.</td><td>1</td></tr><tr><td>AQ Math Facts</td><td>1</td></tr><tr><td>Learn CW</td><td>1</td></tr><tr><td>Visualmed</td><td>1</td></tr><tr><td>Pistolet CZ-70 CZ-50 expliqué</td><td>1</td></tr><tr><td>Bi-Tank Ads Free</td><td>1</td></tr><tr><td>Ra Ga Ba</td><td>1</td></tr><tr><td>Pureness Pacify (Android P) - Theme for Xperia™</td><td>1</td></tr><tr><td>YAKALA AY</td><td>1</td></tr><tr><td>db Meter - sound level meter with data logging</td><td>1</td></tr><tr><td>Pistachio Launcher for Android P 9.0</td><td>1</td></tr><tr><td>AX Watch for WatchMaker</td><td>1</td></tr><tr><td>¡Ay Caramba!</td><td>1</td></tr><tr><td>D+H Reaction Wall</td><td>1</td></tr><tr><td>Eu Sou Rico</td><td>0</td></tr><tr><td>Ain Arabic Kids Alif Ba ta</td><td>0</td></tr><tr><td>AP Series Solution Pro</td><td>0</td></tr><tr><td>I'm Rich/Eu sou Rico/أنا غني/我很有錢</td><td>0</td></tr><tr><td>cronometra-br</td><td>0</td></tr><tr><td>EG | Explore Folegandros</td><td>0</td></tr><tr><td>EP Cook Book</td><td>0</td></tr><tr><td>Ak Parti Yardım Toplama</td><td>0</td></tr><tr><td>Eu sou Rico</td><td>0</td></tr><tr><td>Popsicle Launcher for Android P 9.0 launcher</td><td>0</td></tr></tbody></table></div>"
      ]
     },
     "metadata": {
      "application/vnd.databricks.v1+output": {
       "addedWidgets": {},
       "aggData": [],
       "aggError": "",
       "aggOverflow": false,
       "aggSchema": [],
       "aggSeriesLimitReached": false,
       "aggType": "",
       "arguments": {},
       "columnCustomDisplayInfos": {},
       "data": [
        [
         "Minecraft",
         20000000
        ],
        [
         "Hitman Sniper",
         10000000
        ],
        [
         "Facetune - For Free",
         3000000
        ],
        [
         "Beautiful Widgets Pro",
         2000000
        ],
        [
         "HD Widgets",
         2000000
        ],
        [
         "League of Stickman 2018- Ninja Arena PVP(Dreamsky)",
         1000000
        ],
        [
         "Fruit Ninja Classic",
         1000000
        ],
        [
         "Toca Life: City",
         1000000
        ],
        [
         "DraStic DS Emulator",
         1000000
        ],
        [
         "Five Nights at Freddy's",
         1000000
        ],
        [
         "Threema",
         1000000
        ],
        [
         "True Skate",
         1000000
        ],
        [
         "Infinity Dungeon VIP",
         1000000
        ],
        [
         "Tasker",
         1000000
        ],
        [
         "Where's My Water?",
         1000000
        ],
        [
         "Cut the Rope GOLD",
         1000000
        ],
        [
         "Stickman Legends: Shadow Wars",
         1000000
        ],
        [
         "Lost Journey (Dreamsky)",
         1000000
        ],
        [
         "Bloons TD 5",
         1000000
        ],
        [
         "Card Wars - Adventure Time",
         1000000
        ],
        [
         "Sleep as Android Unlock",
         1000000
        ],
        [
         "Grand Theft Auto: San Andreas",
         1000000
        ],
        [
         "Zombie Avengers:(Dreamsky)Stickman War Z",
         1000000
        ],
        [
         "NBA JAM by EA SPORTS™",
         500000
        ],
        [
         "Cameringo+ Filters Camera",
         500000
        ],
        [
         "Hitman GO",
         500000
        ],
        [
         "CamScanner (License)",
         500000
        ],
        [
         "Five Nights at Freddy's 2",
         500000
        ],
        [
         "Weather Live",
         500000
        ],
        [
         "Farming Simulator 16",
         500000
        ],
        [
         "ES File Explorer/Manager PRO",
         500000
        ],
        [
         "Assassin's Creed Identity",
         500000
        ],
        [
         "ADWLauncher 1 EX",
         500000
        ],
        [
         "Human Anatomy Atlas 2018: Complete 3D Human Body",
         300000
        ],
        [
         "The Game of Life",
         200000
        ],
        [
         "Monash Uni Low FODMAP Diet",
         200000
        ],
        [
         "Pocket Yoga",
         200000
        ],
        [
         "TurboScan: scan documents and receipts in PDF",
         200000
        ],
        [
         "Tiny Scanner Pro: PDF Doc Scan",
         200000
        ],
        [
         "Camera FV-5",
         200000
        ],
        [
         "Dr. Panda & Toto's Treehouse",
         150000
        ],
        [
         "XCOM®: Enemy Within",
         100000
        ],
        [
         "Dr. Panda Restaurant 2",
         100000
        ],
        [
         "CN Superstar Soccer: Goal!!!",
         100000
        ],
        [
         "Dr. Panda's Swimming Pool",
         100000
        ],
        [
         "My Budget Book",
         100000
        ],
        [
         "ZOOKEEPER DX TouchEdition",
         100000
        ],
        [
         "Guns'n'Glory Premium",
         100000
        ],
        [
         "Guns'n'Glory WW2 Premium",
         100000
        ],
        [
         "ExDialer PRO Key",
         100000
        ],
        [
         "Skip-Bo™",
         100000
        ],
        [
         "Weather Forecast Pro",
         100000
        ],
        [
         "aCalendar+ Calendar & Tasks",
         100000
        ],
        [
         "Toca Builders",
         100000
        ],
        [
         "Puffin Browser Pro",
         100000
        ],
        [
         "Essential Anatomy 3",
         100000
        ],
        [
         "Pujie Black Watch Face for Android Wear OS",
         100000
        ],
        [
         "BackCountry Navigator TOPO GPS PRO",
         100000
        ],
        [
         "ai.type keyboard Plus + Emoji",
         100000
        ],
        [
         "The Room: Old Sins",
         100000
        ],
        [
         "Business Calendar Pro",
         100000
        ],
        [
         "FINAL FANTASY V",
         100000
        ],
        [
         "The Hunt for the Lost Treasure",
         100000
        ],
        [
         "Five Nights at Freddy's 4",
         100000
        ],
        [
         "Superbrothers Sword & Sworcery",
         100000
        ],
        [
         "R-TYPE",
         100000
        ],
        [
         "WiFi Tether Router",
         100000
        ],
        [
         "CM Launcher 3D Pro💎",
         100000
        ],
        [
         "The House of Da Vinci",
         100000
        ],
        [
         "Star Wars ™: DIRTY",
         100000
        ],
        [
         "Baldur's Gate: Enhanced Edition",
         100000
        ],
        [
         "BlackCam Pro - B&W Camera",
         100000
        ],
        [
         "F-Sim Space Shuttle",
         100000
        ],
        [
         "Kernel Manager for Franco Kernel ✨",
         100000
        ],
        [
         "Call of Duty:Black Ops Zombies",
         100000
        ],
        [
         "Attack the Light",
         100000
        ],
        [
         "Football Manager Mobile 2018",
         100000
        ],
        [
         "Toca Life: Hospital",
         100000
        ],
        [
         "Cytus II",
         100000
        ],
        [
         "Maps & GPS Navigation OsmAnd+",
         100000
        ],
        [
         "DRAGON QUEST",
         100000
        ],
        [
         "Ski Safari: Adventure Time",
         100000
        ],
        [
         "Clue",
         100000
        ],
        [
         "Mupen64Plus AE (N64 Emulator)",
         100000
        ],
        [
         "Day R Premium",
         100000
        ],
        [
         "BusyBox Pro",
         100000
        ],
        [
         "Riptide GP: Renegade",
         100000
        ],
        [
         "X Construction",
         100000
        ],
        [
         "RollerCoaster Tycoon® Classic",
         100000
        ],
        [
         "Lapse It • Time Lapse • Pro",
         100000
        ],
        [
         "Meme Generator",
         100000
        ],
        [
         "Weather & Radar Pro - Ad-Free",
         100000
        ],
        [
         "Teeny Titans - Teen Titans Go!",
         100000
        ],
        [
         "Farming Simulator 18",
         100000
        ],
        [
         "Solitaire+",
         100000
        ],
        [
         "DRAGON QUEST VI",
         100000
        ],
        [
         "Koi Live Wallpaper",
         100000
        ],
        [
         "Don't Starve: Pocket Edition",
         100000
        ],
        [
         "QR Code Pro",
         100000
        ],
        [
         "Battery HD Pro",
         100000
        ],
        [
         "Sonic 4™ Episode I",
         100000
        ],
        [
         "The Escapists",
         100000
        ],
        [
         "Tools & Mi Band",
         100000
        ],
        [
         "Relax Melodies P: Sleep Sounds",
         100000
        ],
        [
         "LEGO ® Batman: Beyond Gotham",
         100000
        ],
        [
         "Five Nights at Freddy's: SL",
         100000
        ],
        [
         "N Launcher Pro - Nougat 7.0",
         100000
        ],
        [
         "Smart Launcher Pro 3",
         100000
        ],
        [
         "Deus Ex GO",
         100000
        ],
        [
         "FINAL FANTASY DIMENSIONS",
         100000
        ],
        [
         "Monument Valley 2",
         100000
        ],
        [
         "Five Nights at Freddy's 3",
         100000
        ],
        [
         "My Talking Pet",
         100000
        ],
        [
         "I am rich",
         100000
        ],
        [
         "Weather Live Pro",
         100000
        ],
        [
         "Mind Games Pro",
         100000
        ],
        [
         "CHRONO TRIGGER (Upgrade Ver.)",
         100000
        ],
        [
         "Battleheart Legacy",
         50000
        ],
        [
         "Dr. Panda Hospital",
         50000
        ],
        [
         "BSPlayer",
         50000
        ],
        [
         "Golfshot Plus: Golf GPS",
         50000
        ],
        [
         "BeFunky Photo Editor Pro",
         50000
        ],
        [
         "Muscle Trigger Point Anatomy",
         50000
        ],
        [
         "I Am Rich Premium",
         50000
        ],
        [
         "Menstrual Calendar Premium",
         50000
        ],
        [
         "cronometer (ad free)",
         50000
        ],
        [
         "Ulysse Speedometer Pro",
         50000
        ],
        [
         "Adventure Time Game Wizard",
         50000
        ],
        [
         "DRAGON QUEST VIII",
         50000
        ],
        [
         "AJ Jump: Animal Jam Kangaroos!",
         50000
        ],
        [
         "Elemental Knights R Platinum",
         50000
        ],
        [
         "Paprika Recipe Manager",
         50000
        ],
        [
         "LEGO Batman: DC Super Heroes",
         50000
        ],
        [
         "Inventory & Barcode scanner & WIFI scanner",
         50000
        ],
        [
         "Organizer",
         50000
        ],
        [
         "Dots puzzle",
         50000
        ],
        [
         "Navigator PRO - GPS Navigation with Offline Maps",
         50000
        ],
        [
         "Z Origins - (Z The Game)",
         50000
        ],
        [
         "Lullaby Add-on for Sleep as Android",
         50000
        ],
        [
         "Advanced Download Manager Pro",
         50000
        ],
        [
         "Out There Chronicles - Ep. 1",
         50000
        ],
        [
         "Day Night Live Wallpaper (All)",
         50000
        ],
        [
         "Mental Hospital V",
         50000
        ],
        [
         "Shadow Fight 2 Special Edition",
         50000
        ],
        [
         "Daily Ab Workout",
         50000
        ],
        [
         "Baby Connect (activity log)",
         50000
        ],
        [
         "Device Info Ex Live Wallpaper",
         50000
        ],
        [
         "R-TYPE II",
         50000
        ],
        [
         "C4droid - C/C++ compiler & IDE",
         50000
        ],
        [
         "Learn Italian with MosaLingua",
         50000
        ],
        [
         "Mike V: Skateboard Party PRO",
         50000
        ],
        [
         "FlashLight HD LED Pro",
         50000
        ],
        [
         "Baldur's Gate II",
         50000
        ],
        [
         "Dr. Panda Supermarket",
         50000
        ],
        [
         "Dr. Panda Art Class",
         50000
        ],
        [
         "Nighty Night Circus",
         20000
        ],
        [
         "ASCCP Mobile",
         20000
        ],
        [
         "IBM Micromedex Drug Info",
         20000
        ],
        [
         "Moco+ - Chat, Meet People",
         20000
        ],
        [
         "EMT Review Plus",
         20000
        ],
        [
         "Pedi STAT",
         20000
        ],
        [
         "Sago Mini Babies",
         20000
        ],
        [
         "iBP Blood Pressure",
         20000
        ],
        [
         "Journal Club: Medicine",
         20000
        ],
        [
         "Paramedic Protocol Provider",
         20000
        ],
        [
         "EMT Tutor NREMT-B Study Guide",
         20000
        ],
        [
         "Muscle Premium - Human Anatomy, Kinesiology, Bones",
         20000
        ],
        [
         "I am Rich Plus",
         10000
        ],
        [
         "Trine 2: Complete Story",
         10000
        ],
        [
         "Sokoban Land DX",
         10000
        ],
        [
         "Campervan.Guide Pro",
         10000
        ],
        [
         "Medical ID - In Case of Emergency (ICE)",
         10000
        ],
        [
         "The World Ends With You",
         10000
        ],
        [
         "Flipped Out! - Powerpuff Girls",
         10000
        ],
        [
         "Al'Quran Bahasa Indonesia PRO",
         10000
        ],
        [
         "MultiPicture Live Wallpaper dn",
         10000
        ],
        [
         "Smart Wi-Fi Hotspot PRO",
         10000
        ],
        [
         "My Movies Pro - Movie & TV Collection Library",
         10000
        ],
        [
         "Light X - Icon Pack",
         10000
        ],
        [
         "My Little Work – Garage",
         10000
        ],
        [
         "Math games for kids : times tables training",
         10000
        ],
        [
         "I Am Rich",
         10000
        ],
        [
         "MEGA MAN MOBILE",
         10000
        ],
        [
         "Power Widget",
         10000
        ],
        [
         "MyRadar NOAA Weather Radar Ad Free",
         10000
        ],
        [
         "Alarmy (Sleep If U Can) - Pro",
         10000
        ],
        [
         "DRAGON QUEST V",
         10000
        ],
        [
         "The EO Bar",
         10000
        ],
        [
         "Teen Titans GO Figure!",
         10000
        ],
        [
         "X Home Bar - Home Bar Gesture Pro",
         10000
        ],
        [
         "Backgammon NJ for Android",
         10000
        ],
        [
         "Neon Glow C - Icon Pack",
         10000
        ],
        [
         "Volume Slider Like Android P Volume Control",
         10000
        ],
        [
         "Peppa Pig: Party Time",
         10000
        ],
        [
         "Tsuro - The Game of the Path",
         10000
        ],
        [
         "Planet O - Icon Pack",
         10000
        ],
        [
         "Portable Wi-Fi hotspot Premium",
         10000
        ],
        [
         "FVD Ad-Free",
         10000
        ],
        [
         "Guns'n'Glory Heroes Premium",
         10000
        ],
        [
         "Retro City Rampage DX",
         10000
        ],
        [
         "I am Bread",
         10000
        ],
        [
         "Morse Trainer for Ham Radio",
         10000
        ],
        [
         "Paramedic Meds",
         10000
        ],
        [
         "Jurassic Life: T Rex Simulator",
         10000
        ],
        [
         "Paris ci la Sortie du Métro",
         10000
        ],
        [
         "Pocket Lab Values",
         10000
        ],
        [
         "Battery Notifier Pro BT",
         10000
        ],
        [
         "El Chavo",
         10000
        ],
        [
         "Oddworld: New 'n' Tasty",
         10000
        ],
        [
         "Stand O’Food® (Full)",
         10000
        ],
        [
         "I Can't Wake Up!",
         10000
        ],
        [
         "Myth Defense 2: DF Platinum",
         10000
        ],
        [
         "XE Currency Pro",
         10000
        ],
        [
         "iCam - Webcam Video Streaming",
         10000
        ],
        [
         "Please, Don't Touch Anything",
         10000
        ],
        [
         "weather HD",
         10000
        ],
        [
         "AnatomyMapp",
         10000
        ],
        [
         "Dirt Trackin Sprint Cars",
         10000
        ],
        [
         "BIG Launcher",
         10000
        ],
        [
         "My CookBook Pro (Ad Free)",
         10000
        ],
        [
         "DRAGON QUEST II",
         10000
        ],
        [
         "Ghosts'n Goblins MOBILE",
         10000
        ],
        [
         "DRAGON QUEST III",
         10000
        ],
        [
         "I am Rich Premium Plus",
         10000
        ],
        [
         "X Back - Icon Pack",
         10000
        ],
        [
         "Kairo XP (for HD Widgets)",
         10000
        ],
        [
         "Trazado de tuberia El Tubero",
         10000
        ],
        [
         "Theatre of the Absurd CE(Full)",
         10000
        ],
        [
         "Dr. Panda Farm",
         10000
        ],
        [
         "Absolute RC Heli Simulator",
         10000
        ],
        [
         "💎 I'm rich",
         10000
        ],
        [
         "LightMeter (noAds)",
         10000
        ],
        [
         "EU Flags Live Wallpaper",
         10000
        ],
        [
         "ZArchiver Donate",
         10000
        ],
        [
         "Acupuncture Assistant",
         10000
        ],
        [
         "Formula Cartoon All Stars",
         10000
        ],
        [
         "C Locker Pro",
         10000
        ],
        [
         "Ultimate Watch 2 watch face",
         10000
        ],
        [
         "Best Park in the Universe",
         10000
        ],
        [
         "Deep Sleep Battery Saver Pro",
         10000
        ],
        [
         "X Launcher Pro - IOS Style Theme & Control Center",
         10000
        ],
        [
         "Detect-O-Gromit (D.O.G 2)",
         10000
        ],
        [
         "K-@ Mail Pro - Email App",
         10000
        ],
        [
         "RAM Cleanup Ad-Free Option",
         10000
        ],
        [
         "CM FILE MANAGER Pro",
         10000
        ],
        [
         "Automagic * Automation",
         10000
        ],
        [
         "Lab Values + Medical Reference",
         10000
        ],
        [
         "King of Math",
         10000
        ],
        [
         "BringGo AU & NZ",
         10000
        ],
        [
         "Carrier Landings Pro",
         10000
        ],
        [
         "Bixby Button Remapper - bxActions Pro / Coffee",
         10000
        ],
        [
         "DRAGON QUEST IV",
         10000
        ],
        [
         "Dr. Seuss's ABC",
         10000
        ],
        [
         "tTorrent - ad free",
         10000
        ],
        [
         "Meditation Studio",
         10000
        ],
        [
         "Silence Premium Do Not Disturb",
         10000
        ],
        [
         "Age of Conquest: N. America",
         10000
        ],
        [
         "Swift Dark CM / CM13 Theme",
         10000
        ],
        [
         "Flud (Ad free)",
         10000
        ],
        [
         "Train Sim Pro",
         10000
        ],
        [
         "FiSwitch",
         10000
        ],
        [
         "sugar, sugar",
         10000
        ],
        [
         "LEGO® Friends",
         10000
        ],
        [
         "European War 6: 1804",
         10000
        ],
        [
         "F-Stop Gallery Pro",
         10000
        ],
        [
         "I'm Rich - Trump Edition",
         10000
        ],
        [
         "Rockstars of Ooo",
         10000
        ],
        [
         "Penny Finder",
         10000
        ],
        [
         "Vpn Hosts (ad blocker & no root & support ipv6 )",
         10000
        ],
        [
         "THE aMAZEing Labyrinth",
         10000
        ],
        [
         "I am rich VIP",
         10000
        ],
        [
         "Don't Starve: Shipwrecked",
         10000
        ],
        [
         "PAC-MAN CE DX",
         10000
        ],
        [
         "Ray Financial Calculator Pro",
         10000
        ],
        [
         "Whoowasit? - Best kids game!",
         5000
        ],
        [
         "Morse Machine for Ham Radio",
         5000
        ],
        [
         "Poker Equity Calculator Pro for No Limit Hold'em",
         5000
        ],
        [
         "New York Mysteries (Full)",
         5000
        ],
        [
         "Wi-Fi Rabbit Unlock Key",
         5000
        ],
        [
         "Ai-Ball AV Recorder",
         5000
        ],
        [
         "Chess and Mate",
         5000
        ],
        [
         "Prime Key for Nougat Launcher& O Launcher &KitKat",
         5000
        ],
        [
         "Advanced EX for RENAULT",
         5000
        ],
        [
         "Officiel du SCRABBLE LAROUSSE",
         5000
        ],
        [
         "Kicker U",
         5000
        ],
        [
         "H*nest Meditation",
         5000
        ],
        [
         "DC Metro Transit",
         5000
        ],
        [
         "Calcium Pro",
         5000
        ],
        [
         "Advanced EX for FIAT",
         5000
        ],
        [
         "Visual Anatomy 2",
         5000
        ],
        [
         "Basketball Dynasty Manager 16",
         5000
        ],
        [
         "PORTABLE SOCCER DX",
         5000
        ],
        [
         "I am Millionaire - Richest guy in the town",
         5000
        ],
        [
         "Pocket RxTx Pro",
         5000
        ],
        [
         "Ghouls'n Ghosts MOBILE",
         5000
        ],
        [
         "FL Racing Manager 2018 Pro",
         5000
        ],
        [
         "I Am Rich Pro",
         5000
        ],
        [
         "EMT Study - NREMT Test Prep",
         5000
        ],
        [
         "G-NetTrack Pro",
         5000
        ],
        [
         "Morse Decoder for Ham Radio",
         5000
        ],
        [
         "X-Plane to GPS",
         5000
        ],
        [
         "A41 WatchFace for Android Wear Smart Watch",
         5000
        ],
        [
         "MommyMeds",
         5000
        ],
        [
         "Q Alerts: QAnon Drop Notifications, Research +++",
         5000
        ],
        [
         "Remote EX for NISSAN",
         5000
        ],
        [
         "FL Racing Manager 2015 Pro",
         5000
        ],
        [
         "I am rich(premium)",
         5000
        ],
        [
         "I am Rich",
         5000
        ],
        [
         "Board Game Stats: Play tracking for tabletop games",
         5000
        ],
        [
         "Guns'n'Glory Zombies Premium",
         5000
        ],
        [
         "Manage My Pain Pro",
         5000
        ],
        [
         "palmPEDi: Pediatric Tape",
         5000
        ],
        [
         "Don't Panic with Andrew J.",
         5000
        ],
        [
         "Breathing Zone",
         5000
        ],
        [
         "Steam: Rails to Riches",
         5000
        ],
        [
         "Pixel Oreo/P Dark White AMOLED UI - Icon Pack",
         5000
        ],
        [
         "Advanced EX for KIA",
         5000
        ],
        [
         "With Helper Pro Pill Reminder",
         5000
        ],
        [
         "Toca Mystery House",
         5000
        ],
        [
         "Tetrobot and Co.",
         5000
        ],
        [
         "My Little Princess : Stores",
         5000
        ],
        [
         "Please Don't Touch Anything 3D",
         5000
        ],
        [
         "Go",
         5000
        ],
        [
         "Advanced EX for HYUNDAI",
         5000
        ],
        [
         "The Artificial Intelligence Project (A.I. Chat)",
         5000
        ],
        [
         "G Cloud Apps Backup Key * root",
         5000
        ],
        [
         "Hunt Buddy BC",
         5000
        ],
        [
         "AG Subway Simulator Mobile",
         5000
        ],
        [
         "X Launcher Pro: PhoneX Theme, OS11 Control Center",
         5000
        ],
        [
         "Ultimate Public Campgrounds (Over 37,100 in US&CA)",
         5000
        ],
        [
         "Smart Launcher theme b. gold",
         5000
        ],
        [
         "WhatsFake Pro (Ad free)",
         5000
        ],
        [
         "TV Guide BR Gold",
         5000
        ],
        [
         "Advanced EX for NISSAN",
         5000
        ],
        [
         "Gunship III Vietnam People AF",
         5000
        ],
        [
         "Droid PRoCon BF3",
         5000
        ],
        [
         "Writing Wizard Premium - Handwriting",
         5000
        ],
        [
         "EMT PASS",
         2000
        ],
        [
         "PTA Content Master",
         2000
        ],
        [
         "Vargo Anesthesia Mega App",
         2000
        ],
        [
         "Diabetes & Diet Tracker",
         2000
        ],
        [
         "Blood Pressure Companion",
         2000
        ],
        [
         "A Manual of Acupuncture",
         2000
        ],
        [
         "Fuzzy Numbers: Pre-K Number Foundation",
         2000
        ],
        [
         "Block Buddy",
         2000
        ],
        [
         "Avokiddo Emotions",
         2000
        ],
        [
         "Hospitalist Handbook",
         2000
        ],
        [
         "2017 EMRA Antibiotic Guide",
         2000
        ],
        [
         "SweetLand — Family Board Game",
         1000
        ],
        [
         "Language Therapy: Aphasia",
         1000
        ],
        [
         "iHunter BC",
         1000
        ],
        [
         "bpresso PRO",
         1000
        ],
        [
         "iFish BC",
         1000
        ],
        [
         "Electrician Calculator Pro",
         1000
        ],
        [
         "WIZARD Card Game",
         1000
        ],
        [
         "F05WatchFace for Android Wear",
         1000
        ],
        [
         "I am Rich Person",
         1000
        ],
        [
         "Next Launcher 3D Theme Hit-G",
         1000
        ],
        [
         "I AM RICH PRO PLUS",
         1000
        ],
        [
         "myGrow",
         1000
        ],
        [
         "VeinSeek",
         1000
        ],
        [
         "go41cx",
         1000
        ],
        [
         "DW Contacts widget",
         1000
        ],
        [
         "Nightenfell: Shared AR",
         1000
        ],
        [
         "Police Field Interview FI Card",
         1000
        ],
        [
         "S Launcher Pro for Galaxy",
         1000
        ],
        [
         "Gravidez ao Vivo",
         1000
        ],
        [
         "My Virtual Boyfriend",
         1000
        ],
        [
         "ERres- Emergency Medicine",
         1000
        ],
        [
         "Sago Mini Big City",
         1000
        ],
        [
         "Sago Mini Hat Maker",
         1000
        ],
        [
         "CZ-Cyberon Voice Commander",
         1000
        ],
        [
         "m>notes notepad",
         1000
        ],
        [
         "Bo's School Day",
         1000
        ],
        [
         "Medical terms (OFFLINE)",
         1000
        ],
        [
         "Dungeons and Dragons DM Tools",
         1000
        ],
        [
         "Children Educational Game Full",
         1000
        ],
        [
         "Advanced EX for MITSUBISHI",
         1000
        ],
        [
         "R Instructor",
         1000
        ],
        [
         "Analog Clock AW-7 PRO",
         1000
        ],
        [
         "Führerschein Klasse CE, LKW 2018",
         1000
        ],
        [
         "EM Launcher Pro",
         1000
        ],
        [
         "FL SW Fishing Regulations",
         1000
        ],
        [
         "Talkie Pro - Wi-Fi Calling, Chats, File Sharing",
         1000
        ],
        [
         "BA Pro Financial Calculator",
         1000
        ],
        [
         "17th Edition Cable Sizer",
         1000
        ],
        [
         "CCHT PREP",
         1000
        ],
        [
         "Be Stronger",
         1000
        ],
        [
         "Hactar Go",
         1000
        ],
        [
         "MC.Fitting",
         1000
        ],
        [
         "Fast Tract Diet",
         1000
        ],
        [
         "Florida Tides & Weather",
         1000
        ],
        [
         "Out There Chronicles - Ep. 2",
         1000
        ],
        [
         "Next Launcher 3D Bold-CF Theme",
         1000
        ],
        [
         "Bo's Matching Game",
         1000
        ],
        [
         "The Secret Daily Teachings",
         1000
        ],
        [
         "Jump'N'Shoot Attack",
         1000
        ],
        [
         "I am Rich!",
         1000
        ],
        [
         "Basket Manager 2016 Pro",
         1000
        ],
        [
         "Little Magnet BT Pro",
         1000
        ],
        [
         "AV Tools Pro",
         1000
        ],
        [
         "AI Draw | Art Filter for Selfie",
         1000
        ],
        [
         "Fodbold DK Pro",
         1000
        ],
        [
         "Bo's Bedtime Story",
         1000
        ],
        [
         "Monastery of El Escorial",
         1000
        ],
        [
         "OmniMedix Medical Calculator",
         1000
        ],
        [
         "Pocket AC",
         1000
        ],
        [
         "CF-Bench Pro",
         1000
        ],
        [
         "Ad Remove Plugin for App2SD",
         1000
        ],
        [
         "PitchBlack S - Samsung Substratum Theme “For Oreo”",
         1000
        ],
        [
         "ONScripter Plus (Ad Free)",
         1000
        ],
        [
         "G-Playlists",
         1000
        ],
        [
         "Space Z 🌏 🚀Icon Pack Theme",
         1000
        ],
        [
         "The Legacy (Full)",
         1000
        ],
        [
         "Interactive CT and MRI Anatomy",
         1000
        ],
        [
         "W-History Standalone",
         1000
        ],
        [
         "CE Map - Interactive Conan Exiles Map",
         1000
        ],
        [
         "FAV KWGT",
         1000
        ],
        [
         "Dr. McDougall Mobile Cookbook",
         1000
        ],
        [
         "Lollipop Launcher Plus",
         1000
        ],
        [
         "Recognise Foot",
         1000
        ],
        [
         "YouCamp EU",
         1000
        ],
        [
         "BW-Go",
         1000
        ],
        [
         "Next Launcher 3D Theme Hit-B",
         1000
        ],
        [
         "Ludo - Don't get angry",
         1000
        ],
        [
         "Greater London A-Z 2016",
         1000
        ],
        [
         "Trinomial Factoring Wizard",
         1000
        ],
        [
         "RPG ブレイジング ソウルズ アクセレイト",
         1000
        ],
        [
         "Pixxy KWGT",
         1000
        ],
        [
         "Watch Face BW Inter",
         1000
        ],
        [
         "B-Grade Renegade",
         1000
        ],
        [
         "OptoDrum",
         1000
        ],
        [
         "BZ Reminder PRO",
         1000
        ],
        [
         "Color Changer Pro [root]",
         1000
        ],
        [
         "X Launcher Prime: With OS Style Theme & No Ads",
         1000
        ],
        [
         "Critical Care Paramedic Review",
         1000
        ],
        [
         "Learn Music Notes",
         1000
        ],
        [
         "Lock 'n' Roll Pro - Ad Free",
         1000
        ],
        [
         "Wolf of the BF:Commando MOBILE",
         1000
        ],
        [
         "ASRA Coags",
         1000
        ],
        [
         "CV-RECORD Pro",
         1000
        ],
        [
         "Super Resume Builder Pro, CV",
         1000
        ],
        [
         "Depths of Betrayal CE (Full)",
         1000
        ],
        [
         "I am rich (Most expensive app)",
         1000
        ],
        [
         "Bo's Dinnertime Story",
         1000
        ],
        [
         "boattheory.ch Full 2018",
         1000
        ],
        [
         "InfantRisk Center HCP",
         1000
        ],
        [
         "Traps n' Gemstones",
         1000
        ],
        [
         "Anti Mosquito simulation",
         1000
        ],
        [
         "Whist - Tinnitus Relief",
         1000
        ],
        [
         "Alizay, pirate girl",
         1000
        ],
        [
         "Ba Financial Calculator plus",
         1000
        ],
        [
         "My baby firework (Remove ad)",
         1000
        ],
        [
         "E.G. Chess",
         1000
        ],
        [
         "LocaToWeb - Live GPS tracking",
         1000
        ],
        [
         "Basket Manager 2017 Pro",
         1000
        ],
        [
         "Online TV CZ/SK PRO",
         1000
        ],
        [
         "Lanterns: The Harvest Festival",
         1000
        ],
        [
         "Decibel X PRO - Sound Meter dBA, Noise Detector",
         1000
        ],
        [
         "AP Government Review",
         1000
        ],
        [
         "Calculator",
         1000
        ],
        [
         "Lunar Calendar",
         1000
        ],
        [
         "Basket Manager 2018 Pro",
         1000
        ],
        [
         "Math Games for Pre-K - Grade 4",
         1000
        ],
        [
         "WiFi Monitor Pro - analyzer of Wi-Fi networks",
         1000
        ],
        [
         "EO Guide",
         1000
        ],
        [
         "Beck & Bo: Toddler First Words",
         1000
        ],
        [
         "[substratum] Vacuum: P",
         1000
        ],
        [
         "Chinese Chess 3D Online (Xiangqi, 象棋, co tuong)",
         1000
        ],
        [
         "Penny Puss",
         1000
        ],
        [
         "Koch Morse Trainer Pro",
         1000
        ],
        [
         "End Anxiety Pro - Stress, Panic Attack Help",
         1000
        ],
        [
         "Dark Infusion Substratum Theme for Android N & O",
         1000
        ],
        [
         "I am extremely Rich",
         1000
        ],
        [
         "NewTek NDI",
         1000
        ],
        [
         "pretty Easy privacy p≡p",
         500
        ],
        [
         "ACCDB MDB DB Manager Pro - Editor for MS Access",
         500
        ],
        [
         "DR.MEEP",
         500
        ],
        [
         "Arrhythmias and Dysrhythmias",
         500
        ],
        [
         "W Pro - Weather Forecast & Animated Weather Maps",
         500
        ],
        [
         "SkyTest BU/GU Lite",
         500
        ],
        [
         "Age of AI: War Strategy",
         500
        ],
        [
         "Differential Dx",
         500
        ],
        [
         "Active Soccer 2 DX",
         500
        ],
        [
         "Dialer theme G Black Gold",
         500
        ],
        [
         "FHR 5-Tier 2.0",
         500
        ],
        [
         "O Céu e o Inferno",
         500
        ],
        [
         "AG Contacts, Premium edition",
         500
        ],
        [
         "G Theme 2 for LG V30, LG G6",
         500
        ],
        [
         "DCUO|CR Calculator Pro",
         500
        ],
        [
         "Antenna Tool Premium",
         500
        ],
        [
         "EC music dictionary",
         500
        ],
        [
         "Deaf - Hearing chat device H",
         500
        ],
        [
         "Theme Android P Design for LG V30",
         500
        ],
        [
         "Pinkalicious Party",
         500
        ],
        [
         "Navi Radiography Pro",
         500
        ],
        [
         "K.MOJI",
         500
        ],
        [
         "BL PowerPoint Remote",
         500
        ],
        [
         "Arto: f.infrared photo",
         500
        ],
        [
         "Nursing Care Plan NANDA Tables",
         500
        ],
        [
         "BJ Bridge Pro 2018",
         500
        ],
        [
         "BG Monitor Diabetes Pro",
         500
        ],
        [
         "GO Contacts EX Black & Grey",
         500
        ],
        [
         "BL Holo Theme",
         500
        ],
        [
         "Weather Data CH",
         500
        ],
        [
         "AP Themes for Kustom/KLWP",
         500
        ],
        [
         "Frequencies",
         500
        ],
        [
         "Égalité et Réconciliation",
         500
        ],
        [
         "10,000 Quotes DB (Premium)",
         500
        ],
        [
         "TI-Nspire CX Calculator Manual",
         500
        ],
        [
         "Financial Calculator BA Chien.",
         500
        ],
        [
         "BatControl Pro",
         500
        ],
        [
         "The Great Wobo Escape Ep.1",
         500
        ],
        [
         "Migraine, Headache Diary HeadApp Pro",
         500
        ],
        [
         "CURSUM B",
         500
        ],
        [
         "Cardiac diagnosis (heart rate, arrhythmia)",
         200
        ],
        [
         "Advanced Comprehension Therapy",
         200
        ],
        [
         "AF-STROKE",
         100
        ],
        [
         "Servidor Privado CR y CoC - Royale Servers PRO",
         100
        ],
        [
         "FJ Toolkit",
         100
        ],
        [
         "G-Force Driving Assistant",
         100
        ],
        [
         "Ad Removal: thereisonlywe",
         100
        ],
        [
         "Socle Commun BO du 23-04-2015",
         100
        ],
        [
         "An Elite Warrior Ex",
         100
        ],
        [
         "ZombieVital DG",
         100
        ],
        [
         "Ad Blocker for SayHi",
         100
        ],
        [
         "AH Alarm Panel",
         100
        ],
        [
         "BL 1-Click Camera",
         100
        ],
        [
         "CW Beacon for Ham Radio",
         100
        ],
        [
         "Android P | Xperia™ Theme 4800+ icons",
         100
        ],
        [
         "Bitcoin BX Thailand PRO",
         100
        ],
        [
         "most expensive app (H)",
         100
        ],
        [
         "CT-REMOTE",
         100
        ],
        [
         "Private Dating, Hide App- Blue for PrivacyHider",
         100
        ],
        [
         "B-52 Spirits of Glory Deluxe",
         100
        ],
        [
         "Droidbug BusyBox Advance PRO",
         100
        ],
        [
         "Volume Control Ex",
         100
        ],
        [
         "Sic Bo",
         100
        ],
        [
         "Theme Android P Black for LG G7 & V35",
         100
        ],
        [
         "Masha and the Bear - Hair Salon and MakeUp Games",
         100
        ],
        [
         "F*ck This Game",
         100
        ],
        [
         "Ice Crush 10.000 B.C.",
         100
        ],
        [
         "Radiological Anatomy For FRCR1",
         100
        ],
        [
         "AW Toolbox",
         100
        ],
        [
         "Asiimov Skin - CS GO Icon Pack",
         100
        ],
        [
         "Shopping List S PRO",
         100
        ],
        [
         "20WPM Amateur ham radio Koch CW Morse code trainer",
         100
        ],
        [
         "SCI-FI UI",
         100
        ],
        [
         "Super Hearing Secret Voices Recorder PRO",
         100
        ],
        [
         "Билеты ПДД CD 2019 PRO",
         100
        ],
        [
         "SharedCare™ Co-parenting",
         100
        ],
        [
         "Dr. Splorchy Presents Space Heroes",
         100
        ],
        [
         "World Racers family board game",
         100
        ],
        [
         "EP Calipers",
         100
        ],
        [
         "P-Home for KLWP",
         100
        ],
        [
         "AMBW Dating App: Asian Men Black Women Interracial",
         100
        ],
        [
         "Morse Player",
         100
        ],
        [
         "2 Amateur ham radio CW Morse code practice keys TX",
         100
        ],
        [
         "LTC AS Legal",
         100
        ],
        [
         "Ramfer - CNC Lathe G-code Tool",
         100
        ],
        [
         "Jeppesen CR Flight Computer",
         100
        ],
        [
         "TI-84 CE Graphing Calculator Manual TI 84",
         100
        ],
        [
         "[Sub/EMUI] P Pro - EMUI 8.1/8.0/5.X Theme",
         100
        ],
        [
         "EF Lens Simulator",
         100
        ],
        [
         "500 AP World History Questions",
         100
        ],
        [
         "Message AI - Write Better Messages",
         100
        ],
        [
         "Analog and Digital Clock AW-7PRO",
         100
        ],
        [
         "Wuwu & Co.",
         100
        ],
        [
         "10 WPM Amateur ham radio CW Morse code trainer",
         100
        ],
        [
         "ADS-B Driver",
         100
        ],
        [
         "Dress Up RagazzA13 DX",
         100
        ],
        [
         "RETRO Shocked DW-6000",
         100
        ],
        [
         "Android P Style Icon Pack",
         100
        ],
        [
         "KeePass DX Pro",
         100
        ],
        [
         "FP VoiceBot",
         100
        ],
        [
         "Obbligo o Verità? PRO",
         100
        ],
        [
         "Theme Android P Black design for LG V30",
         100
        ],
        [
         "Chest CT Sectional Walker",
         100
        ],
        [
         "All-in-One Mahjong 3",
         100
        ],
        [
         "iScore5 AP Psych",
         100
        ],
        [
         "CSCS BG (в български)",
         100
        ],
        [
         "Jetting for Honda CR dirt bike",
         100
        ],
        [
         "Watch Face Swiss AJ-6",
         100
        ],
        [
         "FO Bixby",
         100
        ],
        [
         "OMEGA Black UI Theme - CM 12+",
         100
        ],
        [
         "Theme Android P for LG G7 & V35",
         100
        ],
        [
         "Anna.K Tarot",
         100
        ],
        [
         "B-17 Flying Fortress WWII LWP",
         100
        ],
        [
         "Hey AJ! It's Saturday!",
         100
        ],
        [
         "IF YOU TO EU PEGO",
         100
        ],
        [
         "BL IP-Camera",
         100
        ],
        [
         "California Cop Assist CA Cop",
         100
        ],
        [
         "DS Helpdesk Plus",
         100
        ],
        [
         "CW Studio ®",
         100
        ],
        [
         "Masha and the Bear- House Cleaning Games for Girls",
         100
        ],
        [
         "CB Frequencies",
         100
        ],
        [
         "Q Avatar Pro",
         100
        ],
        [
         "G-NetWiFi Pro",
         100
        ],
        [
         "Learn Quran with Elif Ba",
         100
        ],
        [
         "Pain Tracker & Diary",
         100
        ],
        [
         "Phonics Puzzles",
         100
        ],
        [
         "Galaxian(FC)",
         100
        ],
        [
         "Cardio Z",
         100
        ],
        [
         "Diseño de columnas NTC - RSEE 2017",
         100
        ],
        [
         "CA Speakers",
         100
        ],
        [
         "Abdominal CT Sectional Walker",
         100
        ],
        [
         "Neon-R (Red)",
         100
        ],
        [
         "Blackjack Verite Drills",
         100
        ],
        [
         "O'Route Orienteering",
         100
        ],
        [
         "FORD V SERIES CALC - NO LIMIT",
         50
        ],
        [
         "EX File Explorer File Manage Pro",
         50
        ],
        [
         "Vital Tones EI Pro",
         50
        ],
        [
         "AJ Blue Icon Pack",
         50
        ],
        [
         "AC CE BJT Actorial",
         50
        ],
        [
         "AJ Gray Icon Pack",
         50
        ],
        [
         "CT and XR Dose Calculator",
         50
        ],
        [
         "BL File Explorer",
         50
        ],
        [
         "SLANGY-Perfect BK World Theme",
         50
        ],
        [
         "EG Classroom Decimals™",
         50
        ],
        [
         "Truth or Dare Pro",
         50
        ],
        [
         "Circle Colors Pack-FN Theme",
         50
        ],
        [
         "Real Sheet ∞: Pathfinder + DT",
         50
        ],
        [
         "ABG Master",
         50
        ],
        [
         "Bubble Shooter DX AdFree",
         50
        ],
        [
         "Santa's Monster Shootout DX",
         50
        ],
        [
         "BC MVA Fines",
         50
        ],
        [
         "DX Glow - Clock Widget",
         50
        ],
        [
         "D.C. Driving/Walking Tours",
         50
        ],
        [
         "iLauncher OS 12 Pro - Phone X",
         50
        ],
        [
         "Interactive NPC DM Tool",
         50
        ],
        [
         "BS Detector - Diss 'n' Gauges",
         50
        ],
        [
         "Reading Race 1b: sh, ch words",
         50
        ],
        [
         "Unstoppaball DX",
         50
        ],
        [
         "DG Surveyor",
         50
        ],
        [
         "Scale Models DB",
         50
        ],
        [
         "Number Therapy",
         50
        ],
        [
         "Truck Driving Test Class 3 BC",
         50
        ],
        [
         "EP McGuffey Primer",
         50
        ],
        [
         "Q-slope",
         50
        ],
        [
         "Ability DS UNO",
         50
        ],
        [
         "Word Search Tab 1 FR",
         50
        ],
        [
         "EP Coding",
         50
        ],
        [
         "Monitor My BP",
         50
        ],
        [
         "AC DC Power Monitor",
         10
        ],
        [
         "AJ Gray Dark Icon Pack",
         10
        ],
        [
         "CZ-27 pistol explained",
         10
        ],
        [
         "G-NetReport Pro",
         10
        ],
        [
         "Técnico Legislativo Câmara Legislativa DF",
         10
        ],
        [
         "FN model 1900 pistol explained",
         10
        ],
        [
         "Es-Bg Offline Voice Translator",
         10
        ],
        [
         "AP Art History Flashcards",
         10
        ],
        [
         "FN FAL rifle explained",
         10
        ],
        [
         "J Alvarej Moji",
         10
        ],
        [
         "AJ Orange Icon Pack",
         10
        ],
        [
         "Pacify Exceed (Android P) - Theme for Xperia™",
         10
        ],
        [
         "All-night drugstore CI & Price",
         10
        ],
        [
         "Dr.Dice - Sic bo analyzer",
         10
        ],
        [
         "Hey AJ! It's Bedtime!",
         10
        ],
        [
         "Reksio cz. 1",
         10
        ],
        [
         "Easy Hotspot Ad Free",
         10
        ],
        [
         "DL Image Manager",
         10
        ],
        [
         "Car Driving Theory Test BC",
         10
        ],
        [
         "AJ Turquoise Dark Icon Pack",
         10
        ],
        [
         "25WPM Amateur ham radio Koch CW Morse code trainer",
         10
        ],
        [
         "Emergency Brain CT",
         10
        ],
        [
         "Speech Therapy: CH",
         10
        ],
        [
         "Squeezy CF",
         10
        ],
        [
         "30WPM Amateur ham radio Koch CW Morse code trainer",
         10
        ],
        [
         "CZ-45 pistol explained",
         10
        ],
        [
         "The DG Buddy",
         10
        ],
        [
         "ap,wifi testing,iperf,ping,android,Bluetooth,tcp",
         10
        ],
        [
         "CW Ringtone (Morse Code generator)",
         10
        ],
        [
         "Pacify (Android P theme) - Theme for Xperia™",
         10
        ],
        [
         "INTERACTIVE CALCULUS PRO",
         10
        ],
        [
         "Cossack Dictionary (DN)",
         10
        ],
        [
         "ReDNAKET DB Normalization Tool",
         10
        ],
        [
         "BT Speed",
         10
        ],
        [
         "meStudying: AP English Lit",
         10
        ],
        [
         "CI 174 Gray Icon Pack",
         10
        ],
        [
         "Lean EQ",
         10
        ],
        [
         "211:CK",
         10
        ],
        [
         "FN pistol model 1903 explained",
         10
        ],
        [
         "BS Match Maker Premium",
         10
        ],
        [
         "Speech Therapy: F",
         10
        ],
        [
         "P Icon Pack",
         10
        ],
        [
         "PROFESSOR SEE-BA LINGUAGENS E SUAS TECNOLOGIAS",
         10
        ],
        [
         "USMLE Step 2 CK Flashcards",
         10
        ],
        [
         "Guide to Nikon Df",
         10
        ],
        [
         "OrthoFlow",
         10
        ],
        [
         "iCluster - The DX-Cluster database",
         10
        ],
        [
         "UFO-CQ",
         10
        ],
        [
         "F-1 watchface by Delta",
         10
        ],
        [
         "FREE CHATS C.L.",
         10
        ],
        [
         "CZ-70 (CZ-50) pistol explained",
         10
        ],
        [
         "LC-DB",
         10
        ],
        [
         "Cargo de Praça PM DF",
         10
        ],
        [
         "CS go bomb simulator",
         10
        ],
        [
         "ch-mm Dict",
         10
        ],
        [
         "Chess of Blades (BL/Yaoi Game) (No VA)",
         10
        ],
        [
         "EU RCD Guide",
         10
        ],
        [
         "The FN HP pistol explained",
         10
        ],
        [
         "DZ Puzzle",
         10
        ],
        [
         "Pistolet FN 1906 expliqué",
         10
        ],
        [
         "BI Barcode Scanner",
         10
        ],
        [
         "PhotoFrame for Synology DS",
         10
        ],
        [
         "F Length Sim (no Ads)",
         10
        ],
        [
         "Sam.BN Pro",
         10
        ],
        [
         "The FN \"Baby\" pistol explained",
         10
        ],
        [
         "Z PIVOT",
         10
        ],
        [
         "Ay Yıldız - Xperia Live Theme",
         10
        ],
        [
         "Chronolink DX",
         10
        ],
        [
         "CZ-52 pistol explained",
         10
        ],
        [
         "FN pistol Model 1906 explained",
         10
        ],
        [
         "Glanceable Ap Watch Face",
         5
        ],
        [
         "Android P Home KLWP",
         5
        ],
        [
         "CZ-38 (vz 38) pistol explained",
         5
        ],
        [
         "Alif Ba Ta Bullseye",
         5
        ],
        [
         "Norwegian For Kids & Babies F",
         5
        ],
        [
         "USB BT Wi-Fi Color Terminal Modem",
         5
        ],
        [
         "Schlaumeier",
         5
        ],
        [
         "DM Die Roller 9000",
         5
        ],
        [
         "Pistolet FN GP35 expliqué",
         5
        ],
        [
         "Dive-Store.ch",
         5
        ],
        [
         "Bk Bee Sales Manager",
         5
        ],
        [
         "CI Attendance",
         5
        ],
        [
         "Dz kayas",
         1
        ],
        [
         "Be the Expert in Phlebotomy - Professional Nursing",
         1
        ],
        [
         "DK Primrose for KLWP",
         1
        ],
        [
         "CE Genius Nurses Edition",
         1
        ],
        [
         "BP Fitness Lead Scanner",
         1
        ],
        [
         "Michael's AG Sound Board",
         1
        ],
        [
         "amm dz",
         1
        ],
        [
         "Mu.F.O.",
         1
        ],
        [
         "AQ Math Facts",
         1
        ],
        [
         "Learn CW",
         1
        ],
        [
         "Visualmed",
         1
        ],
        [
         "Pistolet CZ-70 CZ-50 expliqué",
         1
        ],
        [
         "Bi-Tank Ads Free",
         1
        ],
        [
         "Ra Ga Ba",
         1
        ],
        [
         "Pureness Pacify (Android P) - Theme for Xperia™",
         1
        ],
        [
         "YAKALA AY",
         1
        ],
        [
         "db Meter - sound level meter with data logging",
         1
        ],
        [
         "Pistachio Launcher for Android P 9.0",
         1
        ],
        [
         "AX Watch for WatchMaker",
         1
        ],
        [
         "¡Ay Caramba!",
         1
        ],
        [
         "D+H Reaction Wall",
         1
        ],
        [
         "Eu Sou Rico",
         0
        ],
        [
         "Ain Arabic Kids Alif Ba ta",
         0
        ],
        [
         "AP Series Solution Pro",
         0
        ],
        [
         "I'm Rich/Eu sou Rico/أنا غني/我很有錢",
         0
        ],
        [
         "cronometra-br",
         0
        ],
        [
         "EG | Explore Folegandros",
         0
        ],
        [
         "EP Cook Book",
         0
        ],
        [
         "Ak Parti Yardım Toplama",
         0
        ],
        [
         "Eu sou Rico",
         0
        ],
        [
         "Popsicle Launcher for Android P 9.0 launcher",
         0
        ]
       ],
       "datasetInfos": [],
       "dbfsResultPath": null,
       "isJsonSchema": true,
       "metadata": {
        "dataframeName": "_sqldf",
        "executionCount": 51
       },
       "overflow": false,
       "plotOptions": {
        "customPlotOptions": {},
        "displayType": "table",
        "pivotAggregation": null,
        "pivotColumns": null,
        "xColumns": null,
        "yColumns": null
       },
       "removedWidgets": [],
       "schema": [
        {
         "metadata": "{}",
         "name": "app",
         "type": "\"string\""
        },
        {
         "metadata": "{}",
         "name": "Total_installs",
         "type": "\"long\""
        }
       ],
       "type": "table"
      }
     },
     "output_type": "display_data"
    }
   ],
   "source": [
    "%sql \n",
    "SELECT app, SUM(Installs) AS Total_installs \n",
    "FROM apps \n",
    "WHERE Type='Paid' \n",
    "GROUP BY app \n",
    "ORDER BY Total_installs DESC;"
   ]
  },
  {
   "cell_type": "code",
   "execution_count": 0,
   "metadata": {
    "application/vnd.databricks.v1+cell": {
     "cellMetadata": {
      "byteLimit": 2048000,
      "rowLimit": 10000
     },
     "inputWidgets": {},
     "nuid": "2a29936a-cea4-4b64-9a81-ef0e16f87556",
     "showTitle": false,
     "title": ""
    }
   },
   "outputs": [
    {
     "output_type": "stream",
     "name": "stdout",
     "output_type": "stream",
     "text": [
      "root\n |-- App: string (nullable = true)\n |-- Category: string (nullable = true)\n |-- Rating: double (nullable = true)\n |-- Reviews: integer (nullable = true)\n |-- Installs: integer (nullable = true)\n |-- Type: string (nullable = true)\n |-- Price: integer (nullable = true)\n |-- Genres: string (nullable = true)\n\n"
     ]
    }
   ],
   "source": [
    "df.printSchema()"
   ]
  },
  {
   "cell_type": "code",
   "execution_count": 0,
   "metadata": {
    "application/vnd.databricks.v1+cell": {
     "cellMetadata": {
      "byteLimit": 2048000,
      "implicitDf": true,
      "rowLimit": 10000
     },
     "inputWidgets": {},
     "nuid": "8ab0ef5c-397d-4f6b-9ace-eb6a22bca60f",
     "showTitle": true,
     "title": "Top Paid Rating Apps"
    }
   },
   "outputs": [
    {
     "output_type": "display_data",
     "data": {
      "text/html": [
       "<style scoped>\n",
       "  .table-result-container {\n",
       "    max-height: 300px;\n",
       "    overflow: auto;\n",
       "  }\n",
       "  table, th, td {\n",
       "    border: 1px solid black;\n",
       "    border-collapse: collapse;\n",
       "  }\n",
       "  th, td {\n",
       "    padding: 5px;\n",
       "  }\n",
       "  th {\n",
       "    text-align: left;\n",
       "  }\n",
       "</style><div class='table-result-container'><table class='table-result'><thead style='background-color: white'><tr><th>app</th><th>Top_Reviews</th></tr></thead><tbody><tr><td>Minecraft</td><td>4751900</td></tr><tr><td>Hitman Sniper</td><td>408292</td></tr><tr><td>Grand Theft Auto: San Andreas</td><td>348962</td></tr><tr><td>Beautiful Widgets Pro</td><td>195780</td></tr><tr><td>Bloons TD 5</td><td>190086</td></tr><tr><td>Where's My Water?</td><td>188740</td></tr><tr><td>Facetune - For Free</td><td>148659</td></tr><tr><td>Card Wars - Adventure Time</td><td>129603</td></tr><tr><td>True Skate</td><td>129409</td></tr><tr><td>HD Widgets</td><td>117231</td></tr><tr><td>Five Nights at Freddy's</td><td>100805</td></tr><tr><td>DraStic DS Emulator</td><td>87766</td></tr><tr><td>Fruit Ninja Classic</td><td>85468</td></tr><tr><td>Hitman GO</td><td>84114</td></tr><tr><td>ES File Explorer/Manager PRO</td><td>81614</td></tr><tr><td>Weather Live</td><td>76593</td></tr><tr><td>Five Nights at Freddy's 2</td><td>73919</td></tr><tr><td>Toca Life: City</td><td>62185</td></tr><tr><td>Cut the Rope GOLD</td><td>61264</td></tr><tr><td>ai.type keyboard Plus + Emoji</td><td>57076</td></tr><tr><td>NBA JAM by EA SPORTS™</td><td>56444</td></tr><tr><td>Threema</td><td>51110</td></tr><tr><td>Day R Premium</td><td>51068</td></tr><tr><td>Ski Safari: Adventure Time</td><td>48754</td></tr><tr><td>Tasker</td><td>43045</td></tr><tr><td>Assassin's Creed Identity</td><td>42529</td></tr><tr><td>Smart Launcher Pro 3</td><td>40704</td></tr><tr><td>Stickman Legends: Shadow Wars</td><td>38419</td></tr><tr><td>Star Wars ™: DIRTY</td><td>38207</td></tr><tr><td>The Game of Life</td><td>37273</td></tr><tr><td>Skip-Bo™</td><td>33661</td></tr><tr><td>Farming Simulator 16</td><td>32812</td></tr><tr><td>Camera FV-5</td><td>32637</td></tr><tr><td>League of Stickman 2018- Ninja Arena PVP(Dreamsky)</td><td>32496</td></tr><tr><td>Lost Journey (Dreamsky)</td><td>32344</td></tr><tr><td>ADWLauncher 1 EX</td><td>28728</td></tr><tr><td>Cameringo+ Filters Camera</td><td>28107</td></tr><tr><td>Five Nights at Freddy's 3</td><td>27856</td></tr><tr><td>Business Calendar Pro</td><td>27135</td></tr><tr><td>aCalendar+ Calendar & Tasks</td><td>26919</td></tr><tr><td>CamScanner (License)</td><td>26358</td></tr><tr><td>Weather & Radar Pro - Ad-Free</td><td>25243</td></tr><tr><td>Sleep as Android Unlock</td><td>23966</td></tr><tr><td>CM Launcher 3D Pro💎</td><td>23802</td></tr><tr><td>TurboScan: scan documents and receipts in PDF</td><td>22884</td></tr><tr><td>Infinity Dungeon VIP</td><td>21804</td></tr><tr><td>Five Nights at Freddy's 4</td><td>21266</td></tr><tr><td>The Room: Old Sins</td><td>21119</td></tr><tr><td>Tiny Scanner Pro: PDF Doc Scan</td><td>20590</td></tr><tr><td>Teeny Titans - Teen Titans Go!</td><td>20463</td></tr><tr><td>Baldur's Gate: Enhanced Edition</td><td>20101</td></tr><tr><td>Clue</td><td>19922</td></tr><tr><td>My Budget Book</td><td>19784</td></tr><tr><td>Relax Melodies P: Sleep Sounds</td><td>19543</td></tr><tr><td>Attack the Light</td><td>19209</td></tr><tr><td>X Construction</td><td>18612</td></tr><tr><td>Puffin Browser Pro</td><td>18247</td></tr><tr><td>Farming Simulator 18</td><td>18125</td></tr><tr><td>Don't Starve: Pocket Edition</td><td>17988</td></tr><tr><td>Battery HD Pro</td><td>17861</td></tr><tr><td>Weather Live Pro</td><td>17493</td></tr><tr><td>Cytus II</td><td>16851</td></tr><tr><td>Five Nights at Freddy's: SL</td><td>16162</td></tr><tr><td>FINAL FANTASY V</td><td>15924</td></tr><tr><td>Tools & Mi Band</td><td>15753</td></tr><tr><td>Mind Games Pro</td><td>15301</td></tr><tr><td>Maps & GPS Navigation OsmAnd+</td><td>15209</td></tr><tr><td>Weather Forecast Pro</td><td>14051</td></tr><tr><td>Koi Live Wallpaper</td><td>14026</td></tr><tr><td>XCOM®: Enemy Within</td><td>13752</td></tr><tr><td>Zombie Avengers:(Dreamsky)Stickman War Z</td><td>13604</td></tr><tr><td>Call of Duty:Black Ops Zombies</td><td>13004</td></tr><tr><td>Lapse It • Time Lapse • Pro</td><td>12865</td></tr><tr><td>Kernel Manager for Franco Kernel ✨</td><td>12700</td></tr><tr><td>The House of Da Vinci</td><td>12400</td></tr><tr><td>Football Manager Mobile 2018</td><td>11460</td></tr><tr><td>CHRONO TRIGGER (Upgrade Ver.)</td><td>11250</td></tr><tr><td>Solitaire+</td><td>11235</td></tr><tr><td>Superbrothers Sword & Sworcery</td><td>11023</td></tr><tr><td>RollerCoaster Tycoon® Classic</td><td>10795</td></tr><tr><td>LEGO ® Batman: Beyond Gotham</td><td>10758</td></tr><tr><td>Shadow Fight 2 Special Edition</td><td>10440</td></tr><tr><td>Alarmy (Sleep If U Can) - Pro</td><td>10249</td></tr><tr><td>Dr. Panda & Toto's Treehouse</td><td>10189</td></tr><tr><td>Deus Ex GO</td><td>9699</td></tr><tr><td>DRAGON QUEST</td><td>9659</td></tr><tr><td>Monument Valley 2</td><td>9394</td></tr><tr><td>Human Anatomy Atlas 2018: Complete 3D Human Body</td><td>8765</td></tr><tr><td>FINAL FANTASY DIMENSIONS</td><td>8450</td></tr><tr><td>Baby Connect (activity log)</td><td>8343</td></tr><tr><td>BusyBox Pro</td><td>8114</td></tr><tr><td>Sonic 4™ Episode I</td><td>8014</td></tr><tr><td>DRAGON QUEST VIII</td><td>7812</td></tr><tr><td>R-TYPE</td><td>7687</td></tr><tr><td>Battleheart Legacy</td><td>7420</td></tr><tr><td>The Escapists</td><td>7412</td></tr><tr><td>Pujie Black Watch Face for Android Wear OS</td><td>7264</td></tr><tr><td>The Hunt for the Lost Treasure</td><td>7148</td></tr><tr><td>Advanced Download Manager Pro</td><td>6505</td></tr><tr><td>My Movies Pro - Movie & TV Collection Library</td><td>6477</td></tr><tr><td>My Talking Pet</td><td>6238</td></tr><tr><td>BackCountry Navigator TOPO GPS PRO</td><td>6230</td></tr><tr><td>Carrier Landings Pro</td><td>5969</td></tr><tr><td>QR Code Pro</td><td>5865</td></tr><tr><td>R-TYPE II</td><td>5682</td></tr><tr><td>Flud (Ad free)</td><td>5639</td></tr><tr><td>WiFi Tether Router</td><td>5599</td></tr><tr><td>ExDialer PRO Key</td><td>5474</td></tr><tr><td>Baldur's Gate II</td><td>5442</td></tr><tr><td>F-Sim Space Shuttle</td><td>5427</td></tr><tr><td>FlashLight HD LED Pro</td><td>4928</td></tr><tr><td>Day Night Live Wallpaper (All)</td><td>4856</td></tr><tr><td>BeFunky Photo Editor Pro</td><td>4724</td></tr><tr><td>Guns'n'Glory WW2 Premium</td><td>4656</td></tr><tr><td>BSPlayer</td><td>4585</td></tr><tr><td>Mupen64Plus AE (N64 Emulator)</td><td>4569</td></tr><tr><td>Z Origins - (Z The Game)</td><td>4421</td></tr><tr><td>Riptide GP: Renegade</td><td>4328</td></tr><tr><td>Pocket Yoga</td><td>4214</td></tr><tr><td>Menstrual Calendar Premium</td><td>4207</td></tr><tr><td>Ulysse Speedometer Pro</td><td>4140</td></tr><tr><td>The World Ends With You</td><td>4108</td></tr><tr><td>Adventure Time Game Wizard</td><td>4107</td></tr><tr><td>Best Park in the Universe</td><td>3904</td></tr><tr><td>CN Superstar Soccer: Goal!!!</td><td>3863</td></tr><tr><td>Meme Generator</td><td>3771</td></tr><tr><td>Dr. Panda Restaurant 2</td><td>3725</td></tr><tr><td>Guns'n'Glory Premium</td><td>3570</td></tr><tr><td>I am rich</td><td>3547</td></tr><tr><td>Toca Life: Hospital</td><td>3528</td></tr><tr><td>Golfshot Plus: Golf GPS</td><td>3387</td></tr><tr><td>DRAGON QUEST VI</td><td>3358</td></tr><tr><td>Silence Premium Do Not Disturb</td><td>3356</td></tr><tr><td>Toca Builders</td><td>3328</td></tr><tr><td>ZOOKEEPER DX TouchEdition</td><td>3195</td></tr><tr><td>Moco+ - Chat, Meet People</td><td>3091</td></tr><tr><td>Essential Anatomy 3</td><td>3066</td></tr><tr><td>MyRadar NOAA Weather Radar Ad Free</td><td>3005</td></tr><tr><td>tTorrent - ad free</td><td>2976</td></tr><tr><td>AJ Jump: Animal Jam Kangaroos!</td><td>2975</td></tr><tr><td>Elemental Knights R Platinum</td><td>2925</td></tr><tr><td>Daily Ab Workout</td><td>2901</td></tr><tr><td>C4droid - C/C++ compiler & IDE</td><td>2890</td></tr><tr><td>Device Info Ex Live Wallpaper</td><td>2645</td></tr><tr><td>DRAGON QUEST II</td><td>2576</td></tr><tr><td>LEGO Batman: DC Super Heroes</td><td>2557</td></tr><tr><td>N Launcher Pro - Nougat 7.0</td><td>2538</td></tr><tr><td>Mike V: Skateboard Party PRO</td><td>2506</td></tr><tr><td>Mental Hospital V</td><td>2460</td></tr><tr><td>CM FILE MANAGER Pro</td><td>2359</td></tr><tr><td>Dr. Panda's Swimming Pool</td><td>2311</td></tr><tr><td>Monash Uni Low FODMAP Diet</td><td>2270</td></tr><tr><td>Tsuro - The Game of the Path</td><td>2195</td></tr><tr><td>My CookBook Pro (Ad Free)</td><td>2129</td></tr><tr><td>Lullaby Add-on for Sleep as Android</td><td>2057</td></tr><tr><td>Teen Titans GO Figure!</td><td>1985</td></tr><tr><td>Automagic * Automation</td><td>1947</td></tr><tr><td>Inventory & Barcode scanner & WIFI scanner</td><td>1880</td></tr><tr><td>I Am Rich Premium</td><td>1867</td></tr><tr><td>FVD Ad-Free</td><td>1774</td></tr><tr><td>Please, Don't Touch Anything</td><td>1771</td></tr><tr><td>Myth Defense 2: DF Platinum</td><td>1764</td></tr><tr><td>Train Sim Pro</td><td>1763</td></tr><tr><td>ZArchiver Donate</td><td>1721</td></tr><tr><td>Learn Italian with MosaLingua</td><td>1719</td></tr><tr><td>PAC-MAN CE DX</td><td>1692</td></tr><tr><td>DRAGON QUEST V</td><td>1667</td></tr><tr><td>DRAGON QUEST III</td><td>1661</td></tr><tr><td>DRAGON QUEST IV</td><td>1647</td></tr><tr><td>Backgammon NJ for Android</td><td>1644</td></tr><tr><td>THE aMAZEing Labyrinth</td><td>1615</td></tr><tr><td>K-@ Mail Pro - Email App</td><td>1603</td></tr><tr><td>Kairo XP (for HD Widgets)</td><td>1591</td></tr><tr><td>weather HD</td><td>1546</td></tr><tr><td>C Locker Pro</td><td>1531</td></tr><tr><td>Out There Chronicles - Ep. 1</td><td>1516</td></tr><tr><td>Swift Dark CM / CM13 Theme</td><td>1500</td></tr><tr><td>Oddworld: New 'n' Tasty</td><td>1475</td></tr><tr><td>Don't Starve: Shipwrecked</td><td>1468</td></tr><tr><td>Medical ID - In Case of Emergency (ICE)</td><td>1434</td></tr><tr><td>Deep Sleep Battery Saver Pro</td><td>1417</td></tr><tr><td>sugar, sugar</td><td>1405</td></tr><tr><td>BlackCam Pro - B&W Camera</td><td>1376</td></tr><tr><td>Battery Notifier Pro BT</td><td>1363</td></tr><tr><td>Muscle Trigger Point Anatomy</td><td>1361</td></tr><tr><td>Dr. Panda Supermarket</td><td>1357</td></tr><tr><td>Al'Quran Bahasa Indonesia PRO</td><td>1340</td></tr><tr><td>European War 6: 1804</td><td>1330</td></tr><tr><td>F-Stop Gallery Pro</td><td>1302</td></tr><tr><td>Paprika Recipe Manager</td><td>1268</td></tr><tr><td>EMT Tutor NREMT-B Study Guide</td><td>1250</td></tr><tr><td>X Launcher Pro - IOS Style Theme & Control Center</td><td>1216</td></tr><tr><td>Formula Cartoon All Stars</td><td>1213</td></tr><tr><td>iBP Blood Pressure</td><td>1156</td></tr><tr><td>Theatre of the Absurd CE(Full)</td><td>1143</td></tr><tr><td>Volume Slider Like Android P Volume Control</td><td>1129</td></tr><tr><td>Dr. Panda Hospital</td><td>1091</td></tr><tr><td>XE Currency Pro</td><td>1090</td></tr><tr><td>Jurassic Life: T Rex Simulator</td><td>1088</td></tr><tr><td>cronometer (ad free)</td><td>1075</td></tr><tr><td>G Cloud Apps Backup Key * root</td><td>1034</td></tr><tr><td>Meditation Studio</td><td>1026</td></tr><tr><td>Dr. Panda Art Class</td><td>1013</td></tr><tr><td>I Can't Wake Up!</td><td>963</td></tr><tr><td>Organizer</td><td>936</td></tr><tr><td>Power Widget</td><td>928</td></tr><tr><td>Stand O’Food® (Full)</td><td>925</td></tr><tr><td>Guns'n'Glory Heroes Premium</td><td>923</td></tr><tr><td>Navigator PRO - GPS Navigation with Offline Maps</td><td>892</td></tr><tr><td>BIG Launcher</td><td>881</td></tr><tr><td>I am Rich Plus</td><td>856</td></tr><tr><td>LEGO® Friends</td><td>854</td></tr><tr><td>X Launcher Pro: PhoneX Theme, OS11 Control Center</td><td>801</td></tr><tr><td>Diabetes & Diet Tracker</td><td>790</td></tr><tr><td>Be Stronger</td><td>787</td></tr><tr><td>iCam - Webcam Video Streaming</td><td>770</td></tr><tr><td>King of Math</td><td>766</td></tr><tr><td>Nighty Night Circus</td><td>764</td></tr><tr><td>El Chavo</td><td>751</td></tr><tr><td>Manage My Pain Pro</td><td>726</td></tr><tr><td>BZ Reminder PRO</td><td>726</td></tr><tr><td>Gunship III Vietnam People AF</td><td>726</td></tr><tr><td>💎 I'm rich</td><td>718</td></tr><tr><td>Tetrobot and Co.</td><td>709</td></tr><tr><td>Age of Conquest: N. America</td><td>659</td></tr><tr><td>FL Racing Manager 2015 Pro</td><td>656</td></tr><tr><td>Absolute RC Heli Simulator</td><td>654</td></tr><tr><td>Rockstars of Ooo</td><td>642</td></tr><tr><td>Math games for kids : times tables training</td><td>630</td></tr><tr><td>I am Bread</td><td>630</td></tr><tr><td>AG Subway Simulator Mobile</td><td>623</td></tr><tr><td>LightMeter (noAds)</td><td>617</td></tr><tr><td>FiSwitch</td><td>615</td></tr><tr><td>Visual Anatomy 2</td><td>576</td></tr><tr><td>My Little Work – Garage</td><td>560</td></tr><tr><td>Neon Glow C - Icon Pack</td><td>557</td></tr><tr><td>PORTABLE SOCCER DX</td><td>552</td></tr><tr><td>TV Guide BR Gold</td><td>544</td></tr><tr><td>bpresso PRO</td><td>515</td></tr><tr><td>New York Mysteries (Full)</td><td>514</td></tr><tr><td>Sago Mini Babies</td><td>506</td></tr><tr><td>MultiPicture Live Wallpaper dn</td><td>505</td></tr><tr><td>Dirt Trackin Sprint Cars</td><td>499</td></tr><tr><td>Acupuncture Assistant</td><td>492</td></tr><tr><td>Lunar Calendar</td><td>484</td></tr><tr><td>Portable Wi-Fi hotspot Premium</td><td>481</td></tr><tr><td>I am rich(premium)</td><td>472</td></tr><tr><td>Penny Finder</td><td>470</td></tr><tr><td>Ghosts'n Goblins MOBILE</td><td>466</td></tr><tr><td>I am Rich Premium Plus</td><td>459</td></tr><tr><td>RAM Cleanup Ad-Free Option</td><td>457</td></tr><tr><td>Paris ci la Sortie du Métro</td><td>453</td></tr><tr><td>EU Flags Live Wallpaper</td><td>444</td></tr><tr><td>BringGo AU & NZ</td><td>440</td></tr><tr><td>Journal Club: Medicine</td><td>432</td></tr><tr><td>Dr. Seuss's ABC</td><td>429</td></tr><tr><td>A Manual of Acupuncture</td><td>428</td></tr><tr><td>Basketball Dynasty Manager 16</td><td>426</td></tr><tr><td>The EO Bar</td><td>416</td></tr><tr><td>Retro City Rampage DX</td><td>416</td></tr><tr><td>Traps n' Gemstones</td><td>413</td></tr><tr><td>Flipped Out! - Powerpuff Girls</td><td>412</td></tr><tr><td>IBM Micromedex Drug Info</td><td>412</td></tr><tr><td>Droid PRoCon BF3</td><td>412</td></tr><tr><td>I am rich VIP</td><td>411</td></tr><tr><td>EMT Review Plus</td><td>398</td></tr><tr><td>Depths of Betrayal CE (Full)</td><td>363</td></tr><tr><td>Chess and Mate</td><td>359</td></tr><tr><td>With Helper Pro Pill Reminder</td><td>358</td></tr><tr><td>Blood Pressure Companion</td><td>356</td></tr><tr><td>Planet O - Icon Pack</td><td>354</td></tr><tr><td>Paramedic Protocol Provider</td><td>342</td></tr><tr><td>Morse Machine for Ham Radio</td><td>341</td></tr><tr><td>FL Racing Manager 2018 Pro</td><td>340</td></tr><tr><td>DC Metro Transit</td><td>339</td></tr><tr><td>Muscle Premium - Human Anatomy, Kinesiology, Bones</td><td>336</td></tr><tr><td>Prime Key for Nougat Launcher& O Launcher &KitKat</td><td>324</td></tr><tr><td>Breathing Zone</td><td>319</td></tr><tr><td>Bixby Button Remapper - bxActions Pro / Coffee</td><td>319</td></tr><tr><td>Vpn Hosts (ad blocker & no root & support ipv6 )</td><td>319</td></tr><tr><td>Fodbold DK Pro</td><td>315</td></tr><tr><td>Guns'n'Glory Zombies Premium</td><td>313</td></tr><tr><td>Trazado de tuberia El Tubero</td><td>313</td></tr><tr><td>Smart Launcher theme b. gold</td><td>291</td></tr><tr><td>Ultimate Watch 2 watch face</td><td>285</td></tr><tr><td>Board Game Stats: Play tracking for tabletop games</td><td>275</td></tr><tr><td>I'm Rich - Trump Edition</td><td>275</td></tr><tr><td>MEGA MAN MOBILE</td><td>267</td></tr><tr><td>Morse Trainer for Ham Radio</td><td>265</td></tr><tr><td>Dr. Panda Farm</td><td>265</td></tr><tr><td>BW-Go</td><td>265</td></tr><tr><td>Pedi STAT</td><td>258</td></tr><tr><td>Advanced EX for KIA</td><td>257</td></tr><tr><td>G-NetTrack Pro</td><td>255</td></tr><tr><td>Pocket RxTx Pro</td><td>253</td></tr><tr><td>Trine 2: Complete Story</td><td>252</td></tr><tr><td>Light X - Icon Pack</td><td>252</td></tr><tr><td>Little Magnet BT Pro</td><td>251</td></tr><tr><td>Whoowasit? - Best kids game!</td><td>248</td></tr><tr><td>Super Resume Builder Pro, CV</td><td>244</td></tr><tr><td>Campervan.Guide Pro</td><td>238</td></tr><tr><td>A41 WatchFace for Android Wear Smart Watch</td><td>231</td></tr><tr><td>[substratum] Vacuum: P</td><td>230</td></tr><tr><td>Remote EX for NISSAN</td><td>223</td></tr><tr><td>I Am Rich</td><td>217</td></tr><tr><td>Pocket Lab Values</td><td>214</td></tr><tr><td>Steam: Rails to Riches</td><td>214</td></tr><tr><td>Ultimate Public Campgrounds (Over 37,100 in US&CA)</td><td>213</td></tr><tr><td>The Secret Daily Teachings</td><td>206</td></tr><tr><td>WhatsFake Pro (Ad free)</td><td>204</td></tr><tr><td>Talkie Pro - Wi-Fi Calling, Chats, File Sharing</td><td>201</td></tr><tr><td>I Am Rich Pro</td><td>201</td></tr><tr><td>Space Z 🌏 🚀Icon Pack Theme</td><td>201</td></tr><tr><td>LocaToWeb - Live GPS tracking</td><td>200</td></tr><tr><td>Smart Wi-Fi Hotspot PRO</td><td>197</td></tr><tr><td>Alizay, pirate girl</td><td>197</td></tr><tr><td>Lanterns: The Harvest Festival</td><td>185</td></tr><tr><td>m>notes notepad</td><td>184</td></tr><tr><td>Vargo Anesthesia Mega App</td><td>184</td></tr><tr><td>I am Rich</td><td>180</td></tr><tr><td>Dots puzzle</td><td>179</td></tr><tr><td>Next Launcher 3D Bold-CF Theme</td><td>175</td></tr><tr><td>Hunt Buddy BC</td><td>172</td></tr><tr><td>go41cx</td><td>171</td></tr><tr><td>My Little Princess : Stores</td><td>169</td></tr><tr><td>Lock 'n' Roll Pro - Ad Free</td><td>169</td></tr><tr><td>Ghouls'n Ghosts MOBILE</td><td>168</td></tr><tr><td>Advanced EX for HYUNDAI</td><td>168</td></tr><tr><td>Online TV CZ/SK PRO</td><td>167</td></tr><tr><td>Morse Decoder for Ham Radio</td><td>166</td></tr><tr><td>Advanced EX for NISSAN</td><td>164</td></tr><tr><td>Paramedic Meds</td><td>163</td></tr><tr><td>Basket Manager 2017 Pro</td><td>163</td></tr><tr><td>X-Plane to GPS</td><td>161</td></tr><tr><td>AnatomyMapp</td><td>160</td></tr><tr><td>CF-Bench Pro</td><td>159</td></tr><tr><td>RPG ブレイジング ソウルズ アクセレイト</td><td>159</td></tr><tr><td>Migraine, Headache Diary HeadApp Pro</td><td>156</td></tr><tr><td>Jump'N'Shoot Attack</td><td>155</td></tr><tr><td>X Launcher Prime: With OS Style Theme & No Ads</td><td>149</td></tr><tr><td>Please Don't Touch Anything 3D</td><td>146</td></tr><tr><td>Avokiddo Emotions</td><td>146</td></tr><tr><td>H*nest Meditation</td><td>145</td></tr><tr><td>Out There Chronicles - Ep. 2</td><td>144</td></tr><tr><td>The Legacy (Full)</td><td>144</td></tr><tr><td>Q Alerts: QAnon Drop Notifications, Research +++</td><td>143</td></tr><tr><td>Learn Music Notes</td><td>143</td></tr><tr><td>Wi-Fi Rabbit Unlock Key</td><td>142</td></tr><tr><td>Advanced EX for FIAT</td><td>138</td></tr><tr><td>R Instructor</td><td>135</td></tr><tr><td>I am Rich Person</td><td>134</td></tr><tr><td>Lab Values + Medical Reference</td><td>133</td></tr><tr><td>Dark Infusion Substratum Theme for Android N & O</td><td>133</td></tr><tr><td>CZ-Cyberon Voice Commander</td><td>131</td></tr><tr><td>Lollipop Launcher Plus</td><td>131</td></tr><tr><td>Ludo - Don't get angry</td><td>131</td></tr><tr><td>Advanced EX for RENAULT</td><td>130</td></tr><tr><td>MC.Fitting</td><td>130</td></tr><tr><td>Pocket AC</td><td>130</td></tr><tr><td>I am rich (Most expensive app)</td><td>129</td></tr><tr><td>PTA Content Master</td><td>128</td></tr><tr><td>F05WatchFace for Android Wear</td><td>127</td></tr><tr><td>ASCCP Mobile</td><td>126</td></tr><tr><td>I am Millionaire - Richest guy in the town</td><td>126</td></tr><tr><td>Kicker U</td><td>124</td></tr><tr><td>Don't Panic with Andrew J.</td><td>124</td></tr><tr><td>Basket Manager 2016 Pro</td><td>117</td></tr><tr><td>Officiel du SCRABBLE LAROUSSE</td><td>116</td></tr><tr><td>Police Field Interview FI Card</td><td>112</td></tr><tr><td>Watch Face BW Inter</td><td>112</td></tr><tr><td>My Virtual Boyfriend</td><td>105</td></tr><tr><td>Medical terms (OFFLINE)</td><td>104</td></tr><tr><td>EMT PASS</td><td>102</td></tr><tr><td>ONScripter Plus (Ad Free)</td><td>100</td></tr><tr><td>Hactar Go</td><td>97</td></tr><tr><td>Toca Mystery House</td><td>96</td></tr><tr><td>Koch Morse Trainer Pro</td><td>94</td></tr><tr><td>I am Rich!</td><td>93</td></tr><tr><td>Ai-Ball AV Recorder</td><td>90</td></tr><tr><td>PitchBlack S - Samsung Substratum Theme “For Oreo”</td><td>90</td></tr><tr><td>Go</td><td>89</td></tr><tr><td>Writing Wizard Premium - Handwriting</td><td>89</td></tr><tr><td>X Home Bar - Home Bar Gesture Pro</td><td>88</td></tr><tr><td>AG Contacts, Premium edition</td><td>88</td></tr><tr><td>FAV KWGT</td><td>88</td></tr><tr><td>BG Monitor Diabetes Pro</td><td>87</td></tr><tr><td>WiFi Monitor Pro - analyzer of Wi-Fi networks</td><td>85</td></tr><tr><td>myGrow</td><td>84</td></tr><tr><td>Basket Manager 2018 Pro</td><td>84</td></tr><tr><td>Next Launcher 3D Theme Hit-B</td><td>83</td></tr><tr><td>BatControl Pro</td><td>83</td></tr><tr><td>DCUO|CR Calculator Pro</td><td>82</td></tr><tr><td>VeinSeek</td><td>79</td></tr><tr><td>Calcium Pro</td><td>77</td></tr><tr><td>NewTek NDI</td><td>77</td></tr><tr><td>Dr. McDougall Mobile Cookbook</td><td>76</td></tr><tr><td>The Artificial Intelligence Project (A.I. Chat)</td><td>76</td></tr><tr><td>Anti Mosquito simulation</td><td>74</td></tr><tr><td>Age of AI: War Strategy</td><td>71</td></tr><tr><td>10,000 Quotes DB (Premium)</td><td>70</td></tr><tr><td>Color Changer Pro [root]</td><td>69</td></tr><tr><td>Ray Financial Calculator Pro</td><td>67</td></tr><tr><td>palmPEDi: Pediatric Tape</td><td>66</td></tr><tr><td>Ad Remove Plugin for App2SD</td><td>66</td></tr><tr><td>CE Map - Interactive Conan Exiles Map</td><td>62</td></tr><tr><td>Gravidez ao Vivo</td><td>61</td></tr><tr><td>FL SW Fishing Regulations</td><td>60</td></tr><tr><td>Pixxy KWGT</td><td>60</td></tr><tr><td>Decibel X PRO - Sound Meter dBA, Noise Detector</td><td>60</td></tr><tr><td>Next Launcher 3D Theme Hit-G</td><td>59</td></tr><tr><td>Égalité et Réconciliation</td><td>58</td></tr><tr><td>Führerschein Klasse CE, LKW 2018</td><td>57</td></tr><tr><td>Calculator</td><td>57</td></tr><tr><td>DW Contacts widget</td><td>56</td></tr><tr><td>X Back - Icon Pack</td><td>56</td></tr><tr><td>E.G. Chess</td><td>56</td></tr><tr><td>Servidor Privado CR y CoC - Royale Servers PRO</td><td>55</td></tr><tr><td>iHunter BC</td><td>55</td></tr><tr><td>DR.MEEP</td><td>54</td></tr><tr><td>boattheory.ch Full 2018</td><td>54</td></tr><tr><td>G-Playlists</td><td>53</td></tr><tr><td>Peppa Pig: Party Time</td><td>52</td></tr><tr><td>Dungeons and Dragons DM Tools</td><td>50</td></tr><tr><td>WIZARD Card Game</td><td>48</td></tr><tr><td>Electrician Calculator Pro</td><td>47</td></tr><tr><td>S Launcher Pro for Galaxy</td><td>47</td></tr><tr><td>17th Edition Cable Sizer</td><td>47</td></tr><tr><td>Sokoban Land DX</td><td>46</td></tr><tr><td>ERres- Emergency Medicine</td><td>45</td></tr><tr><td>MommyMeds</td><td>45</td></tr><tr><td>Detect-O-Gromit (D.O.G 2)</td><td>45</td></tr><tr><td>Fuzzy Numbers: Pre-K Number Foundation</td><td>42</td></tr><tr><td>CV-RECORD Pro</td><td>42</td></tr><tr><td>Arto: f.infrared photo</td><td>41</td></tr><tr><td>InfantRisk Center HCP</td><td>41</td></tr><tr><td>Beck & Bo: Toddler First Words</td><td>41</td></tr><tr><td>I am extremely Rich</td><td>41</td></tr><tr><td>Analog Clock AW-7 PRO</td><td>40</td></tr><tr><td>Greater London A-Z 2016</td><td>40</td></tr><tr><td>YouCamp EU</td><td>39</td></tr><tr><td>SweetLand — Family Board Game</td><td>38</td></tr><tr><td>W-History Standalone</td><td>38</td></tr><tr><td>All-in-One Mahjong 3</td><td>38</td></tr><tr><td>I AM RICH PRO PLUS</td><td>36</td></tr><tr><td>BA Pro Financial Calculator</td><td>36</td></tr><tr><td>EM Launcher Pro</td><td>35</td></tr><tr><td>Fast Tract Diet</td><td>35</td></tr><tr><td>EMT Study - NREMT Test Prep</td><td>35</td></tr><tr><td>AV Tools Pro</td><td>35</td></tr><tr><td>Theme Android P Design for LG V30</td><td>35</td></tr><tr><td>Interactive CT and MRI Anatomy</td><td>35</td></tr><tr><td>Dialer theme G Black Gold</td><td>33</td></tr><tr><td>Advanced EX for MITSUBISHI</td><td>33</td></tr><tr><td>BL PowerPoint Remote</td><td>33</td></tr><tr><td>End Anxiety Pro - Stress, Panic Attack Help</td><td>33</td></tr><tr><td>Wolf of the BF:Commando MOBILE</td><td>32</td></tr><tr><td>Ice Crush 10.000 B.C.</td><td>31</td></tr><tr><td>Ba Financial Calculator plus</td><td>31</td></tr><tr><td>Children Educational Game Full</td><td>30</td></tr><tr><td>Florida Tides & Weather</td><td>30</td></tr><tr><td>Block Buddy</td><td>30</td></tr><tr><td>My baby firework (Remove ad)</td><td>30</td></tr><tr><td>CURSUM B</td><td>30</td></tr><tr><td>Android P | Xperia™ Theme 4800+ icons</td><td>29</td></tr><tr><td>SkyTest BU/GU Lite</td><td>28</td></tr><tr><td>Active Soccer 2 DX</td><td>28</td></tr><tr><td>Math Games for Pre-K - Grade 4</td><td>28</td></tr><tr><td>Asiimov Skin - CS GO Icon Pack</td><td>26</td></tr><tr><td>iFish BC</td><td>25</td></tr><tr><td>G Theme 2 for LG V30, LG G6</td><td>25</td></tr><tr><td>CCHT PREP</td><td>25</td></tr><tr><td>OmniMedix Medical Calculator</td><td>25</td></tr><tr><td>Neon-R (Red)</td><td>25</td></tr><tr><td>B-Grade Renegade</td><td>24</td></tr><tr><td>Cardio Z</td><td>24</td></tr><tr><td>Hospitalist Handbook</td><td>24</td></tr><tr><td>2017 EMRA Antibiotic Guide</td><td>24</td></tr><tr><td>SharedCare™ Co-parenting</td><td>23</td></tr><tr><td>Financial Calculator BA Chien.</td><td>23</td></tr><tr><td>Chinese Chess 3D Online (Xiangqi, 象棋, co tuong)</td><td>23</td></tr><tr><td>Trinomial Factoring Wizard</td><td>22</td></tr><tr><td>pretty Easy privacy p≡p</td><td>21</td></tr><tr><td>Poker Equity Calculator Pro for No Limit Hold'em</td><td>21</td></tr><tr><td>Bitcoin BX Thailand PRO</td><td>21</td></tr><tr><td>Билеты ПДД CD 2019 PRO</td><td>21</td></tr><tr><td>Watch Face Swiss AJ-6</td><td>21</td></tr><tr><td>DS Helpdesk Plus</td><td>21</td></tr><tr><td>GO Contacts EX Black & Grey</td><td>21</td></tr><tr><td>Nightenfell: Shared AR</td><td>20</td></tr><tr><td>EC music dictionary</td><td>20</td></tr><tr><td>AI Draw | Art Filter for Selfie</td><td>20</td></tr><tr><td>ACCDB MDB DB Manager Pro - Editor for MS Access</td><td>19</td></tr><tr><td>CT-REMOTE</td><td>19</td></tr><tr><td>Penny Puss</td><td>19</td></tr><tr><td>Dr. Splorchy Presents Space Heroes</td><td>18</td></tr><tr><td>Pixel Oreo/P Dark White AMOLED UI - Icon Pack</td><td>18</td></tr><tr><td>BL Holo Theme</td><td>18</td></tr><tr><td>FP VoiceBot</td><td>17</td></tr><tr><td>Anna.K Tarot</td><td>17</td></tr><tr><td>Critical Care Paramedic Review</td><td>17</td></tr><tr><td>BJ Bridge Pro 2018</td><td>17</td></tr><tr><td>Blackjack Verite Drills</td><td>17</td></tr><tr><td>Ad Removal: thereisonlywe</td><td>16</td></tr><tr><td>Cardiac diagnosis (heart rate, arrhythmia)</td><td>16</td></tr><tr><td>K.MOJI</td><td>16</td></tr><tr><td>An Elite Warrior Ex</td><td>15</td></tr><tr><td>SCI-FI UI</td><td>15</td></tr><tr><td>BL IP-Camera</td><td>15</td></tr><tr><td>ASRA Coags</td><td>15</td></tr><tr><td>Weather Data CH</td><td>15</td></tr><tr><td>EO Guide</td><td>15</td></tr><tr><td>O Céu e o Inferno</td><td>14</td></tr><tr><td>Shopping List S PRO</td><td>14</td></tr><tr><td>Antenna Tool Premium</td><td>14</td></tr><tr><td>DZ Puzzle</td><td>14</td></tr><tr><td>[Sub/EMUI] P Pro - EMUI 8.1/8.0/5.X Theme</td><td>13</td></tr><tr><td>Bo's Bedtime Story</td><td>13</td></tr><tr><td>Dress Up RagazzA13 DX</td><td>13</td></tr><tr><td>RETRO Shocked DW-6000</td><td>13</td></tr><tr><td>B-52 Spirits of Glory Deluxe</td><td>12</td></tr><tr><td>Radiological Anatomy For FRCR1</td><td>12</td></tr><tr><td>20WPM Amateur ham radio Koch CW Morse code trainer</td><td>12</td></tr><tr><td>Morse Player</td><td>12</td></tr><tr><td>Monastery of El Escorial</td><td>12</td></tr><tr><td>OMEGA Black UI Theme - CM 12+</td><td>12</td></tr><tr><td>Hey AJ! It's Saturday!</td><td>12</td></tr><tr><td>Whist - Tinnitus Relief</td><td>12</td></tr><tr><td>CA Speakers</td><td>12</td></tr><tr><td>W Pro - Weather Forecast & Animated Weather Maps</td><td>11</td></tr><tr><td>Sago Mini Hat Maker</td><td>11</td></tr><tr><td>Navi Radiography Pro</td><td>11</td></tr><tr><td>Frequencies</td><td>11</td></tr><tr><td>TI-Nspire CX Calculator Manual</td><td>11</td></tr><tr><td>Sam.BN Pro</td><td>11</td></tr><tr><td>The Great Wobo Escape Ep.1</td><td>11</td></tr><tr><td>Language Therapy: Aphasia</td><td>10</td></tr><tr><td>G-Force Driving Assistant</td><td>10</td></tr><tr><td>ZombieVital DG</td><td>10</td></tr><tr><td>CW Beacon for Ham Radio</td><td>10</td></tr><tr><td>Bo's School Day</td><td>10</td></tr><tr><td>10 WPM Amateur ham radio CW Morse code trainer</td><td>10</td></tr><tr><td>iScore5 AP Psych</td><td>10</td></tr><tr><td>OptoDrum</td><td>10</td></tr><tr><td>Deaf - Hearing chat device H</td><td>9</td></tr><tr><td>Wuwu & Co.</td><td>9</td></tr><tr><td>Recognise Foot</td><td>9</td></tr><tr><td>CW Studio ®</td><td>9</td></tr><tr><td>Scale Models DB</td><td>9</td></tr><tr><td>Differential Dx</td><td>8</td></tr><tr><td>Sago Mini Big City</td><td>8</td></tr><tr><td>F*ck This Game</td><td>8</td></tr><tr><td>211:CK</td><td>8</td></tr><tr><td>Theme Android P Black design for LG V30</td><td>8</td></tr><tr><td>AH Alarm Panel</td><td>7</td></tr><tr><td>Cossack Dictionary (DN)</td><td>7</td></tr><tr><td>500 AP World History Questions</td><td>7</td></tr><tr><td>CSCS BG (в български)</td><td>7</td></tr><tr><td>Jetting for Honda CR dirt bike</td><td>7</td></tr><tr><td>B-17 Flying Fortress WWII LWP</td><td>7</td></tr><tr><td>CS go bomb simulator</td><td>7</td></tr><tr><td>Chronolink DX</td><td>7</td></tr><tr><td>most expensive app (H)</td><td>6</td></tr><tr><td>Circle Colors Pack-FN Theme</td><td>6</td></tr><tr><td>2 Amateur ham radio CW Morse code practice keys TX</td><td>6</td></tr><tr><td>LTC AS Legal</td><td>6</td></tr><tr><td>Advanced Comprehension Therapy</td><td>6</td></tr><tr><td>Lean EQ</td><td>6</td></tr><tr><td>Bo's Dinnertime Story</td><td>6</td></tr><tr><td>G-NetWiFi Pro</td><td>6</td></tr><tr><td>Diseño de columnas NTC - RSEE 2017</td><td>6</td></tr><tr><td>O'Route Orienteering</td><td>6</td></tr><tr><td>AF-STROKE</td><td>5</td></tr><tr><td>Pacify Exceed (Android P) - Theme for Xperia™</td><td>5</td></tr><tr><td>Volume Control Ex</td><td>5</td></tr><tr><td>Theme Android P Black for LG G7 & V35</td><td>5</td></tr><tr><td>AJ Gray Icon Pack</td><td>5</td></tr><tr><td>Ramfer - CNC Lathe G-code Tool</td><td>5</td></tr><tr><td>BC MVA Fines</td><td>5</td></tr><tr><td>DX Glow - Clock Widget</td><td>5</td></tr><tr><td>Interactive NPC DM Tool</td><td>5</td></tr><tr><td>FO Bixby</td><td>5</td></tr><tr><td>Theme Android P for LG G7 & V35</td><td>5</td></tr><tr><td>Unstoppaball DX</td><td>5</td></tr><tr><td>California Cop Assist CA Cop</td><td>5</td></tr><tr><td>DG Surveyor</td><td>5</td></tr><tr><td>CB Frequencies</td><td>5</td></tr><tr><td>AP Themes for Kustom/KLWP</td><td>5</td></tr><tr><td>Socle Commun BO du 23-04-2015</td><td>4</td></tr><tr><td>Ad Blocker for SayHi</td><td>4</td></tr><tr><td>BL 1-Click Camera</td><td>4</td></tr><tr><td>AJ Blue Icon Pack</td><td>4</td></tr><tr><td>World Racers family board game</td><td>4</td></tr><tr><td>EP Calipers</td><td>4</td></tr><tr><td>P-Home for KLWP</td><td>4</td></tr><tr><td>Analog and Digital Clock AW-7PRO</td><td>4</td></tr><tr><td>Santa's Monster Shootout DX</td><td>4</td></tr><tr><td>Obbligo o Verità? PRO</td><td>4</td></tr><tr><td>Nursing Care Plan NANDA Tables</td><td>4</td></tr><tr><td>FREE CHATS C.L.</td><td>4</td></tr><tr><td>Q Avatar Pro</td><td>4</td></tr><tr><td>Chess of Blades (BL/Yaoi Game) (No VA)</td><td>4</td></tr><tr><td>Phonics Puzzles</td><td>4</td></tr><tr><td>Arrhythmias and Dysrhythmias</td><td>3</td></tr><tr><td>AW Toolbox</td><td>3</td></tr><tr><td>Super Hearing Secret Voices Recorder PRO</td><td>3</td></tr><tr><td>CT and XR Dose Calculator</td><td>3</td></tr><tr><td>The DG Buddy</td><td>3</td></tr><tr><td>ap,wifi testing,iperf,ping,android,Bluetooth,tcp</td><td>3</td></tr><tr><td>Bo's Matching Game</td><td>3</td></tr><tr><td>Jeppesen CR Flight Computer</td><td>3</td></tr><tr><td>BT Speed</td><td>3</td></tr><tr><td>BS Match Maker Premium</td><td>3</td></tr><tr><td>iLauncher OS 12 Pro - Phone X</td><td>3</td></tr><tr><td>IF YOU TO EU PEGO</td><td>3</td></tr><tr><td>Learn Quran with Elif Ba</td><td>3</td></tr><tr><td>Pain Tracker & Diary</td><td>3</td></tr><tr><td>Ability DS UNO</td><td>3</td></tr><tr><td>AP Government Review</td><td>3</td></tr><tr><td>AJ Gray Dark Icon Pack</td><td>2</td></tr><tr><td>FORD V SERIES CALC - NO LIMIT</td><td>2</td></tr><tr><td>J Alvarej Moji</td><td>2</td></tr><tr><td>Dr.Dice - Sic bo analyzer</td><td>2</td></tr><tr><td>Droidbug BusyBox Advance PRO</td><td>2</td></tr><tr><td>Easy Hotspot Ad Free</td><td>2</td></tr><tr><td>DL Image Manager</td><td>2</td></tr><tr><td>FHR 5-Tier 2.0</td><td>2</td></tr><tr><td>Vital Tones EI Pro</td><td>2</td></tr><tr><td>Emergency Brain CT</td><td>2</td></tr><tr><td>Mu.F.O.</td><td>2</td></tr><tr><td>AMBW Dating App: Asian Men Black Women Interracial</td><td>2</td></tr><tr><td>EG Classroom Decimals™</td><td>2</td></tr><tr><td>Ra Ga Ba</td><td>2</td></tr><tr><td>Real Sheet ∞: Pathfinder + DT</td><td>2</td></tr><tr><td>ABG Master</td><td>2</td></tr><tr><td>EF Lens Simulator</td><td>2</td></tr><tr><td>ADS-B Driver</td><td>2</td></tr><tr><td>Pinkalicious Party</td><td>2</td></tr><tr><td>Pistolet FN GP35 expliqué</td><td>2</td></tr><tr><td>Chest CT Sectional Walker</td><td>2</td></tr><tr><td>AX Watch for WatchMaker</td><td>2</td></tr><tr><td>Reading Race 1b: sh, ch words</td><td>2</td></tr><tr><td>CZ-70 (CZ-50) pistol explained</td><td>2</td></tr><tr><td>Galaxian(FC)</td><td>2</td></tr><tr><td>Q-slope</td><td>2</td></tr><tr><td>Abdominal CT Sectional Walker</td><td>2</td></tr><tr><td>FJ Toolkit</td><td>1</td></tr><tr><td>AC DC Power Monitor</td><td>1</td></tr><tr><td>CZ-27 pistol explained</td><td>1</td></tr><tr><td>Técnico Legislativo Câmara Legislativa DF</td><td>1</td></tr><tr><td>Es-Bg Offline Voice Translator</td><td>1</td></tr><tr><td>AP Art History Flashcards</td><td>1</td></tr><tr><td>FN FAL rifle explained</td><td>1</td></tr><tr><td>Hey AJ! It's Bedtime!</td><td>1</td></tr><tr><td>Sic Bo</td><td>1</td></tr><tr><td>Masha and the Bear - Hair Salon and MakeUp Games</td><td>1</td></tr><tr><td>EX File Explorer File Manage Pro</td><td>1</td></tr><tr><td>Alif Ba Ta Bullseye</td><td>1</td></tr><tr><td>AC CE BJT Actorial</td><td>1</td></tr><tr><td>AQ Math Facts</td><td>1</td></tr><tr><td>30WPM Amateur ham radio Koch CW Morse code trainer</td><td>1</td></tr><tr><td>CZ-45 pistol explained</td><td>1</td></tr><tr><td>BL File Explorer</td><td>1</td></tr><tr><td>SLANGY-Perfect BK World Theme</td><td>1</td></tr><tr><td>Pacify (Android P theme) - Theme for Xperia™</td><td>1</td></tr><tr><td>TI-84 CE Graphing Calculator Manual TI 84</td><td>1</td></tr><tr><td>meStudying: AP English Lit</td><td>1</td></tr><tr><td>CI 174 Gray Icon Pack</td><td>1</td></tr><tr><td>Bubble Shooter DX AdFree</td><td>1</td></tr><tr><td>Android P Style Icon Pack</td><td>1</td></tr><tr><td>FN pistol model 1903 explained</td><td>1</td></tr><tr><td>Speech Therapy: F</td><td>1</td></tr><tr><td>USMLE Step 2 CK Flashcards</td><td>1</td></tr><tr><td>Guide to Nikon Df</td><td>1</td></tr><tr><td>UFO-CQ</td><td>1</td></tr><tr><td>LC-DB</td><td>1</td></tr><tr><td>The FN HP pistol explained</td><td>1</td></tr><tr><td>Truck Driving Test Class 3 BC</td><td>1</td></tr><tr><td>PhotoFrame for Synology DS</td><td>1</td></tr><tr><td>The FN \"Baby\" pistol explained</td><td>1</td></tr><tr><td>FN pistol Model 1906 explained</td><td>1</td></tr><tr><td>Eu Sou Rico</td><td>0</td></tr><tr><td>Dz kayas</td><td>0</td></tr><tr><td>Be the Expert in Phlebotomy - Professional Nursing</td><td>0</td></tr><tr><td>DK Primrose for KLWP</td><td>0</td></tr><tr><td>G-NetReport Pro</td><td>0</td></tr><tr><td>Ain Arabic Kids Alif Ba ta</td><td>0</td></tr><tr><td>FN model 1900 pistol explained</td><td>0</td></tr><tr><td>AP Series Solution Pro</td><td>0</td></tr><tr><td>CE Genius Nurses Edition</td><td>0</td></tr><tr><td>Glanceable Ap Watch Face</td><td>0</td></tr><tr><td>I'm Rich/Eu sou Rico/أنا غني/我很有錢</td><td>0</td></tr><tr><td>BP Fitness Lead Scanner</td><td>0</td></tr><tr><td>Michael's AG Sound Board</td><td>0</td></tr><tr><td>AJ Orange Icon Pack</td><td>0</td></tr><tr><td>Android P Home KLWP</td><td>0</td></tr><tr><td>All-night drugstore CI & Price</td><td>0</td></tr><tr><td>Private Dating, Hide App- Blue for PrivacyHider</td><td>0</td></tr><tr><td>amm dz</td><td>0</td></tr><tr><td>CZ-38 (vz 38) pistol explained</td><td>0</td></tr><tr><td>Reksio cz. 1</td><td>0</td></tr><tr><td>Car Driving Theory Test BC</td><td>0</td></tr><tr><td>AJ Turquoise Dark Icon Pack</td><td>0</td></tr><tr><td>Norwegian For Kids & Babies F</td><td>0</td></tr><tr><td>25WPM Amateur ham radio Koch CW Morse code trainer</td><td>0</td></tr><tr><td>Speech Therapy: CH</td><td>0</td></tr><tr><td>Squeezy CF</td><td>0</td></tr><tr><td>Learn CW</td><td>0</td></tr><tr><td>Visualmed</td><td>0</td></tr><tr><td>USB BT Wi-Fi Color Terminal Modem</td><td>0</td></tr><tr><td>Pistolet CZ-70 CZ-50 expliqué</td><td>0</td></tr><tr><td>CW Ringtone (Morse Code generator)</td><td>0</td></tr><tr><td>Bi-Tank Ads Free</td><td>0</td></tr><tr><td>Truth or Dare Pro</td><td>0</td></tr><tr><td>INTERACTIVE CALCULUS PRO</td><td>0</td></tr><tr><td>cronometra-br</td><td>0</td></tr><tr><td>EG | Explore Folegandros</td><td>0</td></tr><tr><td>ReDNAKET DB Normalization Tool</td><td>0</td></tr><tr><td>Pureness Pacify (Android P) - Theme for Xperia™</td><td>0</td></tr><tr><td>YAKALA AY</td><td>0</td></tr><tr><td>Message AI - Write Better Messages</td><td>0</td></tr><tr><td>Schlaumeier</td><td>0</td></tr><tr><td>DM Die Roller 9000</td><td>0</td></tr><tr><td>KeePass DX Pro</td><td>0</td></tr><tr><td>P Icon Pack</td><td>0</td></tr><tr><td>Dive-Store.ch</td><td>0</td></tr><tr><td>PROFESSOR SEE-BA LINGUAGENS E SUAS TECNOLOGIAS</td><td>0</td></tr><tr><td>db Meter - sound level meter with data logging</td><td>0</td></tr><tr><td>D.C. Driving/Walking Tours</td><td>0</td></tr><tr><td>Pistachio Launcher for Android P 9.0</td><td>0</td></tr><tr><td>Bk Bee Sales Manager</td><td>0</td></tr><tr><td>OrthoFlow</td><td>0</td></tr><tr><td>iCluster - The DX-Cluster database</td><td>0</td></tr><tr><td>BS Detector - Diss 'n' Gauges</td><td>0</td></tr><tr><td>CI Attendance</td><td>0</td></tr><tr><td>¡Ay Caramba!</td><td>0</td></tr><tr><td>F-1 watchface by Delta</td><td>0</td></tr><tr><td>EP Cook Book</td><td>0</td></tr><tr><td>Masha and the Bear- House Cleaning Games for Girls</td><td>0</td></tr><tr><td>D+H Reaction Wall</td><td>0</td></tr><tr><td>Cargo de Praça PM DF</td><td>0</td></tr><tr><td>ch-mm Dict</td><td>0</td></tr><tr><td>EU RCD Guide</td><td>0</td></tr><tr><td>Ak Parti Yardım Toplama</td><td>0</td></tr><tr><td>Pistolet FN 1906 expliqué</td><td>0</td></tr><tr><td>Number Therapy</td><td>0</td></tr><tr><td>EP McGuffey Primer</td><td>0</td></tr><tr><td>BI Barcode Scanner</td><td>0</td></tr><tr><td>Eu sou Rico</td><td>0</td></tr><tr><td>Word Search Tab 1 FR</td><td>0</td></tr><tr><td>F Length Sim (no Ads)</td><td>0</td></tr><tr><td>Popsicle Launcher for Android P 9.0 launcher</td><td>0</td></tr><tr><td>EP Coding</td><td>0</td></tr><tr><td>Z PIVOT</td><td>0</td></tr><tr><td>Ay Yıldız - Xperia Live Theme</td><td>0</td></tr><tr><td>Monitor My BP</td><td>0</td></tr><tr><td>CZ-52 pistol explained</td><td>0</td></tr></tbody></table></div>"
      ]
     },
     "metadata": {
      "application/vnd.databricks.v1+output": {
       "addedWidgets": {},
       "aggData": [],
       "aggError": "",
       "aggOverflow": false,
       "aggSchema": [],
       "aggSeriesLimitReached": false,
       "aggType": "",
       "arguments": {},
       "columnCustomDisplayInfos": {},
       "data": [
        [
         "Minecraft",
         4751900
        ],
        [
         "Hitman Sniper",
         408292
        ],
        [
         "Grand Theft Auto: San Andreas",
         348962
        ],
        [
         "Beautiful Widgets Pro",
         195780
        ],
        [
         "Bloons TD 5",
         190086
        ],
        [
         "Where's My Water?",
         188740
        ],
        [
         "Facetune - For Free",
         148659
        ],
        [
         "Card Wars - Adventure Time",
         129603
        ],
        [
         "True Skate",
         129409
        ],
        [
         "HD Widgets",
         117231
        ],
        [
         "Five Nights at Freddy's",
         100805
        ],
        [
         "DraStic DS Emulator",
         87766
        ],
        [
         "Fruit Ninja Classic",
         85468
        ],
        [
         "Hitman GO",
         84114
        ],
        [
         "ES File Explorer/Manager PRO",
         81614
        ],
        [
         "Weather Live",
         76593
        ],
        [
         "Five Nights at Freddy's 2",
         73919
        ],
        [
         "Toca Life: City",
         62185
        ],
        [
         "Cut the Rope GOLD",
         61264
        ],
        [
         "ai.type keyboard Plus + Emoji",
         57076
        ],
        [
         "NBA JAM by EA SPORTS™",
         56444
        ],
        [
         "Threema",
         51110
        ],
        [
         "Day R Premium",
         51068
        ],
        [
         "Ski Safari: Adventure Time",
         48754
        ],
        [
         "Tasker",
         43045
        ],
        [
         "Assassin's Creed Identity",
         42529
        ],
        [
         "Smart Launcher Pro 3",
         40704
        ],
        [
         "Stickman Legends: Shadow Wars",
         38419
        ],
        [
         "Star Wars ™: DIRTY",
         38207
        ],
        [
         "The Game of Life",
         37273
        ],
        [
         "Skip-Bo™",
         33661
        ],
        [
         "Farming Simulator 16",
         32812
        ],
        [
         "Camera FV-5",
         32637
        ],
        [
         "League of Stickman 2018- Ninja Arena PVP(Dreamsky)",
         32496
        ],
        [
         "Lost Journey (Dreamsky)",
         32344
        ],
        [
         "ADWLauncher 1 EX",
         28728
        ],
        [
         "Cameringo+ Filters Camera",
         28107
        ],
        [
         "Five Nights at Freddy's 3",
         27856
        ],
        [
         "Business Calendar Pro",
         27135
        ],
        [
         "aCalendar+ Calendar & Tasks",
         26919
        ],
        [
         "CamScanner (License)",
         26358
        ],
        [
         "Weather & Radar Pro - Ad-Free",
         25243
        ],
        [
         "Sleep as Android Unlock",
         23966
        ],
        [
         "CM Launcher 3D Pro💎",
         23802
        ],
        [
         "TurboScan: scan documents and receipts in PDF",
         22884
        ],
        [
         "Infinity Dungeon VIP",
         21804
        ],
        [
         "Five Nights at Freddy's 4",
         21266
        ],
        [
         "The Room: Old Sins",
         21119
        ],
        [
         "Tiny Scanner Pro: PDF Doc Scan",
         20590
        ],
        [
         "Teeny Titans - Teen Titans Go!",
         20463
        ],
        [
         "Baldur's Gate: Enhanced Edition",
         20101
        ],
        [
         "Clue",
         19922
        ],
        [
         "My Budget Book",
         19784
        ],
        [
         "Relax Melodies P: Sleep Sounds",
         19543
        ],
        [
         "Attack the Light",
         19209
        ],
        [
         "X Construction",
         18612
        ],
        [
         "Puffin Browser Pro",
         18247
        ],
        [
         "Farming Simulator 18",
         18125
        ],
        [
         "Don't Starve: Pocket Edition",
         17988
        ],
        [
         "Battery HD Pro",
         17861
        ],
        [
         "Weather Live Pro",
         17493
        ],
        [
         "Cytus II",
         16851
        ],
        [
         "Five Nights at Freddy's: SL",
         16162
        ],
        [
         "FINAL FANTASY V",
         15924
        ],
        [
         "Tools & Mi Band",
         15753
        ],
        [
         "Mind Games Pro",
         15301
        ],
        [
         "Maps & GPS Navigation OsmAnd+",
         15209
        ],
        [
         "Weather Forecast Pro",
         14051
        ],
        [
         "Koi Live Wallpaper",
         14026
        ],
        [
         "XCOM®: Enemy Within",
         13752
        ],
        [
         "Zombie Avengers:(Dreamsky)Stickman War Z",
         13604
        ],
        [
         "Call of Duty:Black Ops Zombies",
         13004
        ],
        [
         "Lapse It • Time Lapse • Pro",
         12865
        ],
        [
         "Kernel Manager for Franco Kernel ✨",
         12700
        ],
        [
         "The House of Da Vinci",
         12400
        ],
        [
         "Football Manager Mobile 2018",
         11460
        ],
        [
         "CHRONO TRIGGER (Upgrade Ver.)",
         11250
        ],
        [
         "Solitaire+",
         11235
        ],
        [
         "Superbrothers Sword & Sworcery",
         11023
        ],
        [
         "RollerCoaster Tycoon® Classic",
         10795
        ],
        [
         "LEGO ® Batman: Beyond Gotham",
         10758
        ],
        [
         "Shadow Fight 2 Special Edition",
         10440
        ],
        [
         "Alarmy (Sleep If U Can) - Pro",
         10249
        ],
        [
         "Dr. Panda & Toto's Treehouse",
         10189
        ],
        [
         "Deus Ex GO",
         9699
        ],
        [
         "DRAGON QUEST",
         9659
        ],
        [
         "Monument Valley 2",
         9394
        ],
        [
         "Human Anatomy Atlas 2018: Complete 3D Human Body",
         8765
        ],
        [
         "FINAL FANTASY DIMENSIONS",
         8450
        ],
        [
         "Baby Connect (activity log)",
         8343
        ],
        [
         "BusyBox Pro",
         8114
        ],
        [
         "Sonic 4™ Episode I",
         8014
        ],
        [
         "DRAGON QUEST VIII",
         7812
        ],
        [
         "R-TYPE",
         7687
        ],
        [
         "Battleheart Legacy",
         7420
        ],
        [
         "The Escapists",
         7412
        ],
        [
         "Pujie Black Watch Face for Android Wear OS",
         7264
        ],
        [
         "The Hunt for the Lost Treasure",
         7148
        ],
        [
         "Advanced Download Manager Pro",
         6505
        ],
        [
         "My Movies Pro - Movie & TV Collection Library",
         6477
        ],
        [
         "My Talking Pet",
         6238
        ],
        [
         "BackCountry Navigator TOPO GPS PRO",
         6230
        ],
        [
         "Carrier Landings Pro",
         5969
        ],
        [
         "QR Code Pro",
         5865
        ],
        [
         "R-TYPE II",
         5682
        ],
        [
         "Flud (Ad free)",
         5639
        ],
        [
         "WiFi Tether Router",
         5599
        ],
        [
         "ExDialer PRO Key",
         5474
        ],
        [
         "Baldur's Gate II",
         5442
        ],
        [
         "F-Sim Space Shuttle",
         5427
        ],
        [
         "FlashLight HD LED Pro",
         4928
        ],
        [
         "Day Night Live Wallpaper (All)",
         4856
        ],
        [
         "BeFunky Photo Editor Pro",
         4724
        ],
        [
         "Guns'n'Glory WW2 Premium",
         4656
        ],
        [
         "BSPlayer",
         4585
        ],
        [
         "Mupen64Plus AE (N64 Emulator)",
         4569
        ],
        [
         "Z Origins - (Z The Game)",
         4421
        ],
        [
         "Riptide GP: Renegade",
         4328
        ],
        [
         "Pocket Yoga",
         4214
        ],
        [
         "Menstrual Calendar Premium",
         4207
        ],
        [
         "Ulysse Speedometer Pro",
         4140
        ],
        [
         "The World Ends With You",
         4108
        ],
        [
         "Adventure Time Game Wizard",
         4107
        ],
        [
         "Best Park in the Universe",
         3904
        ],
        [
         "CN Superstar Soccer: Goal!!!",
         3863
        ],
        [
         "Meme Generator",
         3771
        ],
        [
         "Dr. Panda Restaurant 2",
         3725
        ],
        [
         "Guns'n'Glory Premium",
         3570
        ],
        [
         "I am rich",
         3547
        ],
        [
         "Toca Life: Hospital",
         3528
        ],
        [
         "Golfshot Plus: Golf GPS",
         3387
        ],
        [
         "DRAGON QUEST VI",
         3358
        ],
        [
         "Silence Premium Do Not Disturb",
         3356
        ],
        [
         "Toca Builders",
         3328
        ],
        [
         "ZOOKEEPER DX TouchEdition",
         3195
        ],
        [
         "Moco+ - Chat, Meet People",
         3091
        ],
        [
         "Essential Anatomy 3",
         3066
        ],
        [
         "MyRadar NOAA Weather Radar Ad Free",
         3005
        ],
        [
         "tTorrent - ad free",
         2976
        ],
        [
         "AJ Jump: Animal Jam Kangaroos!",
         2975
        ],
        [
         "Elemental Knights R Platinum",
         2925
        ],
        [
         "Daily Ab Workout",
         2901
        ],
        [
         "C4droid - C/C++ compiler & IDE",
         2890
        ],
        [
         "Device Info Ex Live Wallpaper",
         2645
        ],
        [
         "DRAGON QUEST II",
         2576
        ],
        [
         "LEGO Batman: DC Super Heroes",
         2557
        ],
        [
         "N Launcher Pro - Nougat 7.0",
         2538
        ],
        [
         "Mike V: Skateboard Party PRO",
         2506
        ],
        [
         "Mental Hospital V",
         2460
        ],
        [
         "CM FILE MANAGER Pro",
         2359
        ],
        [
         "Dr. Panda's Swimming Pool",
         2311
        ],
        [
         "Monash Uni Low FODMAP Diet",
         2270
        ],
        [
         "Tsuro - The Game of the Path",
         2195
        ],
        [
         "My CookBook Pro (Ad Free)",
         2129
        ],
        [
         "Lullaby Add-on for Sleep as Android",
         2057
        ],
        [
         "Teen Titans GO Figure!",
         1985
        ],
        [
         "Automagic * Automation",
         1947
        ],
        [
         "Inventory & Barcode scanner & WIFI scanner",
         1880
        ],
        [
         "I Am Rich Premium",
         1867
        ],
        [
         "FVD Ad-Free",
         1774
        ],
        [
         "Please, Don't Touch Anything",
         1771
        ],
        [
         "Myth Defense 2: DF Platinum",
         1764
        ],
        [
         "Train Sim Pro",
         1763
        ],
        [
         "ZArchiver Donate",
         1721
        ],
        [
         "Learn Italian with MosaLingua",
         1719
        ],
        [
         "PAC-MAN CE DX",
         1692
        ],
        [
         "DRAGON QUEST V",
         1667
        ],
        [
         "DRAGON QUEST III",
         1661
        ],
        [
         "DRAGON QUEST IV",
         1647
        ],
        [
         "Backgammon NJ for Android",
         1644
        ],
        [
         "THE aMAZEing Labyrinth",
         1615
        ],
        [
         "K-@ Mail Pro - Email App",
         1603
        ],
        [
         "Kairo XP (for HD Widgets)",
         1591
        ],
        [
         "weather HD",
         1546
        ],
        [
         "C Locker Pro",
         1531
        ],
        [
         "Out There Chronicles - Ep. 1",
         1516
        ],
        [
         "Swift Dark CM / CM13 Theme",
         1500
        ],
        [
         "Oddworld: New 'n' Tasty",
         1475
        ],
        [
         "Don't Starve: Shipwrecked",
         1468
        ],
        [
         "Medical ID - In Case of Emergency (ICE)",
         1434
        ],
        [
         "Deep Sleep Battery Saver Pro",
         1417
        ],
        [
         "sugar, sugar",
         1405
        ],
        [
         "BlackCam Pro - B&W Camera",
         1376
        ],
        [
         "Battery Notifier Pro BT",
         1363
        ],
        [
         "Muscle Trigger Point Anatomy",
         1361
        ],
        [
         "Dr. Panda Supermarket",
         1357
        ],
        [
         "Al'Quran Bahasa Indonesia PRO",
         1340
        ],
        [
         "European War 6: 1804",
         1330
        ],
        [
         "F-Stop Gallery Pro",
         1302
        ],
        [
         "Paprika Recipe Manager",
         1268
        ],
        [
         "EMT Tutor NREMT-B Study Guide",
         1250
        ],
        [
         "X Launcher Pro - IOS Style Theme & Control Center",
         1216
        ],
        [
         "Formula Cartoon All Stars",
         1213
        ],
        [
         "iBP Blood Pressure",
         1156
        ],
        [
         "Theatre of the Absurd CE(Full)",
         1143
        ],
        [
         "Volume Slider Like Android P Volume Control",
         1129
        ],
        [
         "Dr. Panda Hospital",
         1091
        ],
        [
         "XE Currency Pro",
         1090
        ],
        [
         "Jurassic Life: T Rex Simulator",
         1088
        ],
        [
         "cronometer (ad free)",
         1075
        ],
        [
         "G Cloud Apps Backup Key * root",
         1034
        ],
        [
         "Meditation Studio",
         1026
        ],
        [
         "Dr. Panda Art Class",
         1013
        ],
        [
         "I Can't Wake Up!",
         963
        ],
        [
         "Organizer",
         936
        ],
        [
         "Power Widget",
         928
        ],
        [
         "Stand O’Food® (Full)",
         925
        ],
        [
         "Guns'n'Glory Heroes Premium",
         923
        ],
        [
         "Navigator PRO - GPS Navigation with Offline Maps",
         892
        ],
        [
         "BIG Launcher",
         881
        ],
        [
         "I am Rich Plus",
         856
        ],
        [
         "LEGO® Friends",
         854
        ],
        [
         "X Launcher Pro: PhoneX Theme, OS11 Control Center",
         801
        ],
        [
         "Diabetes & Diet Tracker",
         790
        ],
        [
         "Be Stronger",
         787
        ],
        [
         "iCam - Webcam Video Streaming",
         770
        ],
        [
         "King of Math",
         766
        ],
        [
         "Nighty Night Circus",
         764
        ],
        [
         "El Chavo",
         751
        ],
        [
         "Manage My Pain Pro",
         726
        ],
        [
         "BZ Reminder PRO",
         726
        ],
        [
         "Gunship III Vietnam People AF",
         726
        ],
        [
         "💎 I'm rich",
         718
        ],
        [
         "Tetrobot and Co.",
         709
        ],
        [
         "Age of Conquest: N. America",
         659
        ],
        [
         "FL Racing Manager 2015 Pro",
         656
        ],
        [
         "Absolute RC Heli Simulator",
         654
        ],
        [
         "Rockstars of Ooo",
         642
        ],
        [
         "Math games for kids : times tables training",
         630
        ],
        [
         "I am Bread",
         630
        ],
        [
         "AG Subway Simulator Mobile",
         623
        ],
        [
         "LightMeter (noAds)",
         617
        ],
        [
         "FiSwitch",
         615
        ],
        [
         "Visual Anatomy 2",
         576
        ],
        [
         "My Little Work – Garage",
         560
        ],
        [
         "Neon Glow C - Icon Pack",
         557
        ],
        [
         "PORTABLE SOCCER DX",
         552
        ],
        [
         "TV Guide BR Gold",
         544
        ],
        [
         "bpresso PRO",
         515
        ],
        [
         "New York Mysteries (Full)",
         514
        ],
        [
         "Sago Mini Babies",
         506
        ],
        [
         "MultiPicture Live Wallpaper dn",
         505
        ],
        [
         "Dirt Trackin Sprint Cars",
         499
        ],
        [
         "Acupuncture Assistant",
         492
        ],
        [
         "Lunar Calendar",
         484
        ],
        [
         "Portable Wi-Fi hotspot Premium",
         481
        ],
        [
         "I am rich(premium)",
         472
        ],
        [
         "Penny Finder",
         470
        ],
        [
         "Ghosts'n Goblins MOBILE",
         466
        ],
        [
         "I am Rich Premium Plus",
         459
        ],
        [
         "RAM Cleanup Ad-Free Option",
         457
        ],
        [
         "Paris ci la Sortie du Métro",
         453
        ],
        [
         "EU Flags Live Wallpaper",
         444
        ],
        [
         "BringGo AU & NZ",
         440
        ],
        [
         "Journal Club: Medicine",
         432
        ],
        [
         "Dr. Seuss's ABC",
         429
        ],
        [
         "A Manual of Acupuncture",
         428
        ],
        [
         "Basketball Dynasty Manager 16",
         426
        ],
        [
         "The EO Bar",
         416
        ],
        [
         "Retro City Rampage DX",
         416
        ],
        [
         "Traps n' Gemstones",
         413
        ],
        [
         "Flipped Out! - Powerpuff Girls",
         412
        ],
        [
         "IBM Micromedex Drug Info",
         412
        ],
        [
         "Droid PRoCon BF3",
         412
        ],
        [
         "I am rich VIP",
         411
        ],
        [
         "EMT Review Plus",
         398
        ],
        [
         "Depths of Betrayal CE (Full)",
         363
        ],
        [
         "Chess and Mate",
         359
        ],
        [
         "With Helper Pro Pill Reminder",
         358
        ],
        [
         "Blood Pressure Companion",
         356
        ],
        [
         "Planet O - Icon Pack",
         354
        ],
        [
         "Paramedic Protocol Provider",
         342
        ],
        [
         "Morse Machine for Ham Radio",
         341
        ],
        [
         "FL Racing Manager 2018 Pro",
         340
        ],
        [
         "DC Metro Transit",
         339
        ],
        [
         "Muscle Premium - Human Anatomy, Kinesiology, Bones",
         336
        ],
        [
         "Prime Key for Nougat Launcher& O Launcher &KitKat",
         324
        ],
        [
         "Breathing Zone",
         319
        ],
        [
         "Bixby Button Remapper - bxActions Pro / Coffee",
         319
        ],
        [
         "Vpn Hosts (ad blocker & no root & support ipv6 )",
         319
        ],
        [
         "Fodbold DK Pro",
         315
        ],
        [
         "Guns'n'Glory Zombies Premium",
         313
        ],
        [
         "Trazado de tuberia El Tubero",
         313
        ],
        [
         "Smart Launcher theme b. gold",
         291
        ],
        [
         "Ultimate Watch 2 watch face",
         285
        ],
        [
         "Board Game Stats: Play tracking for tabletop games",
         275
        ],
        [
         "I'm Rich - Trump Edition",
         275
        ],
        [
         "MEGA MAN MOBILE",
         267
        ],
        [
         "Morse Trainer for Ham Radio",
         265
        ],
        [
         "Dr. Panda Farm",
         265
        ],
        [
         "BW-Go",
         265
        ],
        [
         "Pedi STAT",
         258
        ],
        [
         "Advanced EX for KIA",
         257
        ],
        [
         "G-NetTrack Pro",
         255
        ],
        [
         "Pocket RxTx Pro",
         253
        ],
        [
         "Trine 2: Complete Story",
         252
        ],
        [
         "Light X - Icon Pack",
         252
        ],
        [
         "Little Magnet BT Pro",
         251
        ],
        [
         "Whoowasit? - Best kids game!",
         248
        ],
        [
         "Super Resume Builder Pro, CV",
         244
        ],
        [
         "Campervan.Guide Pro",
         238
        ],
        [
         "A41 WatchFace for Android Wear Smart Watch",
         231
        ],
        [
         "[substratum] Vacuum: P",
         230
        ],
        [
         "Remote EX for NISSAN",
         223
        ],
        [
         "I Am Rich",
         217
        ],
        [
         "Pocket Lab Values",
         214
        ],
        [
         "Steam: Rails to Riches",
         214
        ],
        [
         "Ultimate Public Campgrounds (Over 37,100 in US&CA)",
         213
        ],
        [
         "The Secret Daily Teachings",
         206
        ],
        [
         "WhatsFake Pro (Ad free)",
         204
        ],
        [
         "Talkie Pro - Wi-Fi Calling, Chats, File Sharing",
         201
        ],
        [
         "I Am Rich Pro",
         201
        ],
        [
         "Space Z 🌏 🚀Icon Pack Theme",
         201
        ],
        [
         "LocaToWeb - Live GPS tracking",
         200
        ],
        [
         "Smart Wi-Fi Hotspot PRO",
         197
        ],
        [
         "Alizay, pirate girl",
         197
        ],
        [
         "Lanterns: The Harvest Festival",
         185
        ],
        [
         "m>notes notepad",
         184
        ],
        [
         "Vargo Anesthesia Mega App",
         184
        ],
        [
         "I am Rich",
         180
        ],
        [
         "Dots puzzle",
         179
        ],
        [
         "Next Launcher 3D Bold-CF Theme",
         175
        ],
        [
         "Hunt Buddy BC",
         172
        ],
        [
         "go41cx",
         171
        ],
        [
         "My Little Princess : Stores",
         169
        ],
        [
         "Lock 'n' Roll Pro - Ad Free",
         169
        ],
        [
         "Ghouls'n Ghosts MOBILE",
         168
        ],
        [
         "Advanced EX for HYUNDAI",
         168
        ],
        [
         "Online TV CZ/SK PRO",
         167
        ],
        [
         "Morse Decoder for Ham Radio",
         166
        ],
        [
         "Advanced EX for NISSAN",
         164
        ],
        [
         "Paramedic Meds",
         163
        ],
        [
         "Basket Manager 2017 Pro",
         163
        ],
        [
         "X-Plane to GPS",
         161
        ],
        [
         "AnatomyMapp",
         160
        ],
        [
         "CF-Bench Pro",
         159
        ],
        [
         "RPG ブレイジング ソウルズ アクセレイト",
         159
        ],
        [
         "Migraine, Headache Diary HeadApp Pro",
         156
        ],
        [
         "Jump'N'Shoot Attack",
         155
        ],
        [
         "X Launcher Prime: With OS Style Theme & No Ads",
         149
        ],
        [
         "Please Don't Touch Anything 3D",
         146
        ],
        [
         "Avokiddo Emotions",
         146
        ],
        [
         "H*nest Meditation",
         145
        ],
        [
         "Out There Chronicles - Ep. 2",
         144
        ],
        [
         "The Legacy (Full)",
         144
        ],
        [
         "Q Alerts: QAnon Drop Notifications, Research +++",
         143
        ],
        [
         "Learn Music Notes",
         143
        ],
        [
         "Wi-Fi Rabbit Unlock Key",
         142
        ],
        [
         "Advanced EX for FIAT",
         138
        ],
        [
         "R Instructor",
         135
        ],
        [
         "I am Rich Person",
         134
        ],
        [
         "Lab Values + Medical Reference",
         133
        ],
        [
         "Dark Infusion Substratum Theme for Android N & O",
         133
        ],
        [
         "CZ-Cyberon Voice Commander",
         131
        ],
        [
         "Lollipop Launcher Plus",
         131
        ],
        [
         "Ludo - Don't get angry",
         131
        ],
        [
         "Advanced EX for RENAULT",
         130
        ],
        [
         "MC.Fitting",
         130
        ],
        [
         "Pocket AC",
         130
        ],
        [
         "I am rich (Most expensive app)",
         129
        ],
        [
         "PTA Content Master",
         128
        ],
        [
         "F05WatchFace for Android Wear",
         127
        ],
        [
         "ASCCP Mobile",
         126
        ],
        [
         "I am Millionaire - Richest guy in the town",
         126
        ],
        [
         "Kicker U",
         124
        ],
        [
         "Don't Panic with Andrew J.",
         124
        ],
        [
         "Basket Manager 2016 Pro",
         117
        ],
        [
         "Officiel du SCRABBLE LAROUSSE",
         116
        ],
        [
         "Police Field Interview FI Card",
         112
        ],
        [
         "Watch Face BW Inter",
         112
        ],
        [
         "My Virtual Boyfriend",
         105
        ],
        [
         "Medical terms (OFFLINE)",
         104
        ],
        [
         "EMT PASS",
         102
        ],
        [
         "ONScripter Plus (Ad Free)",
         100
        ],
        [
         "Hactar Go",
         97
        ],
        [
         "Toca Mystery House",
         96
        ],
        [
         "Koch Morse Trainer Pro",
         94
        ],
        [
         "I am Rich!",
         93
        ],
        [
         "Ai-Ball AV Recorder",
         90
        ],
        [
         "PitchBlack S - Samsung Substratum Theme “For Oreo”",
         90
        ],
        [
         "Go",
         89
        ],
        [
         "Writing Wizard Premium - Handwriting",
         89
        ],
        [
         "X Home Bar - Home Bar Gesture Pro",
         88
        ],
        [
         "AG Contacts, Premium edition",
         88
        ],
        [
         "FAV KWGT",
         88
        ],
        [
         "BG Monitor Diabetes Pro",
         87
        ],
        [
         "WiFi Monitor Pro - analyzer of Wi-Fi networks",
         85
        ],
        [
         "myGrow",
         84
        ],
        [
         "Basket Manager 2018 Pro",
         84
        ],
        [
         "Next Launcher 3D Theme Hit-B",
         83
        ],
        [
         "BatControl Pro",
         83
        ],
        [
         "DCUO|CR Calculator Pro",
         82
        ],
        [
         "VeinSeek",
         79
        ],
        [
         "Calcium Pro",
         77
        ],
        [
         "NewTek NDI",
         77
        ],
        [
         "Dr. McDougall Mobile Cookbook",
         76
        ],
        [
         "The Artificial Intelligence Project (A.I. Chat)",
         76
        ],
        [
         "Anti Mosquito simulation",
         74
        ],
        [
         "Age of AI: War Strategy",
         71
        ],
        [
         "10,000 Quotes DB (Premium)",
         70
        ],
        [
         "Color Changer Pro [root]",
         69
        ],
        [
         "Ray Financial Calculator Pro",
         67
        ],
        [
         "palmPEDi: Pediatric Tape",
         66
        ],
        [
         "Ad Remove Plugin for App2SD",
         66
        ],
        [
         "CE Map - Interactive Conan Exiles Map",
         62
        ],
        [
         "Gravidez ao Vivo",
         61
        ],
        [
         "FL SW Fishing Regulations",
         60
        ],
        [
         "Pixxy KWGT",
         60
        ],
        [
         "Decibel X PRO - Sound Meter dBA, Noise Detector",
         60
        ],
        [
         "Next Launcher 3D Theme Hit-G",
         59
        ],
        [
         "Égalité et Réconciliation",
         58
        ],
        [
         "Führerschein Klasse CE, LKW 2018",
         57
        ],
        [
         "Calculator",
         57
        ],
        [
         "DW Contacts widget",
         56
        ],
        [
         "X Back - Icon Pack",
         56
        ],
        [
         "E.G. Chess",
         56
        ],
        [
         "Servidor Privado CR y CoC - Royale Servers PRO",
         55
        ],
        [
         "iHunter BC",
         55
        ],
        [
         "DR.MEEP",
         54
        ],
        [
         "boattheory.ch Full 2018",
         54
        ],
        [
         "G-Playlists",
         53
        ],
        [
         "Peppa Pig: Party Time",
         52
        ],
        [
         "Dungeons and Dragons DM Tools",
         50
        ],
        [
         "WIZARD Card Game",
         48
        ],
        [
         "Electrician Calculator Pro",
         47
        ],
        [
         "S Launcher Pro for Galaxy",
         47
        ],
        [
         "17th Edition Cable Sizer",
         47
        ],
        [
         "Sokoban Land DX",
         46
        ],
        [
         "ERres- Emergency Medicine",
         45
        ],
        [
         "MommyMeds",
         45
        ],
        [
         "Detect-O-Gromit (D.O.G 2)",
         45
        ],
        [
         "Fuzzy Numbers: Pre-K Number Foundation",
         42
        ],
        [
         "CV-RECORD Pro",
         42
        ],
        [
         "Arto: f.infrared photo",
         41
        ],
        [
         "InfantRisk Center HCP",
         41
        ],
        [
         "Beck & Bo: Toddler First Words",
         41
        ],
        [
         "I am extremely Rich",
         41
        ],
        [
         "Analog Clock AW-7 PRO",
         40
        ],
        [
         "Greater London A-Z 2016",
         40
        ],
        [
         "YouCamp EU",
         39
        ],
        [
         "SweetLand — Family Board Game",
         38
        ],
        [
         "W-History Standalone",
         38
        ],
        [
         "All-in-One Mahjong 3",
         38
        ],
        [
         "I AM RICH PRO PLUS",
         36
        ],
        [
         "BA Pro Financial Calculator",
         36
        ],
        [
         "EM Launcher Pro",
         35
        ],
        [
         "Fast Tract Diet",
         35
        ],
        [
         "EMT Study - NREMT Test Prep",
         35
        ],
        [
         "AV Tools Pro",
         35
        ],
        [
         "Theme Android P Design for LG V30",
         35
        ],
        [
         "Interactive CT and MRI Anatomy",
         35
        ],
        [
         "Dialer theme G Black Gold",
         33
        ],
        [
         "Advanced EX for MITSUBISHI",
         33
        ],
        [
         "BL PowerPoint Remote",
         33
        ],
        [
         "End Anxiety Pro - Stress, Panic Attack Help",
         33
        ],
        [
         "Wolf of the BF:Commando MOBILE",
         32
        ],
        [
         "Ice Crush 10.000 B.C.",
         31
        ],
        [
         "Ba Financial Calculator plus",
         31
        ],
        [
         "Children Educational Game Full",
         30
        ],
        [
         "Florida Tides & Weather",
         30
        ],
        [
         "Block Buddy",
         30
        ],
        [
         "My baby firework (Remove ad)",
         30
        ],
        [
         "CURSUM B",
         30
        ],
        [
         "Android P | Xperia™ Theme 4800+ icons",
         29
        ],
        [
         "SkyTest BU/GU Lite",
         28
        ],
        [
         "Active Soccer 2 DX",
         28
        ],
        [
         "Math Games for Pre-K - Grade 4",
         28
        ],
        [
         "Asiimov Skin - CS GO Icon Pack",
         26
        ],
        [
         "iFish BC",
         25
        ],
        [
         "G Theme 2 for LG V30, LG G6",
         25
        ],
        [
         "CCHT PREP",
         25
        ],
        [
         "OmniMedix Medical Calculator",
         25
        ],
        [
         "Neon-R (Red)",
         25
        ],
        [
         "B-Grade Renegade",
         24
        ],
        [
         "Cardio Z",
         24
        ],
        [
         "Hospitalist Handbook",
         24
        ],
        [
         "2017 EMRA Antibiotic Guide",
         24
        ],
        [
         "SharedCare™ Co-parenting",
         23
        ],
        [
         "Financial Calculator BA Chien.",
         23
        ],
        [
         "Chinese Chess 3D Online (Xiangqi, 象棋, co tuong)",
         23
        ],
        [
         "Trinomial Factoring Wizard",
         22
        ],
        [
         "pretty Easy privacy p≡p",
         21
        ],
        [
         "Poker Equity Calculator Pro for No Limit Hold'em",
         21
        ],
        [
         "Bitcoin BX Thailand PRO",
         21
        ],
        [
         "Билеты ПДД CD 2019 PRO",
         21
        ],
        [
         "Watch Face Swiss AJ-6",
         21
        ],
        [
         "DS Helpdesk Plus",
         21
        ],
        [
         "GO Contacts EX Black & Grey",
         21
        ],
        [
         "Nightenfell: Shared AR",
         20
        ],
        [
         "EC music dictionary",
         20
        ],
        [
         "AI Draw | Art Filter for Selfie",
         20
        ],
        [
         "ACCDB MDB DB Manager Pro - Editor for MS Access",
         19
        ],
        [
         "CT-REMOTE",
         19
        ],
        [
         "Penny Puss",
         19
        ],
        [
         "Dr. Splorchy Presents Space Heroes",
         18
        ],
        [
         "Pixel Oreo/P Dark White AMOLED UI - Icon Pack",
         18
        ],
        [
         "BL Holo Theme",
         18
        ],
        [
         "FP VoiceBot",
         17
        ],
        [
         "Anna.K Tarot",
         17
        ],
        [
         "Critical Care Paramedic Review",
         17
        ],
        [
         "BJ Bridge Pro 2018",
         17
        ],
        [
         "Blackjack Verite Drills",
         17
        ],
        [
         "Ad Removal: thereisonlywe",
         16
        ],
        [
         "Cardiac diagnosis (heart rate, arrhythmia)",
         16
        ],
        [
         "K.MOJI",
         16
        ],
        [
         "An Elite Warrior Ex",
         15
        ],
        [
         "SCI-FI UI",
         15
        ],
        [
         "BL IP-Camera",
         15
        ],
        [
         "ASRA Coags",
         15
        ],
        [
         "Weather Data CH",
         15
        ],
        [
         "EO Guide",
         15
        ],
        [
         "O Céu e o Inferno",
         14
        ],
        [
         "Shopping List S PRO",
         14
        ],
        [
         "Antenna Tool Premium",
         14
        ],
        [
         "DZ Puzzle",
         14
        ],
        [
         "[Sub/EMUI] P Pro - EMUI 8.1/8.0/5.X Theme",
         13
        ],
        [
         "Bo's Bedtime Story",
         13
        ],
        [
         "Dress Up RagazzA13 DX",
         13
        ],
        [
         "RETRO Shocked DW-6000",
         13
        ],
        [
         "B-52 Spirits of Glory Deluxe",
         12
        ],
        [
         "Radiological Anatomy For FRCR1",
         12
        ],
        [
         "20WPM Amateur ham radio Koch CW Morse code trainer",
         12
        ],
        [
         "Morse Player",
         12
        ],
        [
         "Monastery of El Escorial",
         12
        ],
        [
         "OMEGA Black UI Theme - CM 12+",
         12
        ],
        [
         "Hey AJ! It's Saturday!",
         12
        ],
        [
         "Whist - Tinnitus Relief",
         12
        ],
        [
         "CA Speakers",
         12
        ],
        [
         "W Pro - Weather Forecast & Animated Weather Maps",
         11
        ],
        [
         "Sago Mini Hat Maker",
         11
        ],
        [
         "Navi Radiography Pro",
         11
        ],
        [
         "Frequencies",
         11
        ],
        [
         "TI-Nspire CX Calculator Manual",
         11
        ],
        [
         "Sam.BN Pro",
         11
        ],
        [
         "The Great Wobo Escape Ep.1",
         11
        ],
        [
         "Language Therapy: Aphasia",
         10
        ],
        [
         "G-Force Driving Assistant",
         10
        ],
        [
         "ZombieVital DG",
         10
        ],
        [
         "CW Beacon for Ham Radio",
         10
        ],
        [
         "Bo's School Day",
         10
        ],
        [
         "10 WPM Amateur ham radio CW Morse code trainer",
         10
        ],
        [
         "iScore5 AP Psych",
         10
        ],
        [
         "OptoDrum",
         10
        ],
        [
         "Deaf - Hearing chat device H",
         9
        ],
        [
         "Wuwu & Co.",
         9
        ],
        [
         "Recognise Foot",
         9
        ],
        [
         "CW Studio ®",
         9
        ],
        [
         "Scale Models DB",
         9
        ],
        [
         "Differential Dx",
         8
        ],
        [
         "Sago Mini Big City",
         8
        ],
        [
         "F*ck This Game",
         8
        ],
        [
         "211:CK",
         8
        ],
        [
         "Theme Android P Black design for LG V30",
         8
        ],
        [
         "AH Alarm Panel",
         7
        ],
        [
         "Cossack Dictionary (DN)",
         7
        ],
        [
         "500 AP World History Questions",
         7
        ],
        [
         "CSCS BG (в български)",
         7
        ],
        [
         "Jetting for Honda CR dirt bike",
         7
        ],
        [
         "B-17 Flying Fortress WWII LWP",
         7
        ],
        [
         "CS go bomb simulator",
         7
        ],
        [
         "Chronolink DX",
         7
        ],
        [
         "most expensive app (H)",
         6
        ],
        [
         "Circle Colors Pack-FN Theme",
         6
        ],
        [
         "2 Amateur ham radio CW Morse code practice keys TX",
         6
        ],
        [
         "LTC AS Legal",
         6
        ],
        [
         "Advanced Comprehension Therapy",
         6
        ],
        [
         "Lean EQ",
         6
        ],
        [
         "Bo's Dinnertime Story",
         6
        ],
        [
         "G-NetWiFi Pro",
         6
        ],
        [
         "Diseño de columnas NTC - RSEE 2017",
         6
        ],
        [
         "O'Route Orienteering",
         6
        ],
        [
         "AF-STROKE",
         5
        ],
        [
         "Pacify Exceed (Android P) - Theme for Xperia™",
         5
        ],
        [
         "Volume Control Ex",
         5
        ],
        [
         "Theme Android P Black for LG G7 & V35",
         5
        ],
        [
         "AJ Gray Icon Pack",
         5
        ],
        [
         "Ramfer - CNC Lathe G-code Tool",
         5
        ],
        [
         "BC MVA Fines",
         5
        ],
        [
         "DX Glow - Clock Widget",
         5
        ],
        [
         "Interactive NPC DM Tool",
         5
        ],
        [
         "FO Bixby",
         5
        ],
        [
         "Theme Android P for LG G7 & V35",
         5
        ],
        [
         "Unstoppaball DX",
         5
        ],
        [
         "California Cop Assist CA Cop",
         5
        ],
        [
         "DG Surveyor",
         5
        ],
        [
         "CB Frequencies",
         5
        ],
        [
         "AP Themes for Kustom/KLWP",
         5
        ],
        [
         "Socle Commun BO du 23-04-2015",
         4
        ],
        [
         "Ad Blocker for SayHi",
         4
        ],
        [
         "BL 1-Click Camera",
         4
        ],
        [
         "AJ Blue Icon Pack",
         4
        ],
        [
         "World Racers family board game",
         4
        ],
        [
         "EP Calipers",
         4
        ],
        [
         "P-Home for KLWP",
         4
        ],
        [
         "Analog and Digital Clock AW-7PRO",
         4
        ],
        [
         "Santa's Monster Shootout DX",
         4
        ],
        [
         "Obbligo o Verità? PRO",
         4
        ],
        [
         "Nursing Care Plan NANDA Tables",
         4
        ],
        [
         "FREE CHATS C.L.",
         4
        ],
        [
         "Q Avatar Pro",
         4
        ],
        [
         "Chess of Blades (BL/Yaoi Game) (No VA)",
         4
        ],
        [
         "Phonics Puzzles",
         4
        ],
        [
         "Arrhythmias and Dysrhythmias",
         3
        ],
        [
         "AW Toolbox",
         3
        ],
        [
         "Super Hearing Secret Voices Recorder PRO",
         3
        ],
        [
         "CT and XR Dose Calculator",
         3
        ],
        [
         "The DG Buddy",
         3
        ],
        [
         "ap,wifi testing,iperf,ping,android,Bluetooth,tcp",
         3
        ],
        [
         "Bo's Matching Game",
         3
        ],
        [
         "Jeppesen CR Flight Computer",
         3
        ],
        [
         "BT Speed",
         3
        ],
        [
         "BS Match Maker Premium",
         3
        ],
        [
         "iLauncher OS 12 Pro - Phone X",
         3
        ],
        [
         "IF YOU TO EU PEGO",
         3
        ],
        [
         "Learn Quran with Elif Ba",
         3
        ],
        [
         "Pain Tracker & Diary",
         3
        ],
        [
         "Ability DS UNO",
         3
        ],
        [
         "AP Government Review",
         3
        ],
        [
         "AJ Gray Dark Icon Pack",
         2
        ],
        [
         "FORD V SERIES CALC - NO LIMIT",
         2
        ],
        [
         "J Alvarej Moji",
         2
        ],
        [
         "Dr.Dice - Sic bo analyzer",
         2
        ],
        [
         "Droidbug BusyBox Advance PRO",
         2
        ],
        [
         "Easy Hotspot Ad Free",
         2
        ],
        [
         "DL Image Manager",
         2
        ],
        [
         "FHR 5-Tier 2.0",
         2
        ],
        [
         "Vital Tones EI Pro",
         2
        ],
        [
         "Emergency Brain CT",
         2
        ],
        [
         "Mu.F.O.",
         2
        ],
        [
         "AMBW Dating App: Asian Men Black Women Interracial",
         2
        ],
        [
         "EG Classroom Decimals™",
         2
        ],
        [
         "Ra Ga Ba",
         2
        ],
        [
         "Real Sheet ∞: Pathfinder + DT",
         2
        ],
        [
         "ABG Master",
         2
        ],
        [
         "EF Lens Simulator",
         2
        ],
        [
         "ADS-B Driver",
         2
        ],
        [
         "Pinkalicious Party",
         2
        ],
        [
         "Pistolet FN GP35 expliqué",
         2
        ],
        [
         "Chest CT Sectional Walker",
         2
        ],
        [
         "AX Watch for WatchMaker",
         2
        ],
        [
         "Reading Race 1b: sh, ch words",
         2
        ],
        [
         "CZ-70 (CZ-50) pistol explained",
         2
        ],
        [
         "Galaxian(FC)",
         2
        ],
        [
         "Q-slope",
         2
        ],
        [
         "Abdominal CT Sectional Walker",
         2
        ],
        [
         "FJ Toolkit",
         1
        ],
        [
         "AC DC Power Monitor",
         1
        ],
        [
         "CZ-27 pistol explained",
         1
        ],
        [
         "Técnico Legislativo Câmara Legislativa DF",
         1
        ],
        [
         "Es-Bg Offline Voice Translator",
         1
        ],
        [
         "AP Art History Flashcards",
         1
        ],
        [
         "FN FAL rifle explained",
         1
        ],
        [
         "Hey AJ! It's Bedtime!",
         1
        ],
        [
         "Sic Bo",
         1
        ],
        [
         "Masha and the Bear - Hair Salon and MakeUp Games",
         1
        ],
        [
         "EX File Explorer File Manage Pro",
         1
        ],
        [
         "Alif Ba Ta Bullseye",
         1
        ],
        [
         "AC CE BJT Actorial",
         1
        ],
        [
         "AQ Math Facts",
         1
        ],
        [
         "30WPM Amateur ham radio Koch CW Morse code trainer",
         1
        ],
        [
         "CZ-45 pistol explained",
         1
        ],
        [
         "BL File Explorer",
         1
        ],
        [
         "SLANGY-Perfect BK World Theme",
         1
        ],
        [
         "Pacify (Android P theme) - Theme for Xperia™",
         1
        ],
        [
         "TI-84 CE Graphing Calculator Manual TI 84",
         1
        ],
        [
         "meStudying: AP English Lit",
         1
        ],
        [
         "CI 174 Gray Icon Pack",
         1
        ],
        [
         "Bubble Shooter DX AdFree",
         1
        ],
        [
         "Android P Style Icon Pack",
         1
        ],
        [
         "FN pistol model 1903 explained",
         1
        ],
        [
         "Speech Therapy: F",
         1
        ],
        [
         "USMLE Step 2 CK Flashcards",
         1
        ],
        [
         "Guide to Nikon Df",
         1
        ],
        [
         "UFO-CQ",
         1
        ],
        [
         "LC-DB",
         1
        ],
        [
         "The FN HP pistol explained",
         1
        ],
        [
         "Truck Driving Test Class 3 BC",
         1
        ],
        [
         "PhotoFrame for Synology DS",
         1
        ],
        [
         "The FN \"Baby\" pistol explained",
         1
        ],
        [
         "FN pistol Model 1906 explained",
         1
        ],
        [
         "Eu Sou Rico",
         0
        ],
        [
         "Dz kayas",
         0
        ],
        [
         "Be the Expert in Phlebotomy - Professional Nursing",
         0
        ],
        [
         "DK Primrose for KLWP",
         0
        ],
        [
         "G-NetReport Pro",
         0
        ],
        [
         "Ain Arabic Kids Alif Ba ta",
         0
        ],
        [
         "FN model 1900 pistol explained",
         0
        ],
        [
         "AP Series Solution Pro",
         0
        ],
        [
         "CE Genius Nurses Edition",
         0
        ],
        [
         "Glanceable Ap Watch Face",
         0
        ],
        [
         "I'm Rich/Eu sou Rico/أنا غني/我很有錢",
         0
        ],
        [
         "BP Fitness Lead Scanner",
         0
        ],
        [
         "Michael's AG Sound Board",
         0
        ],
        [
         "AJ Orange Icon Pack",
         0
        ],
        [
         "Android P Home KLWP",
         0
        ],
        [
         "All-night drugstore CI & Price",
         0
        ],
        [
         "Private Dating, Hide App- Blue for PrivacyHider",
         0
        ],
        [
         "amm dz",
         0
        ],
        [
         "CZ-38 (vz 38) pistol explained",
         0
        ],
        [
         "Reksio cz. 1",
         0
        ],
        [
         "Car Driving Theory Test BC",
         0
        ],
        [
         "AJ Turquoise Dark Icon Pack",
         0
        ],
        [
         "Norwegian For Kids & Babies F",
         0
        ],
        [
         "25WPM Amateur ham radio Koch CW Morse code trainer",
         0
        ],
        [
         "Speech Therapy: CH",
         0
        ],
        [
         "Squeezy CF",
         0
        ],
        [
         "Learn CW",
         0
        ],
        [
         "Visualmed",
         0
        ],
        [
         "USB BT Wi-Fi Color Terminal Modem",
         0
        ],
        [
         "Pistolet CZ-70 CZ-50 expliqué",
         0
        ],
        [
         "CW Ringtone (Morse Code generator)",
         0
        ],
        [
         "Bi-Tank Ads Free",
         0
        ],
        [
         "Truth or Dare Pro",
         0
        ],
        [
         "INTERACTIVE CALCULUS PRO",
         0
        ],
        [
         "cronometra-br",
         0
        ],
        [
         "EG | Explore Folegandros",
         0
        ],
        [
         "ReDNAKET DB Normalization Tool",
         0
        ],
        [
         "Pureness Pacify (Android P) - Theme for Xperia™",
         0
        ],
        [
         "YAKALA AY",
         0
        ],
        [
         "Message AI - Write Better Messages",
         0
        ],
        [
         "Schlaumeier",
         0
        ],
        [
         "DM Die Roller 9000",
         0
        ],
        [
         "KeePass DX Pro",
         0
        ],
        [
         "P Icon Pack",
         0
        ],
        [
         "Dive-Store.ch",
         0
        ],
        [
         "PROFESSOR SEE-BA LINGUAGENS E SUAS TECNOLOGIAS",
         0
        ],
        [
         "db Meter - sound level meter with data logging",
         0
        ],
        [
         "D.C. Driving/Walking Tours",
         0
        ],
        [
         "Pistachio Launcher for Android P 9.0",
         0
        ],
        [
         "Bk Bee Sales Manager",
         0
        ],
        [
         "OrthoFlow",
         0
        ],
        [
         "iCluster - The DX-Cluster database",
         0
        ],
        [
         "BS Detector - Diss 'n' Gauges",
         0
        ],
        [
         "CI Attendance",
         0
        ],
        [
         "¡Ay Caramba!",
         0
        ],
        [
         "F-1 watchface by Delta",
         0
        ],
        [
         "EP Cook Book",
         0
        ],
        [
         "Masha and the Bear- House Cleaning Games for Girls",
         0
        ],
        [
         "D+H Reaction Wall",
         0
        ],
        [
         "Cargo de Praça PM DF",
         0
        ],
        [
         "ch-mm Dict",
         0
        ],
        [
         "EU RCD Guide",
         0
        ],
        [
         "Ak Parti Yardım Toplama",
         0
        ],
        [
         "Pistolet FN 1906 expliqué",
         0
        ],
        [
         "Number Therapy",
         0
        ],
        [
         "EP McGuffey Primer",
         0
        ],
        [
         "BI Barcode Scanner",
         0
        ],
        [
         "Eu sou Rico",
         0
        ],
        [
         "Word Search Tab 1 FR",
         0
        ],
        [
         "F Length Sim (no Ads)",
         0
        ],
        [
         "Popsicle Launcher for Android P 9.0 launcher",
         0
        ],
        [
         "EP Coding",
         0
        ],
        [
         "Z PIVOT",
         0
        ],
        [
         "Ay Yıldız - Xperia Live Theme",
         0
        ],
        [
         "Monitor My BP",
         0
        ],
        [
         "CZ-52 pistol explained",
         0
        ]
       ],
       "datasetInfos": [],
       "dbfsResultPath": null,
       "isJsonSchema": true,
       "metadata": {
        "dataframeName": "_sqldf",
        "executionCount": 52
       },
       "overflow": false,
       "plotOptions": {
        "customPlotOptions": {},
        "displayType": "table",
        "pivotAggregation": null,
        "pivotColumns": null,
        "xColumns": null,
        "yColumns": null
       },
       "removedWidgets": [],
       "schema": [
        {
         "metadata": "{}",
         "name": "app",
         "type": "\"string\""
        },
        {
         "metadata": "{}",
         "name": "Top_Reviews",
         "type": "\"long\""
        }
       ],
       "type": "table"
      }
     },
     "output_type": "display_data"
    }
   ],
   "source": [
    "%sql \n",
    "SELECT app, SUM(Reviews) AS Top_Reviews \n",
    "FROM apps \n",
    "WHERE Type='Paid' \n",
    "GROUP BY app \n",
    "ORDER BY Top_Reviews DESC;"
   ]
  },
  {
   "cell_type": "code",
   "execution_count": 0,
   "metadata": {
    "application/vnd.databricks.v1+cell": {
     "cellMetadata": {},
     "inputWidgets": {},
     "nuid": "14d85122-4c97-41e0-bbd0-08f6784e9979",
     "showTitle": false,
     "title": ""
    }
   },
   "outputs": [],
   "source": []
  }
 ],
 "metadata": {
  "application/vnd.databricks.v1+notebook": {
   "dashboards": [],
   "language": "python",
   "notebookMetadata": {
    "mostRecentlyExecutedCommandWithImplicitDF": {
     "commandId": 1883758587523875,
     "dataframes": [
      "_sqldf"
     ]
    },
    "pythonIndentUnit": 4
   },
   "notebookName": "Pyspark",
   "widgets": {}
  }
 },
 "nbformat": 4,
 "nbformat_minor": 0
}
